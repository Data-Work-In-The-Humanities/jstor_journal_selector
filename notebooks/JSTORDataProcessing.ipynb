{
 "cells": [
  {
   "cell_type": "markdown",
   "metadata": {},
   "source": [
    "# JSTOR Data Processing and Cleaning"
   ]
  },
  {
   "cell_type": "markdown",
   "metadata": {},
   "source": [
    "This notebook processes and cleans the full JSTOR data title, primarily focused on processing dates, establishing publication lineage, binning data, adding in wiki data, and creating a final dataframe for analysis."
   ]
  },
  {
   "cell_type": "markdown",
   "metadata": {},
   "source": [
    "### Load Libraries"
   ]
  },
  {
   "cell_type": "code",
   "execution_count": 1,
   "metadata": {},
   "outputs": [],
   "source": [
    "import pandas as pd\n",
    "import numpy as np\n",
    "import altair as alt\n",
    "import os\n",
    "from datetime import datetime\n",
    "import glob\n",
    "alt.renderers.enable(\"mimetype\")\n",
    "alt.data_transformers.enable('default', max_rows=None)\n",
    "from tqdm.notebook import tqdm\n",
    "import warnings\n",
    "warnings.filterwarnings('ignore')\n",
    "import sys\n",
    "sys.path.append(\"../\")\n",
    "from scripts.utils import *"
   ]
  },
  {
   "cell_type": "markdown",
   "metadata": {},
   "source": [
    "#### Set Data Directory"
   ]
  },
  {
   "cell_type": "code",
   "execution_count": 2,
   "metadata": {},
   "outputs": [
    {
     "data": {
      "text/html": [
       "<pre style=\"white-space:pre;overflow-x:auto;line-height:normal;font-family:Menlo,'DejaVu Sans Mono',consolas,'Courier New',monospace\"><span style=\"color: #000080; text-decoration-color: #000080; font-weight: bold\">JSTOR journal selector data directory path set to ..</span><span style=\"color: #800080; text-decoration-color: #800080; font-weight: bold\">/data/public_data/</span>\n",
       "</pre>\n"
      ],
      "text/plain": [
       "\u001b[1;34mJSTOR journal selector data directory path set to ..\u001b[0m\u001b[1;35m/data/public_data/\u001b[0m\n"
      ]
     },
     "metadata": {},
     "output_type": "display_data"
    }
   ],
   "source": [
    "set_data_directory_path(\"../data/public_data/\")\n",
    "data_directory_path = get_data_directory_path()"
   ]
  },
  {
   "cell_type": "markdown",
   "metadata": {},
   "source": [
    "## JSTOR All Journals"
   ]
  },
  {
   "cell_type": "markdown",
   "metadata": {},
   "source": [
    "### Load and Clean Data"
   ]
  },
  {
   "cell_type": "code",
   "execution_count": 3,
   "metadata": {},
   "outputs": [],
   "source": [
    "def get_most_recent_file_by_date(dir_path, file_pattern):\n",
    "    # Get list of all files matching the pattern\n",
    "    files = glob.glob(os.path.join(dir_path, file_pattern))\n",
    "    \n",
    "    # Function to extract date from filename\n",
    "    def extract_date(filename):\n",
    "        date_str = filename.split('_')[-1].replace('.txt', '')\n",
    "        return datetime.strptime(date_str, '%Y-%m-%d')\n",
    "\n",
    "    # Find the file with the latest date in its name\n",
    "    most_recent_file = max(files, key=extract_date)\n",
    "    \n",
    "    return most_recent_file\n",
    "\n",
    "# Use the function to get the most recent file by date in filename\n",
    "most_recent_file = get_most_recent_file_by_date(f'{data_directory_path}jstor_titles', 'JSTOR_Global_AllArchiveTitles_*.txt')\n",
    "global_txt_file = pd.read_csv(most_recent_file, sep=\"\\t\")"
   ]
  },
  {
   "cell_type": "code",
   "execution_count": 4,
   "metadata": {},
   "outputs": [
    {
     "data": {
      "text/html": [
       "<pre style=\"white-space:pre;overflow-x:auto;line-height:normal;font-family:Menlo,'DejaVu Sans Mono',consolas,'Courier New',monospace\">Currently, there are <span style=\"color: #008080; text-decoration-color: #008080; font-weight: bold\">4497</span> titles in the JSTOR Global All Archive Titles list, created on <span style=\"color: #008080; text-decoration-color: #008080; font-weight: bold\">2024</span>-<span style=\"color: #008080; text-decoration-color: #008080; font-weight: bold\">02</span>-<span style=\"color: #008080; text-decoration-color: #008080; font-weight: bold\">21</span>.\n",
       "</pre>\n"
      ],
      "text/plain": [
       "Currently, there are \u001b[1;36m4497\u001b[0m titles in the JSTOR Global All Archive Titles list, created on \u001b[1;36m2024\u001b[0m-\u001b[1;36m02\u001b[0m-\u001b[1;36m21\u001b[0m.\n"
      ]
     },
     "metadata": {},
     "output_type": "display_data"
    }
   ],
   "source": [
    "console.print(f\"Currently, there are {len(global_txt_file)} titles in the JSTOR Global All Archive Titles list, created on {most_recent_file.split('_')[-1].replace('.txt', '')}.\")"
   ]
  },
  {
   "cell_type": "markdown",
   "metadata": {},
   "source": [
    "#### Trace Lineage and Parent Publications"
   ]
  },
  {
   "cell_type": "markdown",
   "metadata": {},
   "source": [
    "While there are individual publication titles, there are also parent publications that contain multiple titles. We need to trace the lineage of these publications to ensure that we are not double counting publications and also in case, one wants to use lineage to select titles with the most coverage."
   ]
  },
  {
   "cell_type": "code",
   "execution_count": 5,
   "metadata": {},
   "outputs": [
    {
     "data": {
      "application/vnd.jupyter.widget-view+json": {
       "model_id": "3bc26a216cb045d8972eca4ae17c2af8",
       "version_major": 2,
       "version_minor": 0
      },
      "text/plain": [
       "Tracing Lineage:   0%|          | 0/4497 [00:00<?, ?it/s]"
      ]
     },
     "metadata": {},
     "output_type": "display_data"
    },
    {
     "data": {
      "application/vnd.jupyter.widget-view+json": {
       "model_id": "7e31cbdb0ce64de69a4de6a90f63730b",
       "version_major": 2,
       "version_minor": 0
      },
      "text/plain": [
       "Mapping Parent:   0%|          | 0/4497 [00:00<?, ?it/s]"
      ]
     },
     "metadata": {},
     "output_type": "display_data"
    }
   ],
   "source": [
    "global_txt_file['grouped_id'] = global_txt_file.preceding_publication_title_id.fillna(global_txt_file.title_id)\n",
    "# Function to trace the lineage of a publication\n",
    "def trace_lineage(title_id, df):\n",
    "    preceding_id = df[df['title_id'] == title_id]['preceding_publication_title_id'].iloc[0]\n",
    "    if pd.isna(preceding_id):\n",
    "        return title_id\n",
    "    else:\n",
    "        return trace_lineage(preceding_id, df)\n",
    "\n",
    "tqdm.pandas(desc=\"Tracing Lineage\")\n",
    "# Apply the function to create a new column for lineage\n",
    "global_txt_file['lineage'] = global_txt_file['title_id'].progress_apply(lambda x: trace_lineage(x, global_txt_file))\n",
    "\n",
    "# Function to map each publication to its parent\n",
    "def map_parent(title_id, df):\n",
    "    parent_id = df[df['title_id'] == title_id]['parent_publication_title_id'].iloc[0]\n",
    "    return parent_id if not pd.isna(parent_id) else title_id\n",
    "\n",
    "tqdm.pandas(desc=\"Mapping Parent\")\n",
    "# Apply the function to create a new column for parent\n",
    "global_txt_file['parent'] = global_txt_file['title_id'].progress_apply(lambda x: map_parent(x, global_txt_file))"
   ]
  },
  {
   "cell_type": "code",
   "execution_count": 6,
   "metadata": {},
   "outputs": [
    {
     "data": {
      "application/vnd.vegalite.v5+json": {
       "$schema": "https://vega.github.io/schema/vega-lite/v5.6.1.json",
       "config": {
        "axisY": {
         "titleAngle": 0,
         "titleX": -10,
         "titleY": -10
        },
        "view": {
         "continuousHeight": 300,
         "continuousWidth": 300
        }
       },
       "data": {
        "name": "data-033f8dde97cc68273b36b30d1b0e619e"
       },
       "datasets": {
        "data-033f8dde97cc68273b36b30d1b0e619e": [
         {
          "lineage": "conncommschoj",
          "title_count": 18
         },
         {
          "lineage": "histsocisocala",
          "title_count": 13
         },
         {
          "lineage": "philtran1665167",
          "title_count": 12
         },
         {
          "lineage": "abstpapeprinphil",
          "title_count": 10
         },
         {
          "lineage": "jstatmedi1892",
          "title_count": 9
         },
         {
          "lineage": "jethnsocilond184",
          "title_count": 9
         },
         {
          "lineage": "procria1836",
          "title_count": 9
         },
         {
          "lineage": "advopeace1834",
          "title_count": 9
         },
         {
          "lineage": "provmedsurgj1840",
          "title_count": 8
         },
         {
          "lineage": "bulesocistiifizi",
          "title_count": 8
         },
         {
          "lineage": "newsgenepracaba",
          "title_count": 8
         },
         {
          "lineage": "folklorepaysan",
          "title_count": 7
         },
         {
          "lineage": "armyordnance",
          "title_count": 7
         },
         {
          "lineage": "annesoci1896",
          "title_count": 7
         },
         {
          "lineage": "mathtids",
          "title_count": 7
         },
         {
          "lineage": "bullsocibotabelg",
          "title_count": 7
         },
         {
          "lineage": "chilmusebull",
          "title_count": 7
         },
         {
          "lineage": "assurancemag",
          "title_count": 7
         },
         {
          "lineage": "carldrambull",
          "title_count": 6
         },
         {
          "lineage": "jsocicomplegi",
          "title_count": 6
         },
         {
          "lineage": "sankhya",
          "title_count": 6
         },
         {
          "lineage": "transkilkarchsoc",
          "title_count": 6
         },
         {
          "lineage": "congraherharuni",
          "title_count": 6
         },
         {
          "lineage": "ornioolosemi",
          "title_count": 6
         },
         {
          "lineage": "scieprog",
          "title_count": 6
         },
         {
          "lineage": "forehistnews",
          "title_count": 6
         },
         {
          "lineage": "statlocataxanati",
          "title_count": 6
         },
         {
          "lineage": "hebrewstudent",
          "title_count": 6
         },
         {
          "lineage": "jlibrhisto",
          "title_count": 6
         },
         {
          "lineage": "jpreshistsoci",
          "title_count": 6
         },
         {
          "lineage": "procannumeetbusi",
          "title_count": 6
         },
         {
          "lineage": "zeitpfla",
          "title_count": 6
         },
         {
          "lineage": "sewaworkj",
          "title_count": 6
         },
         {
          "lineage": "cactusj",
          "title_count": 6
         },
         {
          "lineage": "weekabstsanirepo",
          "title_count": 6
         },
         {
          "lineage": "annahisteconsoc",
          "title_count": 5
         },
         {
          "lineage": "zeithochmund",
          "title_count": 5
         },
         {
          "lineage": "jamerinstcrimlaw",
          "title_count": 5
         },
         {
          "lineage": "hoosierfolkbull",
          "title_count": 5
         },
         {
          "lineage": "jappmet",
          "title_count": 5
         },
         {
          "lineage": "prostatsoclon",
          "title_count": 5
         },
         {
          "lineage": "cahisemiecon",
          "title_count": 5
         },
         {
          "lineage": "jvoyadeconavimod",
          "title_count": 5
         },
         {
          "lineage": "bullinstscieecon",
          "title_count": 5
         },
         {
          "lineage": "wildlifenews",
          "title_count": 5
         },
         {
          "lineage": "annaphil",
          "title_count": 5
         },
         {
          "lineage": "procannumeetame2",
          "title_count": 5
         },
         {
          "lineage": "audivisucommrev",
          "title_count": 5
         },
         {
          "lineage": "numismaticj",
          "title_count": 5
         },
         {
          "lineage": "techwrit",
          "title_count": 5
         },
         {
          "lineage": "rassagriinducomm",
          "title_count": 5
         },
         {
          "lineage": "messmars",
          "title_count": 5
         },
         {
          "lineage": "annaunivtoscsez2",
          "title_count": 5
         },
         {
          "lineage": "revubiblcritfran",
          "title_count": 5
         },
         {
          "lineage": "bullabasectax",
          "title_count": 5
         },
         {
          "lineage": "boleinfosobrestu",
          "title_count": 5
         },
         {
          "lineage": "histresewestpenn",
          "title_count": 5
         },
         {
          "lineage": "englfolkdancsoci",
          "title_count": 5
         },
         {
          "lineage": "newturstugrous",
          "title_count": 5
         },
         {
          "lineage": "opresrendrashake",
          "title_count": 5
         },
         {
          "lineage": "issueincrim",
          "title_count": 5
         },
         {
          "lineage": "musefineartbull",
          "title_count": 5
         },
         {
          "lineage": "bolebiblantramer",
          "title_count": 5
         },
         {
          "lineage": "junhighclearhous",
          "title_count": 5
         },
         {
          "lineage": "britjsocimedi",
          "title_count": 5
         },
         {
          "lineage": "newsprogpublconc",
          "title_count": 5
         },
         {
          "lineage": "siclannuproc",
          "title_count": 5
         },
         {
          "lineage": "jbritinstinteaff",
          "title_count": 5
         },
         {
          "lineage": "tranjewihiststud",
          "title_count": 5
         },
         {
          "lineage": "charorgarevi",
          "title_count": 5
         },
         {
          "lineage": "eductraiment1966",
          "title_count": 5
         },
         {
          "lineage": "repomeetassoamer",
          "title_count": 5
         },
         {
          "lineage": "bullnewyorkmusi",
          "title_count": 5
         },
         {
          "lineage": "amerlawregi1852",
          "title_count": 5
         },
         {
          "lineage": "trasocauteng",
          "title_count": 5
         },
         {
          "lineage": "zeitvergspradeut",
          "title_count": 5
         },
         {
          "lineage": "prasofseannoam",
          "title_count": 4
         },
         {
          "lineage": "soutpolisciequar",
          "title_count": 4
         },
         {
          "lineage": "annanutralim",
          "title_count": 4
         },
         {
          "lineage": "coursestudy",
          "title_count": 4
         },
         {
          "lineage": "monakunslite",
          "title_count": 4
         },
         {
          "lineage": "busohiprfr",
          "title_count": 4
         },
         {
          "lineage": "amercollbull",
          "title_count": 4
         },
         {
          "lineage": "amresoeaeufotr",
          "title_count": 4
         },
         {
          "lineage": "newssectrealprop",
          "title_count": 4
         },
         {
          "lineage": "interpretations",
          "title_count": 4
         },
         {
          "lineage": "publamereconasso",
          "title_count": 4
         },
         {
          "lineage": "archgescmedi",
          "title_count": 4
         },
         {
          "lineage": "slavyearbookamer",
          "title_count": 4
         },
         {
          "lineage": "tranamerphilasso",
          "title_count": 4
         },
         {
          "lineage": "aavnewsletter",
          "title_count": 4
         },
         {
          "lineage": "coordinator",
          "title_count": 4
         },
         {
          "lineage": "pakistanforum",
          "title_count": 4
         },
         {
          "lineage": "bulllingsociamer",
          "title_count": 4
         },
         {
          "lineage": "amerhistmaga",
          "title_count": 4
         },
         {
          "lineage": "bamerteslavonic",
          "title_count": 4
         },
         {
          "lineage": "procannumeetwest",
          "title_count": 4
         },
         {
          "lineage": "proasilannmeet",
          "title_count": 4
         },
         {
          "lineage": "newsletterais",
          "title_count": 4
         },
         {
          "lineage": "mathteacher",
          "title_count": 4
         },
         {
          "lineage": "amerjnumibullam2",
          "title_count": 4
         },
         {
          "lineage": "iberamerarch",
          "title_count": 4
         },
         {
          "lineage": "cahihistguer",
          "title_count": 4
         },
         {
          "lineage": "jspanstud20cent",
          "title_count": 4
         },
         {
          "lineage": "folklorerecord",
          "title_count": 4
         },
         {
          "lineage": "jamergeogstatsoc",
          "title_count": 4
         },
         {
          "lineage": "sirwjhookrepokew",
          "title_count": 4
         },
         {
          "lineage": "digesocscireschi",
          "title_count": 4
         },
         {
          "lineage": "newyorktimecurrh",
          "title_count": 4
         },
         {
          "lineage": "newsbullrockmoun",
          "title_count": 4
         },
         {
          "lineage": "angofilotanuhung",
          "title_count": 4
         },
         {
          "lineage": "weekhealinde",
          "title_count": 4
         },
         {
          "lineage": "bullisragerosoci",
          "title_count": 4
         },
         {
          "lineage": "bullartinstchic1",
          "title_count": 4
         },
         {
          "lineage": "invitro",
          "title_count": 4
         },
         {
          "lineage": "bulpopdevstucen",
          "title_count": 4
         },
         {
          "lineage": "bulsocprefra1904",
          "title_count": 4
         },
         {
          "lineage": "jcentmissvall",
          "title_count": 4
         },
         {
          "lineage": "bouwsteenen",
          "title_count": 4
         },
         {
          "lineage": "chymia",
          "title_count": 4
         },
         {
          "lineage": "tranmodelangasso",
          "title_count": 4
         },
         {
          "lineage": "irisartsrevi1984",
          "title_count": 4
         },
         {
          "lineage": "bullgraymemobota",
          "title_count": 4
         },
         {
          "lineage": "empiforej",
          "title_count": 4
         },
         {
          "lineage": "transoclon",
          "title_count": 4
         },
         {
          "lineage": "newsassopolilega",
          "title_count": 4
         },
         {
          "lineage": "annahitoacad",
          "title_count": 4
         },
         {
          "lineage": "studengl",
          "title_count": 4
         },
         {
          "lineage": "bulnatassnuredu",
          "title_count": 4
         },
         {
          "lineage": "revhismodcon1899",
          "title_count": 4
         },
         {
          "lineage": "poenewsletter",
          "title_count": 4
         },
         {
          "lineage": "operresequar1950",
          "title_count": 4
         },
         {
          "lineage": "jroyageogsocilon",
          "title_count": 4
         },
         {
          "lineage": "airpowehist",
          "title_count": 4
         },
         {
          "lineage": "blackview",
          "title_count": 4
         },
         {
          "lineage": "procpapebiblsoci",
          "title_count": 4
         },
         {
          "lineage": "jmycology",
          "title_count": 4
         },
         {
          "lineage": "genpaprisins",
          "title_count": 4
         },
         {
          "lineage": "bullsocitoscorti",
          "title_count": 4
         },
         {
          "lineage": "jceylbranroya",
          "title_count": 4
         },
         {
          "lineage": "quarnewsgardhist",
          "title_count": 4
         },
         {
          "lineage": "annurepofogg",
          "title_count": 4
         },
         {
          "lineage": "annrepdantesoc",
          "title_count": 4
         },
         {
          "lineage": "selpapamesocchre",
          "title_count": 4
         },
         {
          "lineage": "intefamiplandige",
          "title_count": 4
         },
         {
          "lineage": "acadmanaexec",
          "title_count": 4
         },
         {
          "lineage": "intejahrgesc",
          "title_count": 4
         },
         {
          "lineage": "krituebedeutgese",
          "title_count": 4
         },
         {
          "lineage": "egyeszem",
          "title_count": 4
         },
         {
          "lineage": "irishjurist1848",
          "title_count": 4
         },
         {
          "lineage": "padamona",
          "title_count": 4
         },
         {
          "lineage": "comphuma",
          "title_count": 4
         },
         {
          "lineage": "newsamerbarasso",
          "title_count": 4
         },
         {
          "lineage": "marytidenews",
          "title_count": 4
         },
         {
          "lineage": "consbylawsnystat",
          "title_count": 4
         },
         {
          "lineage": "irisjagrirese",
          "title_count": 4
         },
         {
          "lineage": "illiagriecon",
          "title_count": 4
         },
         {
          "lineage": "contcanaecon",
          "title_count": 4
         },
         {
          "lineage": "modelangquar1897",
          "title_count": 4
         },
         {
          "lineage": "procamersocimicr",
          "title_count": 4
         },
         {
          "lineage": "obsidian1975",
          "title_count": 4
         },
         {
          "lineage": "offiarchplan",
          "title_count": 4
         },
         {
          "lineage": "pubseriesclag",
          "title_count": 4
         },
         {
          "lineage": "blackfriars",
          "title_count": 4
         },
         {
          "lineage": "junivfilmproas",
          "title_count": 4
         },
         {
          "lineage": "milbmemofundqua3",
          "title_count": 4
         },
         {
          "lineage": "bullassoadvainst",
          "title_count": 3
         },
         {
          "lineage": "inducrisquar",
          "title_count": 3
         },
         {
          "lineage": "newspoestudassoc",
          "title_count": 3
         },
         {
          "lineage": "trankansacadsci2",
          "title_count": 3
         },
         {
          "lineage": "anuario",
          "title_count": 3
         },
         {
          "lineage": "publprodrevi",
          "title_count": 3
         },
         {
          "lineage": "counantheducnews",
          "title_count": 3
         },
         {
          "lineage": "medzotaz",
          "title_count": 3
         },
         {
          "lineage": "archnedekerk",
          "title_count": 3
         },
         {
          "lineage": "archkerkgescinzn",
          "title_count": 3
         },
         {
          "lineage": "notikonibotagart",
          "title_count": 3
         },
         {
          "lineage": "traninstbritgeo2",
          "title_count": 3
         },
         {
          "lineage": "tranamerentosoci",
          "title_count": 3
         },
         {
          "lineage": "publsociadvascan",
          "title_count": 3
         },
         {
          "lineage": "pubelefaksermatf",
          "title_count": 3
         },
         {
          "lineage": "bassofineartsyal",
          "title_count": 3
         },
         {
          "lineage": "leaflet",
          "title_count": 3
         },
         {
          "lineage": "restmananote",
          "title_count": 3
         },
         {
          "lineage": "jratimechanal",
          "title_count": 3
         },
         {
          "lineage": "newsassoprestech",
          "title_count": 3
         },
         {
          "lineage": "mongsocinews",
          "title_count": 3
         },
         {
          "lineage": "bullamerinstpers",
          "title_count": 3
         },
         {
          "lineage": "sociscienewsbull",
          "title_count": 3
         },
         {
          "lineage": "bullamergrouinte",
          "title_count": 3
         },
         {
          "lineage": "modechinlitenews",
          "title_count": 3
         },
         {
          "lineage": "revuhistdoctecon",
          "title_count": 3
         },
         {
          "lineage": "archreseteac",
          "title_count": 3
         },
         {
          "lineage": "sourhistoreg",
          "title_count": 3
         },
         {
          "lineage": "fresinvebiol",
          "title_count": 3
         },
         {
          "lineage": "belljeconmanasci",
          "title_count": 3
         },
         {
          "lineage": "geoganna",
          "title_count": 3
         },
         {
          "lineage": "zeitdeutpalaver2",
          "title_count": 3
         },
         {
          "lineage": "procbearworkinte",
          "title_count": 3
         },
         {
          "lineage": "tranglasarchsoci",
          "title_count": 3
         },
         {
          "lineage": "backworlpoli",
          "title_count": 3
         },
         {
          "lineage": "revuseizsiec",
          "title_count": 3
         },
         {
          "lineage": "ohiosociologist",
          "title_count": 3
         },
         {
          "lineage": "oestbotawoch",
          "title_count": 3
         },
         {
          "lineage": "auslandsrecht",
          "title_count": 3
         },
         {
          "lineage": "esprit1932",
          "title_count": 3
         },
         {
          "lineage": "quarbullnuttorni",
          "title_count": 3
         },
         {
          "lineage": "hadaarkh",
          "title_count": 3
         },
         {
          "lineage": "newsconfgroufren",
          "title_count": 3
         },
         {
          "lineage": "phylon19401956",
          "title_count": 3
         },
         {
          "lineage": "tranapolassoprom",
          "title_count": 3
         },
         {
          "lineage": "publflorhistsoci",
          "title_count": 3
         },
         {
          "lineage": "botabull",
          "title_count": 3
         },
         {
          "lineage": "pubfcmanthroser",
          "title_count": 3
         },
         {
          "lineage": "fedebull",
          "title_count": 3
         },
         {
          "lineage": "hollquar",
          "title_count": 3
         },
         {
          "lineage": "summprocofficomm",
          "title_count": 3
         },
         {
          "lineage": "familylawyer",
          "title_count": 3
         },
         {
          "lineage": "procfloracadscie",
          "title_count": 3
         },
         {
          "lineage": "biodlett",
          "title_count": 3
         },
         {
          "lineage": "bulnorbirbanass",
          "title_count": 3
         },
         {
          "lineage": "fooddrugcosmlawq",
          "title_count": 3
         },
         {
          "lineage": "fordenvilawrepo",
          "title_count": 3
         },
         {
          "lineage": "jracedeve",
          "title_count": 3
         },
         {
          "lineage": "newforcomfran",
          "title_count": 3
         },
         {
          "lineage": "franwparschyb",
          "title_count": 3
         },
         {
          "lineage": "atlatijd",
          "title_count": 3
         },
         {
          "lineage": "atiqhebrseri",
          "title_count": 3
         },
         {
          "lineage": "jamersocisafeeng",
          "title_count": 3
         },
         {
          "lineage": "bullarchamerart",
          "title_count": 3
         },
         {
          "lineage": "rechtheoancimedi",
          "title_count": 3
         },
         {
          "lineage": "armytranj",
          "title_count": 3
         },
         {
          "lineage": "nejeconbusi",
          "title_count": 3
         },
         {
          "lineage": "text",
          "title_count": 3
         },
         {
          "lineage": "bulfrihissocphi",
          "title_count": 3
         },
         {
          "lineage": "repoworlcongjewi",
          "title_count": 3
         },
         {
          "lineage": "jillistathists",
          "title_count": 3
         },
         {
          "lineage": "memoinstpacirela",
          "title_count": 3
         },
         {
          "lineage": "infobullsocilati",
          "title_count": 3
         },
         {
          "lineage": "stafpapeintemone",
          "title_count": 3
         },
         {
          "lineage": "archrechwirt",
          "title_count": 3
         },
         {
          "lineage": "musisupebull",
          "title_count": 3
         },
         {
          "lineage": "sungstudnews",
          "title_count": 3
         },
         {
          "lineage": "ediproannmeesec",
          "title_count": 3
         },
         {
          "lineage": "bulletinmensuel",
          "title_count": 3
         },
         {
          "lineage": "newengrev",
          "title_count": 3
         },
         {
          "lineage": "bullcollartasso",
          "title_count": 3
         },
         {
          "lineage": "thecollector",
          "title_count": 3
         },
         {
          "lineage": "suppgeogj",
          "title_count": 3
         },
         {
          "lineage": "ekontids",
          "title_count": 3
         },
         {
          "lineage": "parnassus",
          "title_count": 3
         },
         {
          "lineage": "elemenglrevi",
          "title_count": 3
         },
         {
          "lineage": "schoolcounselor",
          "title_count": 3
         },
         {
          "lineage": "princollnews",
          "title_count": 3
         },
         {
          "lineage": "trollopian",
          "title_count": 3
         },
         {
          "lineage": "nornotque",
          "title_count": 3
         },
         {
          "lineage": "healeducmono",
          "title_count": 3
         },
         {
          "lineage": "vietpers",
          "title_count": 3
         },
         {
          "lineage": "folklorestudies",
          "title_count": 3
         },
         {
          "lineage": "soutasiajsoci",
          "title_count": 3
         },
         {
          "lineage": "erato",
          "title_count": 3
         },
         {
          "lineage": "morparbe",
          "title_count": 3
         },
         {
          "lineage": "14centengmystnew",
          "title_count": 3
         },
         {
          "lineage": "bulljewipaleexpl",
          "title_count": 3
         },
         {
          "lineage": "centreviartsscie",
          "title_count": 3
         },
         {
          "lineage": "willmarycollpape",
          "title_count": 3
         },
         {
          "lineage": "proccolowategrou",
          "title_count": 3
         },
         {
          "lineage": "calihistsociquar",
          "title_count": 3
         },
         {
          "lineage": "iahccjnewsletter",
          "title_count": 3
         },
         {
          "lineage": "jstraitsrsa",
          "title_count": 3
         },
         {
          "lineage": "advicounbull",
          "title_count": 3
         },
         {
          "lineage": "advarchmeththeo",
          "title_count": 3
         },
         {
          "lineage": "jintefolkmusicou",
          "title_count": 3
         },
         {
          "lineage": "univjbusi",
          "title_count": 3
         },
         {
          "lineage": "publamerjewihist",
          "title_count": 3
         },
         {
          "lineage": "renaissancenews",
          "title_count": 3
         },
         {
          "lineage": "jnatiassobiblins",
          "title_count": 3
         },
         {
          "lineage": "caravelle1963",
          "title_count": 3
         },
         {
          "lineage": "jintearthschnres",
          "title_count": 3
         },
         {
          "lineage": "saisreview2",
          "title_count": 3
         },
         {
          "lineage": "univmalalawrevi",
          "title_count": 3
         },
         {
          "lineage": "schoolandcollege",
          "title_count": 3
         },
         {
          "lineage": "manainte",
          "title_count": 3
         },
         {
          "lineage": "japplsoci",
          "title_count": 3
         },
         {
          "lineage": "thales",
          "title_count": 3
         },
         {
          "lineage": "newmexianthr",
          "title_count": 3
         },
         {
          "lineage": "czechslovsocrev",
          "title_count": 3
         },
         {
          "lineage": "newafrmussoc",
          "title_count": 3
         },
         {
          "lineage": "procameracadarts",
          "title_count": 3
         },
         {
          "lineage": "bullannuinstfran",
          "title_count": 3
         },
         {
          "lineage": "actasocimedisupp",
          "title_count": 3
         },
         {
          "lineage": "actasocimediscan",
          "title_count": 3
         },
         {
          "lineage": "wallrichjahr1924",
          "title_count": 3
         },
         {
          "lineage": "actapsycpsycorth",
          "title_count": 3
         },
         {
          "lineage": "theophil",
          "title_count": 3
         },
         {
          "lineage": "carlnews",
          "title_count": 3
         },
         {
          "lineage": "jcorreduc1949",
          "title_count": 3
         },
         {
          "lineage": "trimrepoohioherp",
          "title_count": 3
         },
         {
          "lineage": "afristudbull",
          "title_count": 3
         },
         {
          "lineage": "jkoreanstudies",
          "title_count": 3
         },
         {
          "lineage": "jinteamerstud",
          "title_count": 3
         },
         {
          "lineage": "scierepotokybunr",
          "title_count": 3
         },
         {
          "lineage": "revubibl1892",
          "title_count": 3
         },
         {
          "lineage": "compass",
          "title_count": 3
         },
         {
          "lineage": "thepublhealj",
          "title_count": 3
         },
         {
          "lineage": "jthirtiessoc",
          "title_count": 3
         },
         {
          "lineage": "masseducbull",
          "title_count": 3
         },
         {
          "lineage": "moduseloglaw",
          "title_count": 3
         },
         {
          "lineage": "bullamerlibrasso",
          "title_count": 3
         },
         {
          "lineage": "netjhouenvres",
          "title_count": 3
         },
         {
          "lineage": "kansasjsoci",
          "title_count": 3
         },
         {
          "lineage": "communistaffairs",
          "title_count": 3
         },
         {
          "lineage": "amercathsocirevi",
          "title_count": 3
         },
         {
          "lineage": "suppjroyastatsoc",
          "title_count": 3
         },
         {
          "lineage": "procmusiasso",
          "title_count": 3
         },
         {
          "lineage": "jjosconsocnews",
          "title_count": 3
         },
         {
          "lineage": "feuirout",
          "title_count": 3
         },
         {
          "lineage": "ameracadnote",
          "title_count": 3
         },
         {
          "lineage": "sanitariandenver",
          "title_count": 3
         },
         {
          "lineage": "living",
          "title_count": 3
         },
         {
          "lineage": "tranrasgrbritire",
          "title_count": 3
         },
         {
          "lineage": "negramerliteforu",
          "title_count": 3
         },
         {
          "lineage": "commrepopresannu",
          "title_count": 3
         },
         {
          "lineage": "manpunemreseafri",
          "title_count": 3
         },
         {
          "lineage": "ynaticounmeasuse",
          "title_count": 3
         },
         {
          "lineage": "reviresevisuenvi",
          "title_count": 3
         },
         {
          "lineage": "amermarkj",
          "title_count": 3
         },
         {
          "lineage": "hebraica",
          "title_count": 3
         },
         {
          "lineage": "annanatumusewien",
          "title_count": 3
         },
         {
          "lineage": "jsocicine",
          "title_count": 3
         },
         {
          "lineage": "aborsurvrepo",
          "title_count": 3
         },
         {
          "lineage": "supppapeamerscho",
          "title_count": 3
         },
         {
          "lineage": "torreya",
          "title_count": 3
         },
         {
          "lineage": "chropolietra",
          "title_count": 3
         },
         {
          "lineage": "vergilius1938",
          "title_count": 3
         },
         {
          "lineage": "bullunivlondsupp",
          "title_count": 3
         },
         {
          "lineage": "annurepomusefin2",
          "title_count": 3
         },
         {
          "lineage": "mensundarbe",
          "title_count": 3
         },
         {
          "lineage": "annurepoassoimpr",
          "title_count": 3
         },
         {
          "lineage": "speceducreha",
          "title_count": 3
         },
         {
          "lineage": "zeitpsycmedi",
          "title_count": 3
         },
         {
          "lineage": "bulamassunivprof",
          "title_count": 3
         },
         {
          "lineage": "merrpalmquar1954",
          "title_count": 3
         },
         {
          "lineage": "annarevo",
          "title_count": 3
         },
         {
          "lineage": "rivistordellfil2",
          "title_count": 3
         },
         {
          "lineage": "bullsocdehisfra",
          "title_count": 3
         },
         {
          "lineage": "bullpennmuse",
          "title_count": 3
         },
         {
          "lineage": "assoencoetudgrec",
          "title_count": 3
         },
         {
          "lineage": "abstbota",
          "title_count": 3
         },
         {
          "lineage": "bullnewyorkshake",
          "title_count": 3
         },
         {
          "lineage": "publamerstatasso",
          "title_count": 3
         },
         {
          "lineage": "metrmuseartbull",
          "title_count": 3
         },
         {
          "lineage": "bullshawsociamer",
          "title_count": 3
         },
         {
          "lineage": "annamathstat",
          "title_count": 3
         },
         {
          "lineage": "jarcheduc194719",
          "title_count": 3
         },
         {
          "lineage": "revuneoscol",
          "title_count": 3
         },
         {
          "lineage": "actalingacadscie",
          "title_count": 3
         },
         {
          "lineage": "jdeveread",
          "title_count": 3
         },
         {
          "lineage": "newyorklatileaf",
          "title_count": 3
         },
         {
          "lineage": "mathnewslett",
          "title_count": 3
         },
         {
          "lineage": "demoecon",
          "title_count": 3
         },
         {
          "lineage": "chilenviquar",
          "title_count": 3
         },
         {
          "lineage": "antjeurcul",
          "title_count": 3
         },
         {
          "lineage": "busilawmemo",
          "title_count": 3
         },
         {
          "lineage": "jahrkoenpreukuns",
          "title_count": 3
         },
         {
          "lineage": "buldecartsoc",
          "title_count": 3
         },
         {
          "lineage": "buldetmusart",
          "title_count": 3
         },
         {
          "lineage": "amtlberikoenkuns",
          "title_count": 3
         },
         {
          "lineage": "deutrechzeit",
          "title_count": 3
         },
         {
          "lineage": "intelawarmeconfc",
          "title_count": 3
         },
         {
          "lineage": "sociometry",
          "title_count": 3
         },
         {
          "lineage": "zeitsociwirt",
          "title_count": 3
         },
         {
          "lineage": "jnewsassoteacjap",
          "title_count": 3
         },
         {
          "lineage": "intejethi",
          "title_count": 2
         },
         {
          "lineage": "soutjphil",
          "title_count": 2
         },
         {
          "lineage": "chrointevendoc",
          "title_count": 2
         },
         {
          "lineage": "westpoliquar",
          "title_count": 2
         },
         {
          "lineage": "polimethod",
          "title_count": 2
         },
         {
          "lineage": "rivintscisocdiau",
          "title_count": 2
         },
         {
          "lineage": "chinesescience",
          "title_count": 2
         },
         {
          "lineage": "famiplanpers",
          "title_count": 2
         },
         {
          "lineage": "irbethihumarese",
          "title_count": 2
         },
         {
          "lineage": "fareastquar",
          "title_count": 2
         },
         {
          "lineage": "newsconfchrilite",
          "title_count": 2
         },
         {
          "lineage": "chrooxfounivcsl",
          "title_count": 2
         },
         {
          "lineage": "classintenews",
          "title_count": 2
         },
         {
          "lineage": "ethinote",
          "title_count": 2
         },
         {
          "lineage": "polisocibull",
          "title_count": 2
         },
         {
          "lineage": "phonyear",
          "title_count": 2
         },
         {
          "lineage": "reviinfedise",
          "title_count": 2
         },
         {
          "lineage": "revuetiersmonde",
          "title_count": 2
         },
         {
          "lineage": "physzool",
          "title_count": 2
         },
         {
          "lineage": "eurojsociqual",
          "title_count": 2
         },
         {
          "lineage": "healeconprevcare",
          "title_count": 2
         },
         {
          "lineage": "plaiarchconfnews",
          "title_count": 2
         },
         {
          "lineage": "latinnotes",
          "title_count": 2
         },
         {
          "lineage": "rheimusephilgesc",
          "title_count": 2
         },
         {
          "lineage": "philscie",
          "title_count": 2
         },
         {
          "lineage": "philmusieducnews",
          "title_count": 2
         },
         {
          "lineage": "paedeuro",
          "title_count": 2
         },
         {
          "lineage": "twoyearcollmathj",
          "title_count": 2
         },
         {
          "lineage": "sovietstudies",
          "title_count": 2
         },
         {
          "lineage": "europeangardens",
          "title_count": 2
         },
         {
          "lineage": "eurodemoinfobull",
          "title_count": 2
         },
         {
          "lineage": "impcollunivteach",
          "title_count": 2
         },
         {
          "lineage": "circeto",
          "title_count": 2
         },
         {
          "lineage": "europublprivpart",
          "title_count": 2
         },
         {
          "lineage": "vegetatio",
          "title_count": 2
         },
         {
          "lineage": "eudoweltnews",
          "title_count": 2
         },
         {
          "lineage": "zewibiabeplanta",
          "title_count": 2
         },
         {
          "lineage": "colujinteaffa",
          "title_count": 2
         },
         {
          "lineage": "commgene",
          "title_count": 2
         },
         {
          "lineage": "earlamerlitenews",
          "title_count": 2
         },
         {
          "lineage": "revueest",
          "title_count": 2
         },
         {
          "lineage": "raillocohistsoci",
          "title_count": 2
         },
         {
          "lineage": "deuttheo",
          "title_count": 2
         },
         {
          "lineage": "everartquar",
          "title_count": 2
         },
         {
          "lineage": "desaecon",
          "title_count": 2
         },
         {
          "lineage": "demography",
          "title_count": 2
         },
         {
          "lineage": "demoinfo",
          "title_count": 2
         },
         {
          "lineage": "editwharnews",
          "title_count": 2
         },
         {
          "lineage": "recomusehistartp",
          "title_count": 2
         },
         {
          "lineage": "deleuzestudies",
          "title_count": 2
         },
         {
          "lineage": "recaucinsmus",
          "title_count": 2
         },
         {
          "lineage": "recocoluhistsoci",
          "title_count": 2
         },
         {
          "lineage": "schoapplleartheo",
          "title_count": 2
         },
         {
          "lineage": "reflexion",
          "title_count": 2
         },
         {
          "lineage": "refugeeabstracts",
          "title_count": 2
         },
         {
          "lineage": "pilambdathetaj",
          "title_count": 2
         },
         {
          "lineage": "educresebull",
          "title_count": 2
         },
         {
          "lineage": "ps",
          "title_count": 2
         },
         {
          "lineage": "economicdigest",
          "title_count": 2
         },
         {
          "lineage": "estuorie",
          "title_count": 2
         },
         {
          "lineage": "soutrevipubladmi",
          "title_count": 2
         },
         {
          "lineage": "etuddurkdurkstud",
          "title_count": 2
         },
         {
          "lineage": "quadstordellmarc",
          "title_count": 2
         },
         {
          "lineage": "recoearlengldram",
          "title_count": 2
         },
         {
          "lineage": "pushkinj",
          "title_count": 2
         },
         {
          "lineage": "dukebarj",
          "title_count": 2
         },
         {
          "lineage": "dubllitegaze",
          "title_count": 2
         },
         {
          "lineage": "publseccmate",
          "title_count": 2
         },
         {
          "lineage": "quajcuracq",
          "title_count": 2
         },
         {
          "lineage": "quartxstahista",
          "title_count": 2
         },
         {
          "lineage": "nwsaj",
          "title_count": 2
         },
         {
          "lineage": "racesexclass",
          "title_count": 2
         },
         {
          "lineage": "dickensstudies",
          "title_count": 2
         },
         {
          "lineage": "dickstudnews",
          "title_count": 2
         },
         {
          "lineage": "holarcticecology",
          "title_count": 2
         },
         {
          "lineage": "radicalteacher",
          "title_count": 2
         },
         {
          "lineage": "dossiercidob",
          "title_count": 2
         },
         {
          "lineage": "regikentstathist",
          "title_count": 2
         },
         {
          "lineage": "teachingaidsnews",
          "title_count": 2
         },
         {
          "lineage": "currtheonetw",
          "title_count": 2
         },
         {
          "lineage": "weltarch",
          "title_count": 2
         },
         {
          "lineage": "contrelijapa",
          "title_count": 2
         },
         {
          "lineage": "jnewyorkentosoci",
          "title_count": 2
         },
         {
          "lineage": "wiscstudcontlite",
          "title_count": 2
         },
         {
          "lineage": "envidesiguid",
          "title_count": 2
         },
         {
          "lineage": "jewisocisocirese",
          "title_count": 2
         },
         {
          "lineage": "revilibr",
          "title_count": 2
         },
         {
          "lineage": "populite",
          "title_count": 2
         },
         {
          "lineage": "jhygiene",
          "title_count": 2
         },
         {
          "lineage": "confreso",
          "title_count": 2
         },
         {
          "lineage": "jpeacscie",
          "title_count": 2
         },
         {
          "lineage": "erdkunde",
          "title_count": 2
         },
         {
          "lineage": "popuenglsele",
          "title_count": 2
         },
         {
          "lineage": "fresenglnews",
          "title_count": 2
         },
         {
          "lineage": "pvsliteratur",
          "title_count": 2
         },
         {
          "lineage": "explearlamercult",
          "title_count": 2
         },
         {
          "lineage": "cordnews",
          "title_count": 2
         },
         {
          "lineage": "willbeih",
          "title_count": 2
         },
         {
          "lineage": "softtechaltetech",
          "title_count": 2
         },
         {
          "lineage": "eductheaj",
          "title_count": 2
         },
         {
          "lineage": "procacadpolisci2",
          "title_count": 2
         },
         {
          "lineage": "insrespeacevio",
          "title_count": 2
         },
         {
          "lineage": "currissueduc",
          "title_count": 2
         },
         {
          "lineage": "yearanth",
          "title_count": 2
         },
         {
          "lineage": "trophousplanmon2",
          "title_count": 2
         },
         {
          "lineage": "ecumene",
          "title_count": 2
         },
         {
          "lineage": "enerexplexpl",
          "title_count": 2
         },
         {
          "lineage": "repstuhisart",
          "title_count": 2
         },
         {
          "lineage": "reprhealmatt",
          "title_count": 2
         },
         {
          "lineage": "cuadecon",
          "title_count": 2
         },
         {
          "lineage": "resemana",
          "title_count": 2
         },
         {
          "lineage": "jcritethnstud",
          "title_count": 2
         },
         {
          "lineage": "elemschosciebull",
          "title_count": 2
         },
         {
          "lineage": "seladdelconenged",
          "title_count": 2
         },
         {
          "lineage": "perspectives",
          "title_count": 2
         },
         {
          "lineage": "womgeryearbook",
          "title_count": 2
         },
         {
          "lineage": "jeastafriresedev",
          "title_count": 2
         },
         {
          "lineage": "marktwainq",
          "title_count": 2
         },
         {
          "lineage": "missvallhistrevi",
          "title_count": 2
         },
         {
          "lineage": "jappstuass",
          "title_count": 2
         },
         {
          "lineage": "manatech",
          "title_count": 2
         },
         {
          "lineage": "mainenaturalist",
          "title_count": 2
         },
         {
          "lineage": "orniscan",
          "title_count": 2
         },
         {
          "lineage": "jsocibiblliteexe",
          "title_count": 2
         },
         {
          "lineage": "newslithtech",
          "title_count": 2
         },
         {
          "lineage": "naticonflitereli",
          "title_count": 2
         },
         {
          "lineage": "listfilopaed",
          "title_count": 2
         },
         {
          "lineage": "jcalianth",
          "title_count": 2
         },
         {
          "lineage": "limnocea",
          "title_count": 2
         },
         {
          "lineage": "litoralia",
          "title_count": 2
         },
         {
          "lineage": "lectnoteser",
          "title_count": 2
         },
         {
          "lineage": "lawyeramericas",
          "title_count": 2
         },
         {
          "lineage": "jdeveremeeduc",
          "title_count": 2
         },
         {
          "lineage": "jdiardiseres",
          "title_count": 2
         },
         {
          "lineage": "jeconabst",
          "title_count": 2
         },
         {
          "lineage": "jinteconinte",
          "title_count": 2
         },
         {
          "lineage": "jeconpers",
          "title_count": 2
         },
         {
          "lineage": "zeitnatijecon",
          "title_count": 2
         },
         {
          "lineage": "landaust",
          "title_count": 2
         },
         {
          "lineage": "jeducsocwork",
          "title_count": 2
         },
         {
          "lineage": "jeducstat",
          "title_count": 2
         },
         {
          "lineage": "jeducsoci",
          "title_count": 2
         },
         {
          "lineage": "mervcontes",
          "title_count": 2
         },
         {
          "lineage": "procmasshistsoci",
          "title_count": 2
         },
         {
          "lineage": "intestudnote",
          "title_count": 2
         },
         {
          "lineage": "jafricanamermen",
          "title_count": 2
         },
         {
          "lineage": "micr2",
          "title_count": 2
         },
         {
          "lineage": "peninsularpapers",
          "title_count": 2
         },
         {
          "lineage": "irisarchreseforu",
          "title_count": 2
         },
         {
          "lineage": "jeartscie",
          "title_count": 2
         },
         {
          "lineage": "irisnatu",
          "title_count": 2
         },
         {
          "lineage": "univrevi",
          "title_count": 2
         },
         {
          "lineage": "mentdisalawrepor",
          "title_count": 2
         },
         {
          "lineage": "sudanicafrica",
          "title_count": 2
         },
         {
          "lineage": "memotorrbotaclub",
          "title_count": 2
         },
         {
          "lineage": "membnews",
          "title_count": 2
         },
         {
          "lineage": "jadvacomp",
          "title_count": 2
         },
         {
          "lineage": "jahrvolk",
          "title_count": 2
         },
         {
          "lineage": "jahrkultgescslav",
          "title_count": 2
         },
         {
          "lineage": "medpros",
          "title_count": 2
         },
         {
          "lineage": "medicinewar",
          "title_count": 2
         },
         {
          "lineage": "medianthnews",
          "title_count": 2
         },
         {
          "lineage": "newsworluniojewi",
          "title_count": 2
         },
         {
          "lineage": "mcgiintejsustdev",
          "title_count": 2
         },
         {
          "lineage": "semitheonombbord",
          "title_count": 2
         },
         {
          "lineage": "zeitallgwissen",
          "title_count": 2
         },
         {
          "lineage": "mathtablotheaids",
          "title_count": 2
         },
         {
          "lineage": "relisoutafri",
          "title_count": 2
         },
         {
          "lineage": "materiales",
          "title_count": 2
         },
         {
          "lineage": "pioneeramerica",
          "title_count": 2
         },
         {
          "lineage": "jnegrohistory",
          "title_count": 2
         },
         {
          "lineage": "jelemscieeduc",
          "title_count": 2
         },
         {
          "lineage": "kyotuniveconrevi",
          "title_count": 2
         },
         {
          "lineage": "jgermphil",
          "title_count": 2
         },
         {
          "lineage": "kunsmede",
          "title_count": 2
         },
         {
          "lineage": "maitphon",
          "title_count": 2
         },
         {
          "lineage": "joccumedi",
          "title_count": 2
         },
         {
          "lineage": "joccubeha",
          "title_count": 2
         },
         {
          "lineage": "jhongkongbranroy",
          "title_count": 2
         },
         {
          "lineage": "jelismitcsciesoc",
          "title_count": 2
         },
         {
          "lineage": "jphilstud",
          "title_count": 2
         },
         {
          "lineage": "jphilpsycsciemet",
          "title_count": 2
         },
         {
          "lineage": "rivipatovege",
          "title_count": 2
         },
         {
          "lineage": "policyanalysis",
          "title_count": 2
         },
         {
          "lineage": "procannusesssout",
          "title_count": 2
         },
         {
          "lineage": "jpopulation",
          "title_count": 2
         },
         {
          "lineage": "jcounloutarchsoc",
          "title_count": 2
         },
         {
          "lineage": "jpopres",
          "title_count": 2
         },
         {
          "lineage": "sidacontbota",
          "title_count": 2
         },
         {
          "lineage": "jpubadmineduc",
          "title_count": 2
         },
         {
          "lineage": "jarizacadsci",
          "title_count": 2
         },
         {
          "lineage": "trananthsocilond",
          "title_count": 2
         },
         {
          "lineage": "jamervenedise",
          "title_count": 2
         },
         {
          "lineage": "jamersociarchhis",
          "title_count": 2
         },
         {
          "lineage": "jadelbotgardsup",
          "title_count": 2
         },
         {
          "lineage": "jadelbotagard",
          "title_count": 2
         },
         {
          "lineage": "papabelincassoc",
          "title_count": 2
         },
         {
          "lineage": "jrenabaromusi",
          "title_count": 2
         },
         {
          "lineage": "jsoutasiahist",
          "title_count": 2
         },
         {
          "lineage": "mahfil",
          "title_count": 2
         },
         {
          "lineage": "jnarrtechnique",
          "title_count": 2
         },
         {
          "lineage": "newsmuseumethn",
          "title_count": 2
         },
         {
          "lineage": "roundtablerepo",
          "title_count": 2
         },
         {
          "lineage": "jinteequa",
          "title_count": 2
         },
         {
          "lineage": "jepsilonpitau",
          "title_count": 2
         },
         {
          "lineage": "univcollrevi",
          "title_count": 2
         },
         {
          "lineage": "letrfeme",
          "title_count": 2
         },
         {
          "lineage": "jthirworlstud",
          "title_count": 2
         },
         {
          "lineage": "jhealhumabeha",
          "title_count": 2
         },
         {
          "lineage": "jhealhumaresoadm",
          "title_count": 2
         },
         {
          "lineage": "sanfranjunginstj",
          "title_count": 2
         },
         {
          "lineage": "jimmiheal",
          "title_count": 2
         },
         {
          "lineage": "jzooanimmedi",
          "title_count": 2
         },
         {
          "lineage": "zeitgesastaa",
          "title_count": 2
         },
         {
          "lineage": "jinsuissuprac",
          "title_count": 2
         },
         {
          "lineage": "jlandpublutileco",
          "title_count": 2
         },
         {
          "lineage": "transmorahistsoc",
          "title_count": 2
         },
         {
          "lineage": "procwashacadscie",
          "title_count": 2
         },
         {
          "lineage": "jwarbinst",
          "title_count": 2
         },
         {
          "lineage": "jwaltartgallery",
          "title_count": 2
         },
         {
          "lineage": "jsociinduapplma2",
          "title_count": 2
         },
         {
          "lineage": "jsociinduapplmat",
          "title_count": 2
         },
         {
          "lineage": "jmarkpublpoli",
          "title_count": 2
         },
         {
          "lineage": "procpennacadscie",
          "title_count": 2
         },
         {
          "lineage": "joperresesociame",
          "title_count": 2
         },
         {
          "lineage": "jnewzealslavasso",
          "title_count": 2
         },
         {
          "lineage": "jnatuareaasso",
          "title_count": 2
         },
         {
          "lineage": "newsnatiassocoll",
          "title_count": 2
         },
         {
          "lineage": "intesuppwomestud",
          "title_count": 2
         },
         {
          "lineage": "revuinstintestat",
          "title_count": 2
         },
         {
          "lineage": "vision",
          "title_count": 2
         },
         {
          "lineage": "zeitpers",
          "title_count": 2
         },
         {
          "lineage": "ostprobleme",
          "title_count": 2
         },
         {
          "lineage": "globecolbioglett",
          "title_count": 2
         },
         {
          "lineage": "newspegs",
          "title_count": 2
         },
         {
          "lineage": "greabasinatu",
          "title_count": 2
         },
         {
          "lineage": "grebasnatmem",
          "title_count": 2
         },
         {
          "lineage": "grealakerevi",
          "title_count": 2
         },
         {
          "lineage": "zeitmorpokoltier",
          "title_count": 2
         },
         {
          "lineage": "nyasalandj",
          "title_count": 2
         },
         {
          "lineage": "guidteacrusslang",
          "title_count": 2
         },
         {
          "lineage": "theharp",
          "title_count": 2
         },
         {
          "lineage": "regiconfseriprob",
          "title_count": 2
         },
         {
          "lineage": "hastcentstud",
          "title_count": 2
         },
         {
          "lineage": "quesfemi",
          "title_count": 2
         },
         {
          "lineage": "nouvrevusiec",
          "title_count": 2
         },
         {
          "lineage": "notedameengj",
          "title_count": 2
         },
         {
          "lineage": "healthpromotion",
          "title_count": 2
         },
         {
          "lineage": "hebrewabstracts",
          "title_count": 2
         },
         {
          "lineage": "jjewilorephil",
          "title_count": 2
         },
         {
          "lineage": "heftdeutthommann",
          "title_count": 2
         },
         {
          "lineage": "nortamerrevmiscj",
          "title_count": 2
         },
         {
          "lineage": "nortcarohighscho",
          "title_count": 2
         },
         {
          "lineage": "newsrhetsociamer",
          "title_count": 2
         },
         {
          "lineage": "hispanicengineer",
          "title_count": 2
         },
         {
          "lineage": "newvicstuaswc",
          "title_count": 2
         },
         {
          "lineage": "newsasail",
          "title_count": 2
         },
         {
          "lineage": "germstudnews",
          "title_count": 2
         },
         {
          "lineage": "georgoverevi",
          "title_count": 2
         },
         {
          "lineage": "sociscience",
          "title_count": 2
         },
         {
          "lineage": "georelioghlnews",
          "title_count": 2
         },
         {
          "lineage": "zborradofilofaku",
          "title_count": 2
         },
         {
          "lineage": "finabull",
          "title_count": 2
         },
         {
          "lineage": "financialedu",
          "title_count": 2
         },
         {
          "lineage": "philstud",
          "title_count": 2
         },
         {
          "lineage": "flanoconbull",
          "title_count": 2
         },
         {
          "lineage": "flautodolce",
          "title_count": 2
         },
         {
          "lineage": "fletforu",
          "title_count": 2
         },
         {
          "lineage": "floridabuggist",
          "title_count": 2
         },
         {
          "lineage": "jexperbota",
          "title_count": 2
         },
         {
          "lineage": "focusgender",
          "title_count": 2
         },
         {
          "lineage": "foligeobphyt",
          "title_count": 2
         },
         {
          "lineage": "personalistforum",
          "title_count": 2
         },
         {
          "lineage": "founlang",
          "title_count": 2
         },
         {
          "lineage": "procmeetfchs",
          "title_count": 2
         },
         {
          "lineage": "waffennieder",
          "title_count": 2
         },
         {
          "lineage": "papnonmarkdecmak",
          "title_count": 2
         },
         {
          "lineage": "papebiblsociuniv",
          "title_count": 2
         },
         {
          "lineage": "procannumeetamer",
          "title_count": 2
         },
         {
          "lineage": "gasksocij",
          "title_count": 2
         },
         {
          "lineage": "punjunivecon",
          "title_count": 2
         },
         {
          "lineage": "performingartsj",
          "title_count": 2
         },
         {
          "lineage": "pacisocirevi",
          "title_count": 2
         },
         {
          "lineage": "washhistq",
          "title_count": 2
         },
         {
          "lineage": "geoteacher",
          "title_count": 2
         },
         {
          "lineage": "pacificartsnews",
          "title_count": 2
         },
         {
          "lineage": "newscommnomapeop",
          "title_count": 2
         },
         {
          "lineage": "newsbullinstpaci",
          "title_count": 2
         },
         {
          "lineage": "histfuenoral",
          "title_count": 2
         },
         {
          "lineage": "pronewzeaecosoc",
          "title_count": 2
         },
         {
          "lineage": "inquiry",
          "title_count": 2
         },
         {
          "lineage": "insidehcfa",
          "title_count": 2
         },
         {
          "lineage": "monthist",
          "title_count": 2
         },
         {
          "lineage": "zeitreliintejude",
          "title_count": 2
         },
         {
          "lineage": "insiwashfdaweek",
          "title_count": 2
         },
         {
          "lineage": "nemlanews1969",
          "title_count": 2
         },
         {
          "lineage": "intestudbull",
          "title_count": 2
         },
         {
          "lineage": "qualassuhealcare",
          "title_count": 2
         },
         {
          "lineage": "modelangnote",
          "title_count": 2
         },
         {
          "lineage": "mitgesjudvol",
          "title_count": 2
         },
         {
          "lineage": "intejhealcarefin",
          "title_count": 2
         },
         {
          "lineage": "mittgesemusi",
          "title_count": 2
         },
         {
          "lineage": "minnhistbull",
          "title_count": 2
         },
         {
          "lineage": "intejpoli",
          "title_count": 2
         },
         {
          "lineage": "statcultsoci",
          "title_count": 2
         },
         {
          "lineage": "miltonnewsletter",
          "title_count": 2
         },
         {
          "lineage": "intejtourhospres",
          "title_count": 2
         },
         {
          "lineage": "intejgrourigh",
          "title_count": 2
         },
         {
          "lineage": "profmemocorpengi",
          "title_count": 2
         },
         {
          "lineage": "newseurolabowork",
          "title_count": 2
         },
         {
          "lineage": "intemigrdige",
          "title_count": 2
         },
         {
          "lineage": "midwsoc",
          "title_count": 2
         },
         {
          "lineage": "interevisoci",
          "title_count": 2
         },
         {
          "lineage": "interevimusiaest",
          "title_count": 2
         },
         {
          "lineage": "middeaststudasbu",
          "title_count": 2
         },
         {
          "lineage": "quartillus",
          "title_count": 2
         },
         {
          "lineage": "monrevburlabsta",
          "title_count": 2
         },
         {
          "lineage": "infoeuroparl",
          "title_count": 2
         },
         {
          "lineage": "humawildconf",
          "title_count": 2
         },
         {
          "lineage": "rmaresearchchron",
          "title_count": 2
         },
         {
          "lineage": "quantuminfo",
          "title_count": 2
         },
         {
          "lineage": "statlocahistnews",
          "title_count": 2
         },
         {
          "lineage": "quadstoreconpoli",
          "title_count": 2
         },
         {
          "lineage": "histeducj",
          "title_count": 2
         },
         {
          "lineage": "histwork",
          "title_count": 2
         },
         {
          "lineage": "vitahumana",
          "title_count": 2
         },
         {
          "lineage": "nnewletphidelkap",
          "title_count": 2
         },
         {
          "lineage": "univhumarigh",
          "title_count": 2
         },
         {
          "lineage": "studbarrevi",
          "title_count": 2
         },
         {
          "lineage": "humalova",
          "title_count": 2
         },
         {
          "lineage": "huntlibrbull",
          "title_count": 2
         },
         {
          "lineage": "mormorweerepsup",
          "title_count": 2
         },
         {
          "lineage": "hydatanewsviews",
          "title_count": 2
         },
         {
          "lineage": "nathhawtsocinews",
          "title_count": 2
         },
         {
          "lineage": "iciribull",
          "title_count": 2
         },
         {
          "lineage": "irisjamerstud",
          "title_count": 2
         },
         {
          "lineage": "tolkienj",
          "title_count": 2
         },
         {
          "lineage": "musitimesingclas",
          "title_count": 2
         },
         {
          "lineage": "incostat",
          "title_count": 2
         },
         {
          "lineage": "ridircminews",
          "title_count": 2
         },
         {
          "lineage": "murrelet",
          "title_count": 2
         },
         {
          "lineage": "indiqmagahist",
          "title_count": 2
         },
         {
          "lineage": "mounresedeve",
          "title_count": 2
         },
         {
          "lineage": "chinjmath",
          "title_count": 2
         },
         {
          "lineage": "revespdelaoppub",
          "title_count": 2
         },
         {
          "lineage": "revuartsasia",
          "title_count": 2
         },
         {
          "lineage": "hightechlawj",
          "title_count": 2
         },
         {
          "lineage": "austindilawrepo",
          "title_count": 2
         },
         {
          "lineage": "austjchinaffa",
          "title_count": 2
         },
         {
          "lineage": "contqeuuherb",
          "title_count": 2
         },
         {
          "lineage": "bangeconrevi",
          "title_count": 2
         },
         {
          "lineage": "studsovithou",
          "title_count": 2
         },
         {
          "lineage": "behaviorism",
          "title_count": 2
         },
         {
          "lineage": "studamjewlit1975",
          "title_count": 2
         },
         {
          "lineage": "benjstudstud",
          "title_count": 2
         },
         {
          "lineage": "indurelalawj",
          "title_count": 2
         },
         {
          "lineage": "studmusi",
          "title_count": 2
         },
         {
          "lineage": "studdecoarts",
          "title_count": 2
         },
         {
          "lineage": "botagardconsnews",
          "title_count": 2
         },
         {
          "lineage": "biblarch",
          "title_count": 2
         },
         {
          "lineage": "obitnotifellroya",
          "title_count": 2
         },
         {
          "lineage": "zoolbull",
          "title_count": 2
         },
         {
          "lineage": "biombull",
          "title_count": 2
         },
         {
          "lineage": "bullassotropbiol",
          "title_count": 2
         },
         {
          "lineage": "strategicstudies",
          "title_count": 2
         },
         {
          "lineage": "negrhistbull",
          "title_count": 2
         },
         {
          "lineage": "bolefacufilocien",
          "title_count": 2
         },
         {
          "lineage": "austjhistarchae",
          "title_count": 2
         },
         {
          "lineage": "asiaj",
          "title_count": 2
         },
         {
          "lineage": "bullnatitaxasso",
          "title_count": 2
         },
         {
          "lineage": "arctalpirese",
          "title_count": 2
         },
         {
          "lineage": "archreport",
          "title_count": 2
         },
         {
          "lineage": "archphyanthoce",
          "title_count": 2
         },
         {
          "lineage": "tradzeitfirmunte",
          "title_count": 2
         },
         {
          "lineage": "archkeil",
          "title_count": 2
         },
         {
          "lineage": "sammintemusi",
          "title_count": 2
         },
         {
          "lineage": "tijdphil",
          "title_count": 2
         },
         {
          "lineage": "midwarch",
          "title_count": 2
         },
         {
          "lineage": "archsocirel",
          "title_count": 2
         },
         {
          "lineage": "archchiartsocam",
          "title_count": 2
         },
         {
          "lineage": "arizwest",
          "title_count": 2
         },
         {
          "lineage": "engieducnews",
          "title_count": 2
         },
         {
          "lineage": "arizoniana",
          "title_count": 2
         },
         {
          "lineage": "arlisnanews",
          "title_count": 2
         },
         {
          "lineage": "bulpopinfarnarb",
          "title_count": 2
         },
         {
          "lineage": "arsislamica",
          "title_count": 2
         },
         {
          "lineage": "lotusmagazine",
          "title_count": 2
         },
         {
          "lineage": "arthmillsocinews",
          "title_count": 2
         },
         {
          "lineage": "arthuriana1928",
          "title_count": 2
         },
         {
          "lineage": "systzool",
          "title_count": 2
         },
         {
          "lineage": "aseaeconbull",
          "title_count": 2
         },
         {
          "lineage": "boleinstespa",
          "title_count": 2
         },
         {
          "lineage": "booksabroad",
          "title_count": 2
         },
         {
          "lineage": "stanintlawrev",
          "title_count": 2
         },
         {
          "lineage": "bullintenews",
          "title_count": 2
         },
         {
          "lineage": "bullchilwelfleag",
          "title_count": 2
         },
         {
          "lineage": "bulsocetudphilse",
          "title_count": 2
         },
         {
          "lineage": "bullsocifranmusi",
          "title_count": 2
         },
         {
          "lineage": "bullinfoassoamis",
          "title_count": 2
         },
         {
          "lineage": "melainstfrandama",
          "title_count": 2
         },
         {
          "lineage": "bullinfo",
          "title_count": 2
         },
         {
          "lineage": "bullafristudcana",
          "title_count": 2
         },
         {
          "lineage": "bullbaltstud",
          "title_count": 2
         },
         {
          "lineage": "bullhistresemusi",
          "title_count": 2
         },
         {
          "lineage": "bullpeacprop",
          "title_count": 2
         },
         {
          "lineage": "brigyoununivstud",
          "title_count": 2
         },
         {
          "lineage": "bullamerassoteac",
          "title_count": 2
         },
         {
          "lineage": "bullamerschoori2",
          "title_count": 2
         },
         {
          "lineage": "baussocstulabhis",
          "title_count": 2
         },
         {
          "lineage": "bullbusihistsoci",
          "title_count": 2
         },
         {
          "lineage": "bullcityartmus",
          "title_count": 2
         },
         {
          "lineage": "bullcooporniclub",
          "title_count": 2
         },
         {
          "lineage": "notesfogg",
          "title_count": 2
         },
         {
          "lineage": "bullinsthistmedi",
          "title_count": 2
         },
         {
          "lineage": "bullinteinstsoci",
          "title_count": 2
         },
         {
          "lineage": "bullcanaarchasso",
          "title_count": 2
         },
         {
          "lineage": "bulbritasamerst",
          "title_count": 2
         },
         {
          "lineage": "bulestiifascmate",
          "title_count": 2
         },
         {
          "lineage": "bulstiinspedserb",
          "title_count": 2
         },
         {
          "lineage": "bullbritsocihist",
          "title_count": 2
         },
         {
          "lineage": "britjdeli",
          "title_count": 2
         },
         {
          "lineage": "britjethn",
          "title_count": 2
         },
         {
          "lineage": "brijindumedi",
          "title_count": 2
         },
         {
          "lineage": "britjintestud",
          "title_count": 2
         },
         {
          "lineage": "britjlawsoci",
          "title_count": 2
         },
         {
          "lineage": "bullbritsocimidd",
          "title_count": 2
         },
         {
          "lineage": "texasreview",
          "title_count": 2
         },
         {
          "lineage": "britschathsuppap",
          "title_count": 2
         },
         {
          "lineage": "brookingsbull",
          "title_count": 2
         },
         {
          "lineage": "soutcentbull",
          "title_count": 2
         },
         {
          "lineage": "southcarohisgen",
          "title_count": 2
         },
         {
          "lineage": "soutatlabull",
          "title_count": 2
         },
         {
          "lineage": "browjforeaffa",
          "title_count": 2
         },
         {
          "lineage": "browinststud",
          "title_count": 2
         },
         {
          "lineage": "brownews",
          "title_count": 2
         },
         {
          "lineage": "southlitj",
          "title_count": 2
         },
         {
          "lineage": "buffcrimlawrevi",
          "title_count": 2
         },
         {
          "lineage": "persvernarch",
          "title_count": 2
         },
         {
          "lineage": "arbesozi",
          "title_count": 2
         },
         {
          "lineage": "nashra",
          "title_count": 2
         },
         {
          "lineage": "trangoldcoastogo",
          "title_count": 2
         },
         {
          "lineage": "aihpnotes",
          "title_count": 2
         },
         {
          "lineage": "afrieconhistrevi",
          "title_count": 2
         },
         {
          "lineage": "afrihiststud",
          "title_count": 2
         },
         {
          "lineage": "issuejopinion",
          "title_count": 2
         },
         {
          "lineage": "afrijpoliecon",
          "title_count": 2
         },
         {
          "lineage": "afrilangcult",
          "title_count": 2
         },
         {
          "lineage": "soutafrisocirevi",
          "title_count": 2
         },
         {
          "lineage": "agnireview",
          "title_count": 2
         },
         {
          "lineage": "agrihistsocipape",
          "title_count": 2
         },
         {
          "lineage": "aibsbulletin",
          "title_count": 2
         },
         {
          "lineage": "ajas",
          "title_count": 2
         },
         {
          "lineage": "amerbarfounresej",
          "title_count": 2
         },
         {
          "lineage": "albiquarjconcbri",
          "title_count": 2
         },
         {
          "lineage": "aldinepress",
          "title_count": 2
         },
         {
          "lineage": "womestudnews",
          "title_count": 2
         },
         {
          "lineage": "alternatives2",
          "title_count": 2
         },
         {
          "lineage": "ambispecrepo",
          "title_count": 2
         },
         {
          "lineage": "amerannadeafdumb",
          "title_count": 2
         },
         {
          "lineage": "trananthsociwash",
          "title_count": 2
         },
         {
          "lineage": "smitstudamerart",
          "title_count": 2
         },
         {
          "lineage": "amerartj",
          "title_count": 2
         },
         {
          "lineage": "jroyaafrisoci",
          "title_count": 2
         },
         {
          "lineage": "africaspec",
          "title_count": 2
         },
         {
          "lineage": "africa2",
          "title_count": 2
         },
         {
          "lineage": "aferinte",
          "title_count": 2
         },
         {
          "lineage": "vingsiecrevuhist",
          "title_count": 2
         },
         {
          "lineage": "tsiyon",
          "title_count": 2
         },
         {
          "lineage": "amerbarassoj",
          "title_count": 2
         },
         {
          "lineage": "abajafhocodela",
          "title_count": 2
         },
         {
          "lineage": "laborlawyer",
          "title_count": 2
         },
         {
          "lineage": "acanewsletter",
          "title_count": 2
         },
         {
          "lineage": "jacadmana",
          "title_count": 2
         },
         {
          "lineage": "actacrim",
          "title_count": 2
         },
         {
          "lineage": "actagenestatmedi",
          "title_count": 2
         },
         {
          "lineage": "actahistacadscie",
          "title_count": 2
         },
         {
          "lineage": "mittintegesemusi",
          "title_count": 2
         },
         {
          "lineage": "adminlawbull",
          "title_count": 2
         },
         {
          "lineage": "zeitneufspralite",
          "title_count": 2
         },
         {
          "lineage": "dialogue",
          "title_count": 2
         },
         {
          "lineage": "advasexrese",
          "title_count": 2
         },
         {
          "lineage": "jconsaffa",
          "title_count": 2
         },
         {
          "lineage": "zeitdeutalte",
          "title_count": 2
         },
         {
          "lineage": "studscuopapi",
          "title_count": 2
         },
         {
          "lineage": "aequatoria",
          "title_count": 2
         },
         {
          "lineage": "amerartnews",
          "title_count": 2
         },
         {
          "lineage": "willcarlwillnews",
          "title_count": 2
         },
         {
          "lineage": "australianq",
          "title_count": 2
         },
         {
          "lineage": "urbananthro",
          "title_count": 2
         },
         {
          "lineage": "histmagaprotepis",
          "title_count": 2
         },
         {
          "lineage": "etudchrodemohist",
          "title_count": 2
         },
         {
          "lineage": "annasciepoli",
          "title_count": 2
         },
         {
          "lineage": "usjapawomjengsup",
          "title_count": 2
         },
         {
          "lineage": "bullortosoci",
          "title_count": 2
         },
         {
          "lineage": "annaassoamergeog",
          "title_count": 2
         },
         {
          "lineage": "urbapastpres",
          "title_count": 2
         },
         {
          "lineage": "urbahistyear",
          "title_count": 2
         },
         {
          "lineage": "etudesbaud",
          "title_count": 2
         },
         {
          "lineage": "annuamerschoori2",
          "title_count": 2
         },
         {
          "lineage": "wilbulintlawpol",
          "title_count": 2
         },
         {
          "lineage": "annurepoharvuniv",
          "title_count": 2
         },
         {
          "lineage": "bienrevianth",
          "title_count": 2
         },
         {
          "lineage": "annureviecolsyst",
          "title_count": 2
         },
         {
          "lineage": "ulusilis",
          "title_count": 2
         },
         {
          "lineage": "primitiveman",
          "title_count": 2
         },
         {
          "lineage": "anthropologi1923",
          "title_count": 2
         },
         {
          "lineage": "rain",
          "title_count": 2
         },
         {
          "lineage": "sectantilaw",
          "title_count": 2
         },
         {
          "lineage": "applanth",
          "title_count": 2
         },
         {
          "lineage": "uniothom",
          "title_count": 2
         },
         {
          "lineage": "analj",
          "title_count": 2
         },
         {
          "lineage": "analyst",
          "title_count": 2
         },
         {
          "lineage": "victpernewsl",
          "title_count": 2
         },
         {
          "lineage": "jomicchiepsi",
          "title_count": 2
         },
         {
          "lineage": "amerhumor",
          "title_count": 2
         },
         {
          "lineage": "jfarmeconomics",
          "title_count": 2
         },
         {
          "lineage": "amerjalteagri",
          "title_count": 2
         },
         {
          "lineage": "amerjarchhistfin",
          "title_count": 2
         },
         {
          "lineage": "radharc",
          "title_count": 2
         },
         {
          "lineage": "weeds",
          "title_count": 2
         },
         {
          "lineage": "midwjpoliscie",
          "title_count": 2
         },
         {
          "lineage": "amerlitereal1870",
          "title_count": 2
         },
         {
          "lineage": "artprog",
          "title_count": 2
         },
         {
          "lineage": "midlnatu",
          "title_count": 2
         },
         {
          "lineage": "procamerpoliscie",
          "title_count": 2
         },
         {
          "lineage": "virglawregi",
          "title_count": 2
         },
         {
          "lineage": "virgjnaturesolaw",
          "title_count": 2
         },
         {
          "lineage": "phibetakappakey",
          "title_count": 2
         },
         {
          "lineage": "sigmxiquar",
          "title_count": 2
         },
         {
          "lineage": "amerstatassocbu",
          "title_count": 2
         },
         {
          "lineage": "amerzool",
          "title_count": 2
         },
         {
          "lineage": "jahramer",
          "title_count": 2
         },
         {
          "lineage": "bullmidwmodelang",
          "title_count": 2
         },
         {
          "lineage": "jsocialforces",
          "title_count": 2
         },
         {
          "lineage": "callearth",
          "title_count": 2
         },
         {
          "lineage": "jsoutappabotaclu",
          "title_count": 2
         },
         {
          "lineage": "sciencestudies",
          "title_count": 2
         },
         {
          "lineage": "jillstaarcsoc",
          "title_count": 2
         },
         {
          "lineage": "cahiercolintphil",
          "title_count": 2
         },
         {
          "lineage": "nsnorthsouth",
          "title_count": 2
         },
         {
          "lineage": "bullecolrescomm",
          "title_count": 2
         },
         {
          "lineage": "cambhistj",
          "title_count": 2
         },
         {
          "lineage": "califolkquar",
          "title_count": 2
         },
         {
          "lineage": "cardstudlawlite",
          "title_count": 2
         },
         {
          "lineage": "bullrijk",
          "title_count": 2
         },
         {
          "lineage": "shakassobull",
          "title_count": 2
         },
         {
          "lineage": "vocjchilatstu",
          "title_count": 2
         },
         {
          "lineage": "cahivilfpare",
          "title_count": 2
         },
         {
          "lineage": "cahdemustrad",
          "title_count": 2
         },
         {
          "lineage": "canajsociworkedu",
          "title_count": 2
         },
         {
          "lineage": "saeintejaltepowe",
          "title_count": 2
         },
         {
          "lineage": "burlmagaconn",
          "title_count": 2
         },
         {
          "lineage": "slavrevi",
          "title_count": 2
         },
         {
          "lineage": "etudslavesteuro",
          "title_count": 2
         },
         {
          "lineage": "calistudclasanti",
          "title_count": 2
         },
         {
          "lineage": "workenviheal",
          "title_count": 2
         },
         {
          "lineage": "chanhigheduc",
          "title_count": 2
         },
         {
          "lineage": "centerhousebull",
          "title_count": 2
         },
         {
          "lineage": "bullschooriestud",
          "title_count": 2
         },
         {
          "lineage": "sciemont",
          "title_count": 2
         },
         {
          "lineage": "caaslidphotnews",
          "title_count": 2
         },
         {
          "lineage": "proccambphilsoci",
          "title_count": 2
         },
         {
          "lineage": "newscollenglasso",
          "title_count": 2
         },
         {
          "lineage": "sixtcentessastud",
          "title_count": 2
         },
         {
          "lineage": "calijteaceduc",
          "title_count": 2
         },
         {
          "lineage": "populareconomics",
          "title_count": 2
         },
         {
          "lineage": "cahimondrusssovi",
          "title_count": 2
         },
         {
          "lineage": "caparle",
          "title_count": 2
         },
         {
          "lineage": "bullpoliinstarts",
          "title_count": 2
         },
         {
          "lineage": "medichro",
          "title_count": 1
         },
         {
          "lineage": "mediawarconflict",
          "title_count": 1
         },
         {
          "lineage": "view",
          "title_count": 1
         },
         {
          "lineage": "medirenadramengl",
          "title_count": 1
         },
         {
          "lineage": "mediaevistik",
          "title_count": 1
         },
         {
          "lineage": "vigichri",
          "title_count": 1
         },
         {
          "lineage": "vikimediscan",
          "title_count": 1
         },
         {
          "lineage": "mediprobperfarti",
          "title_count": 1
         },
         {
          "lineage": "medicalcare",
          "title_count": 1
         },
         {
          "lineage": "radirese",
          "title_count": 1
         },
         {
          "lineage": "scieandsoci",
          "title_count": 1
         },
         {
          "lineage": "medievalwarfare",
          "title_count": 1
         },
         {
          "lineage": "vetustestamentum",
          "title_count": 1
         },
         {
          "lineage": "memoameracadrom2",
          "title_count": 1
         },
         {
          "lineage": "revuassyarchorie",
          "title_count": 1
         },
         {
          "lineage": "sciefictstud",
          "title_count": 1
         },
         {
          "lineage": "memopalesoci",
          "title_count": 1
         },
         {
          "lineage": "memosocivertpale",
          "title_count": 1
         },
         {
          "lineage": "verwmana",
          "title_count": 1
         },
         {
          "lineage": "melus",
          "title_count": 1
         },
         {
          "lineage": "melanotes",
          "title_count": 1
         },
         {
          "lineage": "meghillot",
          "title_count": 1
         },
         {
          "lineage": "revuhistreli",
          "title_count": 1
         },
         {
          "lineage": "medievales",
          "title_count": 1
         },
         {
          "lineage": "victpoet",
          "title_count": 1
         },
         {
          "lineage": "megamot",
          "title_count": 1
         },
         {
          "lineage": "revumetamora",
          "title_count": 1
         },
         {
          "lineage": "medizinhistj",
          "title_count": 1
         },
         {
          "lineage": "mediterraneanstu",
          "title_count": 1
         },
         {
          "lineage": "victorianstudies",
          "title_count": 1
         },
         {
          "lineage": "medilangrevi",
          "title_count": 1
         },
         {
          "lineage": "mediarch",
          "title_count": 1
         },
         {
          "lineage": "medilettdital",
          "title_count": 1
         },
         {
          "lineage": "mech",
          "title_count": 1
         },
         {
          "lineage": "revuphilanci",
          "title_count": 1
         },
         {
          "lineage": "maynoothreview",
          "title_count": 1
         },
         {
          "lineage": "maxweberstudies",
          "title_count": 1
         },
         {
          "lineage": "mariresoecon",
          "title_count": 1
         },
         {
          "lineage": "mariecolprogseri",
          "title_count": 1
         },
         {
          "lineage": "mproustahui",
          "title_count": 1
         },
         {
          "lineage": "marbjahrkuns",
          "title_count": 1
         },
         {
          "lineage": "weatclimsoci",
          "title_count": 1
         },
         {
          "lineage": "revueconfina",
          "title_count": 1
         },
         {
          "lineage": "manoa",
          "title_count": 1
         },
         {
          "lineage": "manadeciecon",
          "title_count": 1
         },
         {
          "lineage": "weedtechnology",
          "title_count": 1
         },
         {
          "lineage": "weltislams",
          "title_count": 1
         },
         {
          "lineage": "managementrevue",
          "title_count": 1
         },
         {
          "lineage": "sanctuary",
          "title_count": 1
         },
         {
          "lineage": "weltorients",
          "title_count": 1
         },
         {
          "lineage": "mammalianspecies",
          "title_count": 1
         },
         {
          "lineage": "malljtolksoci",
          "title_count": 1
         },
         {
          "lineage": "weslmethstud",
          "title_count": 1
         },
         {
          "lineage": "westvirghist",
          "title_count": 1
         },
         {
          "lineage": "madrono",
          "title_count": 1
         },
         {
          "lineage": "lusobrazrevi",
          "title_count": 1
         },
         {
          "lineage": "westamerlite",
          "title_count": 1
         },
         {
          "lineage": "revueconpoli",
          "title_count": 1
         },
         {
          "lineage": "lovecraftannual",
          "title_count": 1
         },
         {
          "lineage": "louihist",
          "title_count": 1
         },
         {
          "lineage": "logiqueanalyse",
          "title_count": 1
         },
         {
          "lineage": "log",
          "title_count": 1
         },
         {
          "lineage": "marktwaij",
          "title_count": 1
         },
         {
          "lineage": "weatherclimate",
          "title_count": 1
         },
         {
          "lineage": "marketinglett",
          "title_count": 1
         },
         {
          "lineage": "matedisctestclas",
          "title_count": 1
         },
         {
          "lineage": "scanjstat",
          "title_count": 1
         },
         {
          "lineage": "mawlrumirevi",
          "title_count": 1
         },
         {
          "lineage": "vermjenvilaw",
          "title_count": 1
         },
         {
          "lineage": "mathteaceduc",
          "title_count": 1
         },
         {
          "lineage": "mathoperrese",
          "title_count": 1
         },
         {
          "lineage": "virghistbiog",
          "title_count": 1
         },
         {
          "lineage": "mathschool",
          "title_count": 1
         },
         {
          "lineage": "virgquarrevi",
          "title_count": 1
         },
         {
          "lineage": "vivarium",
          "title_count": 1
         },
         {
          "lineage": "mathhorizons",
          "title_count": 1
         },
         {
          "lineage": "voluwalpsoci",
          "title_count": 1
         },
         {
          "lineage": "voluntas",
          "title_count": 1
         },
         {
          "lineage": "marketingscience",
          "title_count": 1
         },
         {
          "lineage": "revuequmran",
          "title_count": 1
         },
         {
          "lineage": "wallstevj",
          "title_count": 1
         },
         {
          "lineage": "sartrestudint",
          "title_count": 1
         },
         {
          "lineage": "saothar",
          "title_count": 1
         },
         {
          "lineage": "masterdrawings",
          "title_count": 1
         },
         {
          "lineage": "massreview",
          "title_count": 1
         },
         {
          "lineage": "warinhistory",
          "title_count": 1
         },
         {
          "lineage": "warsinte",
          "title_count": 1
         },
         {
          "lineage": "warstech",
          "title_count": 1
         },
         {
          "lineage": "markzeitforsprax",
          "title_count": 1
         },
         {
          "lineage": "waterlines",
          "title_count": 1
         },
         {
          "lineage": "memosociamerarch",
          "title_count": 1
         },
         {
          "lineage": "vegehistarch",
          "title_count": 1
         },
         {
          "lineage": "vergstudglobasia",
          "title_count": 1
         },
         {
          "lineage": "trecorone",
          "title_count": 1
         },
         {
          "lineage": "modernchina",
          "title_count": 1
         },
         {
          "lineage": "transportationj",
          "title_count": 1
         },
         {
          "lineage": "modeasiastud",
          "title_count": 1
         },
         {
          "lineage": "modernart",
          "title_count": 1
         },
         {
          "lineage": "transcience",
          "title_count": 1
         },
         {
          "lineage": "mnemosyne",
          "title_count": 1
         },
         {
          "lineage": "trauviolabus",
          "title_count": 1
         },
         {
          "lineage": "mittkunsinstflor",
          "title_count": 1
         },
         {
          "lineage": "mittgesadeutjude",
          "title_count": 1
         },
         {
          "lineage": "travahuma",
          "title_count": 1
         },
         {
          "lineage": "tulaenvilawj",
          "title_count": 1
         },
         {
          "lineage": "translit",
          "title_count": 1
         },
         {
          "lineage": "reviespadereinte",
          "title_count": 1
         },
         {
          "lineage": "mitekufathaeven",
          "title_count": 1
         },
         {
          "lineage": "missbotagardannu",
          "title_count": 1
         },
         {
          "lineage": "mississreview",
          "title_count": 1
         },
         {
          "lineage": "tulsstudwomeslit",
          "title_count": 1
         },
         {
          "lineage": "misquarterly",
          "title_count": 1
         },
         {
          "lineage": "tumultes",
          "title_count": 1
         },
         {
          "lineage": "minerva",
          "title_count": 1
         },
         {
          "lineage": "twencentlite",
          "title_count": 1
         },
         {
          "lineage": "scieamermind",
          "title_count": 1
         },
         {
          "lineage": "reviespaderecons",
          "title_count": 1
         },
         {
          "lineage": "modefictstud",
          "title_count": 1
         },
         {
          "lineage": "revucanaetudcine",
          "title_count": 1
         },
         {
          "lineage": "tranroyahistsoci",
          "title_count": 1
         },
         {
          "lineage": "monunipp",
          "title_count": 1
         },
         {
          "lineage": "revistaletras",
          "title_count": 1
         },
         {
          "lineage": "seerjlabosoci",
          "title_count": 1
         },
         {
          "lineage": "trancambbiblsoci",
          "title_count": 1
         },
         {
          "lineage": "revidemusi",
          "title_count": 1
         },
         {
          "lineage": "trancharpeirsoc",
          "title_count": 1
         },
         {
          "lineage": "monosociresechil",
          "title_count": 1
         },
         {
          "lineage": "monojconsrese",
          "title_count": 1
         },
         {
          "lineage": "themonist",
          "title_count": 1
         },
         {
          "lineage": "revijardbotanaci",
          "title_count": 1
         },
         {
          "lineage": "tranroyairisacad",
          "title_count": 1
         },
         {
          "lineage": "transition",
          "title_count": 1
         },
         {
          "lineage": "modernphilology",
          "title_count": 1
         },
         {
          "lineage": "seanardm",
          "title_count": 1
         },
         {
          "lineage": "modernlawreview",
          "title_count": 1
         },
         {
          "lineage": "tranjhist",
          "title_count": 1
         },
         {
          "lineage": "scripta",
          "title_count": 1
         },
         {
          "lineage": "modernlanguagej",
          "title_count": 1
         },
         {
          "lineage": "tranrevi",
          "title_count": 1
         },
         {
          "lineage": "modernjudaism",
          "title_count": 1
         },
         {
          "lineage": "transformation",
          "title_count": 1
         },
         {
          "lineage": "trajincschped",
          "title_count": 1
         },
         {
          "lineage": "mind",
          "title_count": 1
         },
         {
          "lineage": "reviespafinacont",
          "title_count": 1
         },
         {
          "lineage": "milioperresej",
          "title_count": 1
         },
         {
          "lineage": "metaphilosophy",
          "title_count": 1
         },
         {
          "lineage": "mexicon",
          "title_count": 1
         },
         {
          "lineage": "mexistudestumexi",
          "title_count": 1
         },
         {
          "lineage": "metrmusestud",
          "title_count": 1
         },
         {
          "lineage": "urbanstudies",
          "title_count": 1
         },
         {
          "lineage": "uscathhist",
          "title_count": 1
         },
         {
          "lineage": "metrmusej",
          "title_count": 1
         },
         {
          "lineage": "meththeostudreli",
          "title_count": 1
         },
         {
          "lineage": "methexis",
          "title_count": 1
         },
         {
          "lineage": "revuearch",
          "title_count": 1
         },
         {
          "lineage": "utopianstudies",
          "title_count": 1
         },
         {
          "lineage": "revubelgmusibelg",
          "title_count": 1
         },
         {
          "lineage": "uclajofintllaw",
          "title_count": 1
         },
         {
          "lineage": "variborg",
          "title_count": 1
         },
         {
          "lineage": "samubecktoda",
          "title_count": 1
         },
         {
          "lineage": "mersintestudrevi",
          "title_count": 1
         },
         {
          "lineage": "ventseco",
          "title_count": 1
         },
         {
          "lineage": "revubiblsino",
          "title_count": 1
         },
         {
          "lineage": "meridians",
          "title_count": 1
         },
         {
          "lineage": "meridiana",
          "title_count": 1
         },
         {
          "lineage": "germreviunitnati",
          "title_count": 1
         },
         {
          "lineage": "verfrechuber",
          "title_count": 1
         },
         {
          "lineage": "sciencescope",
          "title_count": 1
         },
         {
          "lineage": "michael",
          "title_count": 1
         },
         {
          "lineage": "michlawrevi",
          "title_count": 1
         },
         {
          "lineage": "urbanlawyer",
          "title_count": 1
         },
         {
          "lineage": "micrecol",
          "title_count": 1
         },
         {
          "lineage": "militaryimages",
          "title_count": 1
         },
         {
          "lineage": "ulbarevi",
          "title_count": 1
         },
         {
          "lineage": "ulstjarch",
          "title_count": 1
         },
         {
          "lineage": "reviespapeda",
          "title_count": 1
         },
         {
          "lineage": "univchiclawrevi",
          "title_count": 1
         },
         {
          "lineage": "univtorolawj",
          "title_count": 1
         },
         {
          "lineage": "revigeog",
          "title_count": 1
         },
         {
          "lineage": "mikbatz",
          "title_count": 1
         },
         {
          "lineage": "mifgash",
          "title_count": 1
         },
         {
          "lineage": "revintlinibe",
          "title_count": 1
         },
         {
          "lineage": "middschoj",
          "title_count": 1
         },
         {
          "lineage": "unternehmung",
          "title_count": 1
         },
         {
          "lineage": "scieamer",
          "title_count": 1
         },
         {
          "lineage": "middeaststudies",
          "title_count": 1
         },
         {
          "lineage": "unteteacgerm",
          "title_count": 1
         },
         {
          "lineage": "scienceteacher",
          "title_count": 1
         },
         {
          "lineage": "revimexisoci",
          "title_count": 1
         },
         {
          "lineage": "middeastj",
          "title_count": 1
         },
         {
          "lineage": "midcontjarch",
          "title_count": 1
         },
         {
          "lineage": "reviportfilo",
          "title_count": 1
         },
         {
          "lineage": "revuadmi",
          "title_count": 1
         },
         {
          "lineage": "litterature",
          "title_count": 1
         },
         {
          "lineage": "linguistique",
          "title_count": 1
         },
         {
          "lineage": "revuetudslav",
          "title_count": 1
         },
         {
          "lineage": "litoral",
          "title_count": 1
         },
         {
          "lineage": "russianreview",
          "title_count": 1
         },
         {
          "lineage": "rhetpublaffa",
          "title_count": 1
         },
         {
          "lineage": "yaleunivlibrgaze",
          "title_count": 1
         },
         {
          "lineage": "yearenglstud",
          "title_count": 1
         },
         {
          "lineage": "yearassopacicoas",
          "title_count": 1
         },
         {
          "lineage": "jpolynesiansoc",
          "title_count": 1
         },
         {
          "lineage": "rhetoricreview",
          "title_count": 1
         },
         {
          "lineage": "yearworkmodlang",
          "title_count": 1
         },
         {
          "lineage": "rhetorica",
          "title_count": 1
         },
         {
          "lineage": "russling",
          "title_count": 1
         },
         {
          "lineage": "jnorthatlantic",
          "title_count": 1
         },
         {
          "lineage": "zandera",
          "title_count": 1
         },
         {
          "lineage": "zeitdeutmorggese",
          "title_count": 1
         },
         {
          "lineage": "rhodora",
          "title_count": 1
         },
         {
          "lineage": "zeitarabling",
          "title_count": 1
         },
         {
          "lineage": "jmusfineartsbos",
          "title_count": 1
         },
         {
          "lineage": "ricefolk",
          "title_count": 1
         },
         {
          "lineage": "riskmanagement",
          "title_count": 1
         },
         {
          "lineage": "jlearscie",
          "title_count": 1
         },
         {
          "lineage": "rivideglstudorie",
          "title_count": 1
         },
         {
          "lineage": "jkansentosoci",
          "title_count": 1
         },
         {
          "lineage": "zeitethn",
          "title_count": 1
         },
         {
          "lineage": "russhisthistruss",
          "title_count": 1
         },
         {
          "lineage": "revueverlaine",
          "title_count": 1
         },
         {
          "lineage": "yalelawpolirevi",
          "title_count": 1
         },
         {
          "lineage": "applstat",
          "title_count": 1
         },
         {
          "lineage": "jtropicalecology",
          "title_count": 1
         },
         {
          "lineage": "worldofmusic",
          "title_count": 1
         },
         {
          "lineage": "jworlchri",
          "title_count": 1
         },
         {
          "lineage": "worldpolicyj",
          "title_count": 1
         },
         {
          "lineage": "jwestindilite",
          "title_count": 1
         },
         {
          "lineage": "jwestafrihist",
          "title_count": 1
         },
         {
          "lineage": "jvietstud",
          "title_count": 1
         },
         {
          "lineage": "jvertpale",
          "title_count": 1
         },
         {
          "lineage": "jvegescie",
          "title_count": 1
         },
         {
          "lineage": "worldpolitics",
          "title_count": 1
         },
         {
          "lineage": "jtropforescie",
          "title_count": 1
         },
         {
          "lineage": "worldviews",
          "title_count": 1
         },
         {
          "lineage": "sociarmyhistrese",
          "title_count": 1
         },
         {
          "lineage": "jtranseconpoli",
          "title_count": 1
         },
         {
          "lineage": "jthought",
          "title_count": 1
         },
         {
          "lineage": "jtherhort",
          "title_count": 1
         },
         {
          "lineage": "jtheostud",
          "title_count": 1
         },
         {
          "lineage": "writingontheedge",
          "title_count": 1
         },
         {
          "lineage": "writingulster",
          "title_count": 1
         },
         {
          "lineage": "yalefrenstud",
          "title_count": 1
         },
         {
          "lineage": "revuphilfranetra",
          "title_count": 1
         },
         {
          "lineage": "jsocisociworkres",
          "title_count": 1
         },
         {
          "lineage": "yalelawj",
          "title_count": 1
         },
         {
          "lineage": "jindilawinst",
          "title_count": 1
         },
         {
          "lineage": "rivicultclasmedi",
          "title_count": 1
         },
         {
          "lineage": "rivifiloneoscol",
          "title_count": 1
         },
         {
          "lineage": "zeitfurslavphil",
          "title_count": 1
         },
         {
          "lineage": "rivistorchieital",
          "title_count": 1
         },
         {
          "lineage": "rivistudpoliinte",
          "title_count": 1
         },
         {
          "lineage": "zeitrech",
          "title_count": 1
         },
         {
          "lineage": "zeitreligeis",
          "title_count": 1
         },
         {
          "lineage": "rivistudpomp1987",
          "title_count": 1
         },
         {
          "lineage": "jamerresecentegy",
          "title_count": 1
         },
         {
          "lineage": "jameroriesoci",
          "title_count": 1
         },
         {
          "lineage": "jamermathsoci",
          "title_count": 1
         },
         {
          "lineage": "romancenotes",
          "title_count": 1
         },
         {
          "lineage": "rodriguesia",
          "title_count": 1
         },
         {
          "lineage": "jterrmaristud",
          "title_count": 1
         },
         {
          "lineage": "zeitpolipoliadvi",
          "title_count": 1
         },
         {
          "lineage": "jsymboliclogic",
          "title_count": 1
         },
         {
          "lineage": "jsustrealesta",
          "title_count": 1
         },
         {
          "lineage": "zeitstaaeuro",
          "title_count": 1
         },
         {
          "lineage": "jsporthistory",
          "title_count": 1
         },
         {
          "lineage": "jspecphil",
          "title_count": 1
         },
         {
          "lineage": "jsouthernhistory",
          "title_count": 1
         },
         {
          "lineage": "jsoutafristud",
          "title_count": 1
         },
         {
          "lineage": "zeittheokirc",
          "title_count": 1
         },
         {
          "lineage": "roczfiloannaphilo",
          "title_count": 1
         },
         {
          "lineage": "riviitalmusi",
          "title_count": 1
         },
         {
          "lineage": "jassoenviresecon",
          "title_count": 1
         },
         {
          "lineage": "zeitpoli",
          "title_count": 1
         },
         {
          "lineage": "zeitfriekonf",
          "title_count": 1
         },
         {
          "lineage": "zeithistfors",
          "title_count": 1
         },
         {
          "lineage": "jhistsexu",
          "title_count": 1
         },
         {
          "lineage": "jhistmediallisci",
          "title_count": 1
         },
         {
          "lineage": "jhistoryideas",
          "title_count": 1
         },
         {
          "lineage": "jhistbiol",
          "title_count": 1
         },
         {
          "lineage": "jhistsocnige",
          "title_count": 1
         },
         {
          "lineage": "zeitfurgerm",
          "title_count": 1
         },
         {
          "lineage": "jgildageprogera",
          "title_count": 1
         },
         {
          "lineage": "jgalarchhistsoc",
          "title_count": 1
         },
         {
          "lineage": "jfantarts",
          "title_count": 1
         },
         {
          "lineage": "jeuroeconasso",
          "title_count": 1
         },
         {
          "lineage": "zeitintebezi",
          "title_count": 1
         },
         {
          "lineage": "zeitphilfors",
          "title_count": 1
         },
         {
          "lineage": "zeitkaththeo",
          "title_count": 1
         },
         {
          "lineage": "romafors",
          "title_count": 1
         },
         {
          "lineage": "romania",
          "title_count": 1
         },
         {
          "lineage": "romancephilology",
          "title_count": 1
         },
         {
          "lineage": "jeconsocihistori",
          "title_count": 1
         },
         {
          "lineage": "jearlyrepublic",
          "title_count": 1
         },
         {
          "lineage": "zeitoffegemeunte",
          "title_count": 1
         },
         {
          "lineage": "zeitpapyepig",
          "title_count": 1
         },
         {
          "lineage": "zeitfurparlament",
          "title_count": 1
         },
         {
          "lineage": "jcivilwarera",
          "title_count": 1
         },
         {
          "lineage": "worlbankreseobse",
          "title_count": 1
         },
         {
          "lineage": "saeintejtransafe",
          "title_count": 1
         },
         {
          "lineage": "worlbankeconrevi",
          "title_count": 1
         },
         {
          "lineage": "wildsocibull2011",
          "title_count": 1
         },
         {
          "lineage": "leardisaquar",
          "title_count": 1
         },
         {
          "lineage": "learteaclatiss",
          "title_count": 1
         },
         {
          "lineage": "wildmono",
          "title_count": 1
         },
         {
          "lineage": "lawsocietyreview",
          "title_count": 1
         },
         {
          "lineage": "lawphilosophy",
          "title_count": 1
         },
         {
          "lineage": "lawhistoryreview",
          "title_count": 1
         },
         {
          "lineage": "lawcontprob",
          "title_count": 1
         },
         {
          "lineage": "lato",
          "title_count": 1
         },
         {
          "lineage": "latiamerreserevi",
          "title_count": 1
         },
         {
          "lineage": "latiamerpers",
          "title_count": 1
         },
         {
          "lineage": "salmagundi",
          "title_count": 1
         },
         {
          "lineage": "wildean",
          "title_count": 1
         },
         {
          "lineage": "latinamerlitrev",
          "title_count": 1
         },
         {
          "lineage": "latiameranti",
          "title_count": 1
         },
         {
          "lineage": "lares",
          "title_count": 1
         },
         {
          "lineage": "langfranc",
          "title_count": 1
         },
         {
          "lineage": "langsoci",
          "title_count": 1
         },
         {
          "lineage": "langacqu",
          "title_count": 1
         },
         {
          "lineage": "wilkiecollinsj",
          "title_count": 1
         },
         {
          "lineage": "language",
          "title_count": 1
         },
         {
          "lineage": "langhughrevi",
          "title_count": 1
         },
         {
          "lineage": "lang",
          "title_count": 1
         },
         {
          "lineage": "lecturadantis",
          "title_count": 1
         },
         {
          "lineage": "legacy",
          "title_count": 1
         },
         {
          "lineage": "landarch",
          "title_count": 1
         },
         {
          "lineage": "lindbergia",
          "title_count": 1
         },
         {
          "lineage": "litigation",
          "title_count": 1
         },
         {
          "lineage": "westhistquar",
          "title_count": 1
         },
         {
          "lineage": "wicazosareview",
          "title_count": 1
         },
         {
          "lineage": "litefilmquar",
          "title_count": 1
         },
         {
          "lineage": "wienslavjahr",
          "title_count": 1
         },
         {
          "lineage": "wienerstudien",
          "title_count": 1
         },
         {
          "lineage": "wienzeitkundmorg",
          "title_count": 1
         },
         {
          "lineage": "monumentaserica",
          "title_count": 1
         },
         {
          "lineage": "linginqu",
          "title_count": 1
         },
         {
          "lineage": "linenhallreview",
          "title_count": 1
         },
         {
          "lineage": "revusciephiltheo",
          "title_count": 1
         },
         {
          "lineage": "legistudquar",
          "title_count": 1
         },
         {
          "lineage": "libraryq",
          "title_count": 1
         },
         {
          "lineage": "levinasstudies",
          "title_count": 1
         },
         {
          "lineage": "wienzeitkundsuda",
          "title_count": 1
         },
         {
          "lineage": "leviathan",
          "title_count": 1
         },
         {
          "lineage": "lettereitaliane",
          "title_count": 1
         },
         {
          "lineage": "lesonenu",
          "title_count": 1
         },
         {
          "lineage": "leonsuppissu",
          "title_count": 1
         },
         {
          "lineage": "leonardomusicj",
          "title_count": 1
         },
         {
          "lineage": "leonardo",
          "title_count": 1
         },
         {
          "lineage": "lenavenjinte",
          "title_count": 1
         },
         {
          "lineage": "landscapej",
          "title_count": 1
         },
         {
          "lineage": "revuhistlittfran",
          "title_count": 1
         },
         {
          "lineage": "jworldhistory",
          "title_count": 1
         },
         {
          "lineage": "keatsshelleyj",
          "title_count": 1
         },
         {
          "lineage": "kirkia",
          "title_count": 1
         },
         {
          "lineage": "kirczeit",
          "title_count": 1
         },
         {
          "lineage": "keywords",
          "title_count": 1
         },
         {
          "lineage": "revufranetudamer",
          "title_count": 1
         },
         {
          "lineage": "kesher",
          "title_count": 1
         },
         {
          "lineage": "woolstudannu",
          "title_count": 1
         },
         {
          "lineage": "wordsworthcircle",
          "title_count": 1
         },
         {
          "lineage": "kerryarchmag",
          "title_count": 1
         },
         {
          "lineage": "kenyrevi",
          "title_count": 1
         },
         {
          "lineage": "workemplsoci",
          "title_count": 1
         },
         {
          "lineage": "franhistudepoli",
          "title_count": 1
         },
         {
          "lineage": "kiva",
          "title_count": 1
         },
         {
          "lineage": "revuhist",
          "title_count": 1
         },
         {
          "lineage": "justsystj",
          "title_count": 1
         },
         {
          "lineage": "theworkshop",
          "title_count": 1
         },
         {
          "lineage": "worlaffainteissu",
          "title_count": 1
         },
         {
          "lineage": "joycstudann",
          "title_count": 1
         },
         {
          "lineage": "saggmemostorarte",
          "title_count": 1
         },
         {
          "lineage": "sagabook",
          "title_count": 1
         },
         {
          "lineage": "revuintephil",
          "title_count": 1
         },
         {
          "lineage": "worldarchaeology",
          "title_count": 1
         },
         {
          "lineage": "jworlprehist",
          "title_count": 1
         },
         {
          "lineage": "womesrevibook",
          "title_count": 1
         },
         {
          "lineage": "knighterrant",
          "title_count": 1
         },
         {
          "lineage": "willjamestud",
          "title_count": 1
         },
         {
          "lineage": "womansartj",
          "title_count": 1
         },
         {
          "lineage": "revueeconomique",
          "title_count": 1
         },
         {
          "lineage": "wilsonq",
          "title_count": 1
         },
         {
          "lineage": "revueuroetudhebr",
          "title_count": 1
         },
         {
          "lineage": "revufranpeda",
          "title_count": 1
         },
         {
          "lineage": "lamppostsoutcali",
          "title_count": 1
         },
         {
          "lineage": "windengi",
          "title_count": 1
         },
         {
          "lineage": "labourtravail",
          "title_count": 1
         },
         {
          "lineage": "wintport",
          "title_count": 1
         },
         {
          "lineage": "revufransciepoli",
          "title_count": 1
         },
         {
          "lineage": "wiscmagahist",
          "title_count": 1
         },
         {
          "lineage": "revfranscipoleng",
          "title_count": 1
         },
         {
          "lineage": "korelangamer",
          "title_count": 1
         },
         {
          "lineage": "kunstdesorients",
          "title_count": 1
         },
         {
          "lineage": "revufransoci",
          "title_count": 1
         },
         {
          "lineage": "kulturpoetik",
          "title_count": 1
         },
         {
          "lineage": "womgenfamcol",
          "title_count": 1
         },
         {
          "lineage": "kronos",
          "title_count": 1
         },
         {
          "lineage": "revfransocieng",
          "title_count": 1
         },
         {
          "lineage": "saggmusi",
          "title_count": 1
         },
         {
          "lineage": "kritischejustiz",
          "title_count": 1
         },
         {
          "lineage": "koreanstudies",
          "title_count": 1
         },
         {
          "lineage": "womencolor",
          "title_count": 1
         },
         {
          "lineage": "tranamermathsoci",
          "title_count": 1
         },
         {
          "lineage": "movingimage",
          "title_count": 1
         },
         {
          "lineage": "revihistamer",
          "title_count": 1
         },
         {
          "lineage": "studnove",
          "title_count": 1
         },
         {
          "lineage": "southerncultures",
          "title_count": 1
         },
         {
          "lineage": "plantcell",
          "title_count": 1
         },
         {
          "lineage": "souteconj",
          "title_count": 1
         },
         {
          "lineage": "plantandsoil",
          "title_count": 1
         },
         {
          "lineage": "planningtheory",
          "title_count": 1
         },
         {
          "lineage": "signlangstud",
          "title_count": 1
         },
         {
          "lineage": "sidra",
          "title_count": 1
         },
         {
          "lineage": "renastudies",
          "title_count": 1
         },
         {
          "lineage": "pilgrimages",
          "title_count": 1
         },
         {
          "lineage": "pimuepsilonj",
          "title_count": 1
         },
         {
          "lineage": "phytmedi",
          "title_count": 1
         },
         {
          "lineage": "sidelightssayers",
          "title_count": 1
         },
         {
          "lineage": "reneenerlawpolre",
          "title_count": 1
         },
         {
          "lineage": "sichfriesecupeac",
          "title_count": 1
         },
         {
          "lineage": "phronesis",
          "title_count": 1
         },
         {
          "lineage": "soutnatu",
          "title_count": 1
         },
         {
          "lineage": "siamreview",
          "title_count": 1
         },
         {
          "lineage": "phoenix",
          "title_count": 1
         },
         {
          "lineage": "sozialewelt",
          "title_count": 1
         },
         {
          "lineage": "representations",
          "title_count": 1
         },
         {
          "lineage": "sozifort",
          "title_count": 1
         },
         {
          "lineage": "phileastwest",
          "title_count": 1
         },
         {
          "lineage": "philrhet",
          "title_count": 1
         },
         {
          "lineage": "soutafrijourdemo",
          "title_count": 1
         },
         {
          "lineage": "planphys",
          "title_count": 1
         },
         {
          "lineage": "soutnatu2",
          "title_count": 1
         },
         {
          "lineage": "soutasiaaffa",
          "title_count": 1
         },
         {
          "lineage": "polilifescie",
          "title_count": 1
         },
         {
          "lineage": "renacimiento",
          "title_count": 1
         },
         {
          "lineage": "politicaltheory",
          "title_count": 1
         },
         {
          "lineage": "polisciequar",
          "title_count": 1
         },
         {
          "lineage": "simobeaustud",
          "title_count": 1
         },
         {
          "lineage": "polipsyc",
          "title_count": 1
         },
         {
          "lineage": "polibeha",
          "title_count": 1
         },
         {
          "lineage": "renarefo",
          "title_count": 1
         },
         {
          "lineage": "siminethquarhist",
          "title_count": 1
         },
         {
          "lineage": "souteastasiarese",
          "title_count": 1
         },
         {
          "lineage": "politicaexterior",
          "title_count": 1
         },
         {
          "lineage": "soutgeog",
          "title_count": 1
         },
         {
          "lineage": "politeja",
          "title_count": 1
         },
         {
          "lineage": "signs",
          "title_count": 1
         },
         {
          "lineage": "poliamerstud",
          "title_count": 1
         },
         {
          "lineage": "policysciences",
          "title_count": 1
         },
         {
          "lineage": "poetirelrevi",
          "title_count": 1
         },
         {
          "lineage": "poetry",
          "title_count": 1
         },
         {
          "lineage": "poeticstoday",
          "title_count": 1
         },
         {
          "lineage": "southeastarch",
          "title_count": 1
         },
         {
          "lineage": "poetica",
          "title_count": 1
         },
         {
          "lineage": "ploughshares",
          "title_count": 1
         },
         {
          "lineage": "philpublaffa",
          "title_count": 1
         },
         {
          "lineage": "philphenrese",
          "title_count": 1
         },
         {
          "lineage": "sozialesrecht",
          "title_count": 1
         },
         {
          "lineage": "studclassorie",
          "title_count": 1
         },
         {
          "lineage": "steinbeckreview",
          "title_count": 1
         },
         {
          "lineage": "phalanx",
          "title_count": 1
         },
         {
          "lineage": "storselfsoci",
          "title_count": 1
         },
         {
          "lineage": "storyworlds",
          "title_count": 1
         },
         {
          "lineage": "stramanaj",
          "title_count": 1
         },
         {
          "lineage": "straorga",
          "title_count": 1
         },
         {
          "lineage": "resehighedu",
          "title_count": 1
         },
         {
          "lineage": "resephen",
          "title_count": 1
         },
         {
          "lineage": "resintheteacheng",
          "title_count": 1
         },
         {
          "lineage": "petrarchesca",
          "title_count": 1
         },
         {
          "lineage": "studisociologia",
          "title_count": 1
         },
         {
          "lineage": "statomercato",
          "title_count": 1
         },
         {
          "lineage": "personwork",
          "title_count": 1
         },
         {
          "lineage": "perspsycscie",
          "title_count": 1
         },
         {
          "lineage": "perspoli",
          "title_count": 1
         },
         {
          "lineage": "persnewmusi",
          "title_count": 1
         },
         {
          "lineage": "perspecta",
          "title_count": 1
         },
         {
          "lineage": "reseinte",
          "title_count": 1
         },
         {
          "lineage": "shnaton",
          "title_count": 1
         },
         {
          "lineage": "studikantiani",
          "title_count": 1
         },
         {
          "lineage": "pennmaghistbio",
          "title_count": 1
         },
         {
          "lineage": "pennlega",
          "title_count": 1
         },
         {
          "lineage": "reseafrilite",
          "title_count": 1
         },
         {
          "lineage": "phanfors",
          "title_count": 1
         },
         {
          "lineage": "philrund",
          "title_count": 1
         },
         {
          "lineage": "philquar",
          "title_count": 1
         },
         {
          "lineage": "spectrum",
          "title_count": 1
         },
         {
          "lineage": "shofar",
          "title_count": 1
         },
         {
          "lineage": "speculum",
          "title_count": 1
         },
         {
          "lineage": "spheres",
          "title_count": 1
         },
         {
          "lineage": "spore",
          "title_count": 1
         },
         {
          "lineage": "spring",
          "title_count": 1
         },
         {
          "lineage": "stantointerevi",
          "title_count": 1
         },
         {
          "lineage": "staat",
          "title_count": 1
         },
         {
          "lineage": "philstudies",
          "title_count": 1
         },
         {
          "lineage": "philrevi",
          "title_count": 1
         },
         {
          "lineage": "philpers",
          "title_count": 1
         },
         {
          "lineage": "philrothstud",
          "title_count": 1
         },
         {
          "lineage": "resanthroaesth",
          "title_count": 1
         },
         {
          "lineage": "statesociety",
          "title_count": 1
         },
         {
          "lineage": "philissu",
          "title_count": 1
         },
         {
          "lineage": "philrefo",
          "title_count": 1
         },
         {
          "lineage": "stapolpolicyq",
          "title_count": 1
         },
         {
          "lineage": "statisticasinica",
          "title_count": 1
         },
         {
          "lineage": "statscie",
          "title_count": 1
         },
         {
          "lineage": "reseteacdeveeduc",
          "title_count": 1
         },
         {
          "lineage": "philisocirevi",
          "title_count": 1
         },
         {
          "lineage": "philquarcultsoci",
          "title_count": 1
         },
         {
          "lineage": "politika",
          "title_count": 1
         },
         {
          "lineage": "polietra",
          "title_count": 1
         },
         {
          "lineage": "polieuro",
          "title_count": 1
         },
         {
          "lineage": "psychscipubint",
          "title_count": 1
         },
         {
          "lineage": "readresequar",
          "title_count": 1
         },
         {
          "lineage": "socitheoprac",
          "title_count": 1
         },
         {
          "lineage": "sociworkrese",
          "title_count": 1
         },
         {
          "lineage": "publopinquar",
          "title_count": 1
         },
         {
          "lineage": "publichistorian",
          "title_count": 1
         },
         {
          "lineage": "socimentheal",
          "title_count": 1
         },
         {
          "lineage": "publhealethi",
          "title_count": 1
         },
         {
          "lineage": "pubconlawj",
          "title_count": 1
         },
         {
          "lineage": "publaffaq",
          "title_count": 1
         },
         {
          "lineage": "publadmirevi",
          "title_count": 1
         },
         {
          "lineage": "psychsci",
          "title_count": 1
         },
         {
          "lineage": "socialproblems",
          "title_count": 1
         },
         {
          "lineage": "psycinqu",
          "title_count": 1
         },
         {
          "lineage": "socibull",
          "title_count": 1
         },
         {
          "lineage": "psycneurmedipsyc",
          "title_count": 1
         },
         {
          "lineage": "sociforu",
          "title_count": 1
         },
         {
          "lineage": "prospettiva",
          "title_count": 1
         },
         {
          "lineage": "prooftexts",
          "title_count": 1
         },
         {
          "lineage": "profession",
          "title_count": 1
         },
         {
          "lineage": "procsemiarabstud",
          "title_count": 1
         },
         {
          "lineage": "procroyaanthinst",
          "title_count": 1
         },
         {
          "lineage": "procnatiacadscie",
          "title_count": 1
         },
         {
          "lineage": "publastrsocipaci",
          "title_count": 1
         },
         {
          "lineage": "publius",
          "title_count": 1
         },
         {
          "lineage": "procmediassoprev",
          "title_count": 1
         },
         {
          "lineage": "rassstudetio",
          "title_count": 1
         },
         {
          "lineage": "radiresesupp",
          "title_count": 1
         },
         {
          "lineage": "racethmulglocon",
          "title_count": 1
         },
         {
          "lineage": "racepoveenvi",
          "title_count": 1
         },
         {
          "lineage": "socisciehist",
          "title_count": 1
         },
         {
          "lineage": "racar",
          "title_count": 1
         },
         {
          "lineage": "quarrevibiol",
          "title_count": 1
         },
         {
          "lineage": "quarapplmath",
          "title_count": 1
         },
         {
          "lineage": "quarjecon",
          "title_count": 1
         },
         {
          "lineage": "socisciejapaj",
          "title_count": 1
         },
         {
          "lineage": "quarbankrevi",
          "title_count": 1
         },
         {
          "lineage": "qualliferese",
          "title_count": 1
         },
         {
          "lineage": "qadmoniot",
          "title_count": 1
         },
         {
          "lineage": "rassmensisrael",
          "title_count": 1
         },
         {
          "lineage": "quadurbicultclas",
          "title_count": 1
         },
         {
          "lineage": "socialscientist",
          "title_count": 1
         },
         {
          "lineage": "socialsecurity",
          "title_count": 1
         },
         {
          "lineage": "sociservrevi",
          "title_count": 1
         },
         {
          "lineage": "quadstudarab",
          "title_count": 1
         },
         {
          "lineage": "qedemreports",
          "title_count": 1
         },
         {
          "lineage": "qedem",
          "title_count": 1
         },
         {
          "lineage": "qed",
          "title_count": 1
         },
         {
          "lineage": "socialtext",
          "title_count": 1
         },
         {
          "lineage": "procmeetamerphil",
          "title_count": 1
         },
         {
          "lineage": "procindihistcong",
          "title_count": 1
         },
         {
          "lineage": "relistu",
          "title_count": 1
         },
         {
          "lineage": "portstudies",
          "title_count": 1
         },
         {
          "lineage": "preternature",
          "title_count": 1
         },
         {
          "lineage": "presandrmalr",
          "title_count": 1
         },
         {
          "lineage": "presafri",
          "title_count": 1
         },
         {
          "lineage": "praxis",
          "title_count": 1
         },
         {
          "lineage": "jsocialhistory",
          "title_count": 1
         },
         {
          "lineage": "relainte2",
          "title_count": 1
         },
         {
          "lineage": "prairieschooner",
          "title_count": 1
         },
         {
          "lineage": "pracanth",
          "title_count": 1
         },
         {
          "lineage": "powysj",
          "title_count": 1
         },
         {
          "lineage": "positions",
          "title_count": 1
         },
         {
          "lineage": "thesoil",
          "title_count": 1
         },
         {
          "lineage": "regioncohesion",
          "title_count": 1
         },
         {
          "lineage": "popustud",
          "title_count": 1
         },
         {
          "lineage": "poprespolrev",
          "title_count": 1
         },
         {
          "lineage": "reliamercult",
          "title_count": 1
         },
         {
          "lineage": "popufrenedit",
          "title_count": 1
         },
         {
          "lineage": "popudeverevi",
          "title_count": 1
         },
         {
          "lineage": "sojourn",
          "title_count": 1
         },
         {
          "lineage": "sournotehistart",
          "title_count": 1
         },
         {
          "lineage": "soutafriarchbull",
          "title_count": 1
         },
         {
          "lineage": "popularmusic",
          "title_count": 1
         },
         {
          "lineage": "polity",
          "title_count": 1
         },
         {
          "lineage": "sociology",
          "title_count": 1
         },
         {
          "lineage": "printquarterly",
          "title_count": 1
         },
         {
          "lineage": "reception",
          "title_count": 1
         },
         {
          "lineage": "procamerphilsoci",
          "title_count": 1
         },
         {
          "lineage": "socimeth",
          "title_count": 1
         },
         {
          "lineage": "sociissuisra",
          "title_count": 1
         },
         {
          "lineage": "sociindirese",
          "title_count": 1
         },
         {
          "lineage": "socihist",
          "title_count": 1
         },
         {
          "lineage": "procharvceltcoll",
          "title_count": 1
         },
         {
          "lineage": "procarissocisupp",
          "title_count": 1
         },
         {
          "lineage": "rechapplmark",
          "title_count": 1
         },
         {
          "lineage": "procarissoci",
          "title_count": 1
         },
         {
          "lineage": "socichoiwelf",
          "title_count": 1
         },
         {
          "lineage": "socitheo",
          "title_count": 1
         },
         {
          "lineage": "soceconstud",
          "title_count": 1
         },
         {
          "lineage": "region",
          "title_count": 1
         },
         {
          "lineage": "procamermathsoci",
          "title_count": 1
         },
         {
          "lineage": "socianalysis",
          "title_count": 1
         },
         {
          "lineage": "procameracadjewi",
          "title_count": 1
         },
         {
          "lineage": "socitrav",
          "title_count": 1
         },
         {
          "lineage": "procacadnatuscie",
          "title_count": 1
         },
         {
          "lineage": "smallbusecon",
          "title_count": 1
         },
         {
          "lineage": "socifors",
          "title_count": 1
         },
         {
          "lineage": "sociologus",
          "title_count": 1
         },
         {
          "lineage": "procaddramerphil",
          "title_count": 1
         },
         {
          "lineage": "probdeldesa",
          "title_count": 1
         },
         {
          "lineage": "resilience",
          "title_count": 1
         },
         {
          "lineage": "pennhistory",
          "title_count": 1
         },
         {
          "lineage": "tramatexturas",
          "title_count": 1
         },
         {
          "lineage": "pedahealprom",
          "title_count": 1
         },
         {
          "lineage": "newlaborforum",
          "title_count": 1
         },
         {
          "lineage": "technometrics",
          "title_count": 1
         },
         {
          "lineage": "newhiberevi",
          "title_count": 1
         },
         {
          "lineage": "newgermcrit",
          "title_count": 1
         },
         {
          "lineage": "tempo",
          "title_count": 1
         },
         {
          "lineage": "sewaneerev",
          "title_count": 1
         },
         {
          "lineage": "newenglquar",
          "title_count": 1
         },
         {
          "lineage": "newatlantis",
          "title_count": 1
         },
         {
          "lineage": "neupmitt",
          "title_count": 1
         },
         {
          "lineage": "tennwillannurevi",
          "title_count": 1
         },
         {
          "lineage": "revisociecon",
          "title_count": 1
         },
         {
          "lineage": "neuezeitmusi1991",
          "title_count": 1
         },
         {
          "lineage": "neuekrim",
          "title_count": 1
         },
         {
          "lineage": "neotestamentica",
          "title_count": 1
         },
         {
          "lineage": "nedekunsjaarnkjn",
          "title_count": 1
         },
         {
          "lineage": "tennresebull",
          "title_count": 1
         },
         {
          "lineage": "reviamerhist",
          "title_count": 1
         },
         {
          "lineage": "nbermacrannu",
          "title_count": 1
         },
         {
          "lineage": "teorreviintefilo",
          "title_count": 1
         },
         {
          "lineage": "revichildere",
          "title_count": 1
         },
         {
          "lineage": "nberintesemimacr",
          "title_count": 1
         },
         {
          "lineage": "nawppach",
          "title_count": 1
         },
         {
          "lineage": "natureculture",
          "title_count": 1
         },
         {
          "lineage": "newlitehist",
          "title_count": 1
         },
         {
          "lineage": "newpath",
          "title_count": 1
         },
         {
          "lineage": "techcult",
          "title_count": 1
         },
         {
          "lineage": "ninecentfrenstud",
          "title_count": 1
         },
         {
          "lineage": "syria",
          "title_count": 1
         },
         {
          "lineage": "notes",
          "title_count": 1
         },
         {
          "lineage": "rockmounjmath",
          "title_count": 1
         },
         {
          "lineage": "nortkorerevi",
          "title_count": 1
         },
         {
          "lineage": "northirishroots",
          "title_count": 1
         },
         {
          "lineage": "nortcarohistrevi",
          "title_count": 1
         },
         {
          "lineage": "revireseeduc",
          "title_count": 1
         },
         {
          "lineage": "nordirisstud",
          "title_count": 1
         },
         {
          "lineage": "nomos",
          "title_count": 1
         },
         {
          "lineage": "systematicbotany",
          "title_count": 1
         },
         {
          "lineage": "systbotamono",
          "title_count": 1
         },
         {
          "lineage": "newphytologist",
          "title_count": 1
         },
         {
          "lineage": "nicotobarese",
          "title_count": 1
         },
         {
          "lineage": "tarbiz",
          "title_count": 1
         },
         {
          "lineage": "tattstudessarena",
          "title_count": 1
         },
         {
          "lineage": "tavmusiartssoci",
          "title_count": 1
         },
         {
          "lineage": "taxpolicyeconomy",
          "title_count": 1
         },
         {
          "lineage": "taxon",
          "title_count": 1
         },
         {
          "lineage": "teacgeog",
          "title_count": 1
         },
         {
          "lineage": "teachinghistory",
          "title_count": 1
         },
         {
          "lineage": "teacsoci",
          "title_count": 1
         },
         {
          "lineage": "newzealinterevi",
          "title_count": 1
         },
         {
          "lineage": "naturesoj",
          "title_count": 1
         },
         {
          "lineage": "natulangsema",
          "title_count": 1
         },
         {
          "lineage": "natulanglingtheo",
          "title_count": 1
         },
         {
          "lineage": "museumhelveticum",
          "title_count": 1
         },
         {
          "lineage": "musicajudaica",
          "title_count": 1
         },
         {
          "lineage": "musitheospec",
          "title_count": 1
         },
         {
          "lineage": "revicritlitelati",
          "title_count": 1
         },
         {
          "lineage": "selbyana",
          "title_count": 1
         },
         {
          "lineage": "musicperception",
          "title_count": 1
         },
         {
          "lineage": "sehnsucht",
          "title_count": 1
         },
         {
          "lineage": "tobaccocontrol",
          "title_count": 1
         },
         {
          "lineage": "musimoviimag",
          "title_count": 1
         },
         {
          "lineage": "musicletters",
          "title_count": 1
         },
         {
          "lineage": "musicanalysis",
          "title_count": 1
         },
         {
          "lineage": "toraumaddj",
          "title_count": 1
         },
         {
          "lineage": "tibetjournal",
          "title_count": 1
         },
         {
          "lineage": "muqarnas",
          "title_count": 1
         },
         {
          "lineage": "moznaim",
          "title_count": 1
         },
         {
          "lineage": "socialresearch",
          "title_count": 1
         },
         {
          "lineage": "movement",
          "title_count": 1
         },
         {
          "lineage": "toungpao",
          "title_count": 1
         },
         {
          "lineage": "traditio",
          "title_count": 1
         },
         {
          "lineage": "trad",
          "title_count": 1
         },
         {
          "lineage": "mosajintestudlit",
          "title_count": 1
         },
         {
          "lineage": "sefunot",
          "title_count": 1
         },
         {
          "lineage": "traddwelsettrevi",
          "title_count": 1
         },
         {
          "lineage": "musicalquarterly",
          "title_count": 1
         },
         {
          "lineage": "musurgia",
          "title_count": 1
         },
         {
          "lineage": "nativeplantsj",
          "title_count": 1
         },
         {
          "lineage": "theorysociety",
          "title_count": 1
         },
         {
          "lineage": "tesolquarterly",
          "title_count": 1
         },
         {
          "lineage": "natiindistudj",
          "title_count": 1
         },
         {
          "lineage": "revchilenalit",
          "title_count": 1
         },
         {
          "lineage": "theatreireland",
          "title_count": 1
         },
         {
          "lineage": "theoria",
          "title_count": 1
         },
         {
          "lineage": "theoriaintejtheo",
          "title_count": 1
         },
         {
          "lineage": "nationalinterest",
          "title_count": 1
         },
         {
          "lineage": "reviantr",
          "title_count": 1
         },
         {
          "lineage": "natiinsteconrevi",
          "title_count": 1
         },
         {
          "lineage": "theorypractice",
          "title_count": 1
         },
         {
          "lineage": "natigalltechbull",
          "title_count": 1
         },
         {
          "lineage": "thresholds",
          "title_count": 1
         },
         {
          "lineage": "thirworlquar",
          "title_count": 1
         },
         {
          "lineage": "thomashardyj",
          "title_count": 1
         },
         {
          "lineage": "nashim",
          "title_count": 1
         },
         {
          "lineage": "thorsocibull",
          "title_count": 1
         },
         {
          "lineage": "narrcult",
          "title_count": 1
         },
         {
          "lineage": "reviarquamer",
          "title_count": 1
         },
         {
          "lineage": "threrevi",
          "title_count": 1
         },
         {
          "lineage": "narrative",
          "title_count": 1
         },
         {
          "lineage": "nactajournal",
          "title_count": 1
         },
         {
          "lineage": "reviarquhisargla",
          "title_count": 1
         },
         {
          "lineage": "revirelirese",
          "title_count": 1
         },
         {
          "lineage": "reviewpolitics",
          "title_count": 1
         },
         {
          "lineage": "noterecoroyasoci",
          "title_count": 1
         },
         {
          "lineage": "oxforevieduc",
          "title_count": 1
         },
         {
          "lineage": "paideuma2",
          "title_count": 1
         },
         {
          "lineage": "revieconstat",
          "title_count": 1
         },
         {
          "lineage": "studaltakult",
          "title_count": 1
         },
         {
          "lineage": "studmusik",
          "title_count": 1
         },
         {
          "lineage": "studiesirishrev",
          "title_count": 1
         },
         {
          "lineage": "studamernatu",
          "title_count": 1
         },
         {
          "lineage": "pacihistrevi",
          "title_count": 1
         },
         {
          "lineage": "pacicoasphil",
          "title_count": 1
         },
         {
          "lineage": "studarteduc",
          "title_count": 1
         },
         {
          "lineage": "studbibliobook",
          "title_count": 1
         },
         {
          "lineage": "oxforevieconpoli",
          "title_count": 1
         },
         {
          "lineage": "studrose",
          "title_count": 1
         },
         {
          "lineage": "studcons",
          "title_count": 1
         },
         {
          "lineage": "oxfoliterevi",
          "title_count": 1
         },
         {
          "lineage": "oxfojlegastud",
          "title_count": 1
         },
         {
          "lineage": "revieducrese",
          "title_count": 1
         },
         {
          "lineage": "revienglstud",
          "title_count": 1
         },
         {
          "lineage": "oxfoeconpape",
          "title_count": 1
         },
         {
          "lineage": "oxfordartj",
          "title_count": 1
         },
         {
          "lineage": "studieseducation",
          "title_count": 1
         },
         {
          "lineage": "osiris",
          "title_count": 1
         },
         {
          "lineage": "ornithmono",
          "title_count": 1
         },
         {
          "lineage": "revieconstud",
          "title_count": 1
         },
         {
          "lineage": "pakistanhorizon",
          "title_count": 1
         },
         {
          "lineage": "orientalia",
          "title_count": 1
         },
         {
          "lineage": "pasajes",
          "title_count": 1
         },
         {
          "lineage": "peamim",
          "title_count": 1
         },
         {
          "lineage": "studistorici",
          "title_count": 1
         },
         {
          "lineage": "peakestudies",
          "title_count": 1
         },
         {
          "lineage": "peaceresearch",
          "title_count": 1
         },
         {
          "lineage": "studhibe",
          "title_count": 1
         },
         {
          "lineage": "peabjeduc",
          "title_count": 1
         },
         {
          "lineage": "pastpresent",
          "title_count": 1
         },
         {
          "lineage": "studiaislamica",
          "title_count": 1
         },
         {
          "lineage": "reststudengllite",
          "title_count": 1
         },
         {
          "lineage": "pastorgcihistsoc",
          "title_count": 1
         },
         {
          "lineage": "paragraph",
          "title_count": 1
         },
         {
          "lineage": "shenmishivri",
          "title_count": 1
         },
         {
          "lineage": "studialeib",
          "title_count": 1
         },
         {
          "lineage": "papbritschrome",
          "title_count": 1
         },
         {
          "lineage": "revifernbraucent",
          "title_count": 1
         },
         {
          "lineage": "studlogi",
          "title_count": 1
         },
         {
          "lineage": "pallas",
          "title_count": 1
         },
         {
          "lineage": "paleorient",
          "title_count": 1
         },
         {
          "lineage": "palemono",
          "title_count": 1
         },
         {
          "lineage": "paleobiology",
          "title_count": 1
         },
         {
          "lineage": "palaios",
          "title_count": 1
         },
         {
          "lineage": "reviafripoliecon",
          "title_count": 1
         },
         {
          "lineage": "orientemoderno",
          "title_count": 1
         },
         {
          "lineage": "oriensextremus",
          "title_count": 1
         },
         {
          "lineage": "noticieroalfonsi",
          "title_count": 1
         },
         {
          "lineage": "novon",
          "title_count": 1
         },
         {
          "lineage": "maghist",
          "title_count": 1
         },
         {
          "lineage": "stuslavgenling",
          "title_count": 1
         },
         {
          "lineage": "studamerrena",
          "title_count": 1
         },
         {
          "lineage": "numinotemono",
          "title_count": 1
         },
         {
          "lineage": "studiesnovel",
          "title_count": 1
         },
         {
          "lineage": "numen",
          "title_count": 1
         },
         {
          "lineage": "style",
          "title_count": 1
         },
         {
          "lineage": "nuerevdefilohisp",
          "title_count": 1
         },
         {
          "lineage": "substance",
          "title_count": 1
         },
         {
          "lineage": "novumtestamentum",
          "title_count": 1
         },
         {
          "lineage": "noveforufict",
          "title_count": 1
         },
         {
          "lineage": "oceania",
          "title_count": 1
         },
         {
          "lineage": "novareligio",
          "title_count": 1
         },
         {
          "lineage": "sudanotereco",
          "title_count": 1
         },
         {
          "lineage": "suprcoureconrevi",
          "title_count": 1
         },
         {
          "lineage": "nouvetudfran",
          "title_count": 1
         },
         {
          "lineage": "suprcourrevi",
          "title_count": 1
         },
         {
          "lineage": "symbinte",
          "title_count": 1
         },
         {
          "lineage": "symploke",
          "title_count": 1
         },
         {
          "lineage": "nous",
          "title_count": 1
         },
         {
          "lineage": "synthese",
          "title_count": 1
         },
         {
          "lineage": "revmetaphysics",
          "title_count": 1
         },
         {
          "lineage": "revijapacultsoci",
          "title_count": 1
         },
         {
          "lineage": "ocealing",
          "title_count": 1
         },
         {
          "lineage": "studengllite1500",
          "title_count": 1
         },
         {
          "lineage": "onpoint",
          "title_count": 1
         },
         {
          "lineage": "revifinastud",
          "title_count": 1
         },
         {
          "lineage": "oriens",
          "title_count": 1
         },
         {
          "lineage": "orgascie",
          "title_count": 1
         },
         {
          "lineage": "studfamiplan",
          "title_count": 1
         },
         {
          "lineage": "oralhistrevi",
          "title_count": 1
         },
         {
          "lineage": "oralhistory",
          "title_count": 1
         },
         {
          "lineage": "studicon",
          "title_count": 1
         },
         {
          "lineage": "opflow",
          "title_count": 1
         },
         {
          "lineage": "studphil",
          "title_count": 1
         },
         {
          "lineage": "opdrestauro",
          "title_count": 1
         },
         {
          "lineage": "studpopucult",
          "title_count": 1
         },
         {
          "lineage": "ocealingspecpub",
          "title_count": 1
         },
         {
          "lineage": "olifant",
          "title_count": 1
         },
         {
          "lineage": "reviinduorga",
          "title_count": 1
         },
         {
          "lineage": "stuprecolartarc",
          "title_count": 1
         },
         {
          "lineage": "oikos",
          "title_count": 1
         },
         {
          "lineage": "studroma",
          "title_count": 1
         },
         {
          "lineage": "offourbacks",
          "title_count": 1
         },
         {
          "lineage": "reviintepoliecon",
          "title_count": 1
         },
         {
          "lineage": "studsecolangacqu",
          "title_count": 1
         },
         {
          "lineage": "october",
          "title_count": 1
         },
         {
          "lineage": "oceanography",
          "title_count": 1
         },
         {
          "lineage": "robefrosrevi",
          "title_count": 1
         },
         {
          "lineage": "inveecon",
          "title_count": 1
         },
         {
          "lineage": "jslavling",
          "title_count": 1
         },
         {
          "lineage": "chinaquarterly",
          "title_count": 1
         },
         {
          "lineage": "circa",
          "title_count": 1
         },
         {
          "lineage": "cinedamerlatine",
          "title_count": 1
         },
         {
          "lineage": "cineaste",
          "title_count": 1
         },
         {
          "lineage": "cina",
          "title_count": 1
         },
         {
          "lineage": "elciervo",
          "title_count": 1
         },
         {
          "lineage": "churchhistory",
          "title_count": 1
         },
         {
          "lineage": "chungara",
          "title_count": 1
         },
         {
          "lineage": "choralj",
          "title_count": 1
         },
         {
          "lineage": "choices",
          "title_count": 1
         },
         {
          "lineage": "chiricu",
          "title_count": 1
         },
         {
          "lineage": "chinliteessaarti",
          "title_count": 1
         },
         {
          "lineage": "cjip",
          "title_count": 1
         },
         {
          "lineage": "chinreviinte",
          "title_count": 1
         },
         {
          "lineage": "chinareview",
          "title_count": 1
         },
         {
          "lineage": "chinaperspective",
          "title_count": 1
         },
         {
          "lineage": "cityscape",
          "title_count": 1
         },
         {
          "lineage": "childrensvoice",
          "title_count": 1
         },
         {
          "lineage": "childdevelopment",
          "title_count": 1
         },
         {
          "lineage": "chicagorev",
          "title_count": 1
         },
         {
          "lineage": "chemcorpj",
          "title_count": 1
         },
         {
          "lineage": "chaucerrev",
          "title_count": 1
         },
         {
          "lineage": "chasqui",
          "title_count": 1
         },
         {
          "lineage": "ceskylid",
          "title_count": 1
         },
         {
          "lineage": "ceskaliteratura",
          "title_count": 1
         },
         {
          "lineage": "cereresecomm",
          "title_count": 1
         },
         {
          "lineage": "centeurohist",
          "title_count": 1
         },
         {
          "lineage": "centasiaj",
          "title_count": 1
         },
         {
          "lineage": "celticreview",
          "title_count": 1
         },
         {
          "lineage": "cellstrechap",
          "title_count": 1
         },
         {
          "lineage": "celestinesca",
          "title_count": 1
         },
         {
          "lineage": "cites",
          "title_count": 1
         },
         {
          "lineage": "civi",
          "title_count": 1
         },
         {
          "lineage": "cathhistrev",
          "title_count": 1
         },
         {
          "lineage": "collhibe",
          "title_count": 1
         },
         {
          "lineage": "complite",
          "title_count": 1
         },
         {
          "lineage": "compeducrevi",
          "title_count": 1
         },
         {
          "lineage": "compeduc",
          "title_count": 1
         },
         {
          "lineage": "comparativedrama",
          "title_count": 1
         },
         {
          "lineage": "comintlawjsouafr",
          "title_count": 1
         },
         {
          "lineage": "comparatist",
          "title_count": 1
         },
         {
          "lineage": "comhar",
          "title_count": 1
         },
         {
          "lineage": "colulawrevi",
          "title_count": 1
         },
         {
          "lineage": "columbia",
          "title_count": 1
         },
         {
          "lineage": "collogerm",
          "title_count": 1
         },
         {
          "lineage": "collmusisymp",
          "title_count": 1
         },
         {
          "lineage": "collegelit",
          "title_count": 1
         },
         {
          "lineage": "collegeenglish",
          "title_count": 1
         },
         {
          "lineage": "collcompcomm",
          "title_count": 1
         },
         {
          "lineage": "colesocimonopatr",
          "title_count": 1
         },
         {
          "lineage": "claj",
          "title_count": 1
         },
         {
          "lineage": "colebull",
          "title_count": 1
         },
         {
          "lineage": "cogninst",
          "title_count": 1
         },
         {
          "lineage": "clrjamesj",
          "title_count": 1
         },
         {
          "lineage": "clogreco",
          "title_count": 1
         },
         {
          "lineage": "clioeng",
          "title_count": 1
         },
         {
          "lineage": "clio",
          "title_count": 1
         },
         {
          "lineage": "climateresearch",
          "title_count": 1
         },
         {
          "lineage": "climchanecon",
          "title_count": 1
         },
         {
          "lineage": "clevstudhistart",
          "title_count": 1
         },
         {
          "lineage": "classicsireland",
          "title_count": 1
         },
         {
          "lineage": "classicalreview",
          "title_count": 1
         },
         {
          "lineage": "clasquar",
          "title_count": 1
         },
         {
          "lineage": "clasphil",
          "title_count": 1
         },
         {
          "lineage": "classicalj",
          "title_count": 1
         },
         {
          "lineage": "cathlayman",
          "title_count": 1
         },
         {
          "lineage": "cathbiblquar",
          "title_count": 1
         },
         {
          "lineage": "comppoli",
          "title_count": 1
         },
         {
          "lineage": "bullecosociamer",
          "title_count": 1
         },
         {
          "lineage": "cahietudafri",
          "title_count": 1
         },
         {
          "lineage": "cahieconpolipape",
          "title_count": 1
         },
         {
          "lineage": "byzantion",
          "title_count": 1
         },
         {
          "lineage": "butlerubotastud",
          "title_count": 1
         },
         {
          "lineage": "bustan",
          "title_count": 1
         },
         {
          "lineage": "busiprofeethijou",
          "title_count": 1
         },
         {
          "lineage": "busilawyer",
          "title_count": 1
         },
         {
          "lineage": "busiethiquar",
          "title_count": 1
         },
         {
          "lineage": "businessecon",
          "title_count": 1
         },
         {
          "lineage": "burlgaze",
          "title_count": 1
         },
         {
          "lineage": "bullcommarchroma",
          "title_count": 1
         },
         {
          "lineage": "bullnewengartun",
          "title_count": 1
         },
         {
          "lineage": "musemodeartbull",
          "title_count": 1
         },
         {
          "lineage": "bullinstclasstud",
          "title_count": 1
         },
         {
          "lineage": "bulldecccollrese",
          "title_count": 1
         },
         {
          "lineage": "cahiextrasie",
          "title_count": 1
         },
         {
          "lineage": "bulcouresmusedu",
          "title_count": 1
         },
         {
          "lineage": "bulcomcanlabhis",
          "title_count": 1
         },
         {
          "lineage": "bulleclevmuseart",
          "title_count": 1
         },
         {
          "lineage": "bullasiainst",
          "title_count": 1
         },
         {
          "lineage": "bullamersocipapy",
          "title_count": 1
         },
         {
          "lineage": "bamschorriressup",
          "title_count": 1
         },
         {
          "lineage": "bullamermetesoci",
          "title_count": 1
         },
         {
          "lineage": "bulletinaaup",
          "title_count": 1
         },
         {
          "lineage": "bullsymblogi",
          "title_count": 1
         },
         {
          "lineage": "bulldinfprou",
          "title_count": 1
         },
         {
          "lineage": "bulletudvale",
          "title_count": 1
         },
         {
          "lineage": "bullecolfranextr",
          "title_count": 1
         },
         {
          "lineage": "bullsocipaulclau",
          "title_count": 1
         },
         {
          "lineage": "acadserbsciearts",
          "title_count": 1
         },
         {
          "lineage": "cahietudnodi",
          "title_count": 1
         },
         {
          "lineage": "cahicentgustglot",
          "title_count": 1
         },
         {
          "lineage": "cathedra",
          "title_count": 1
         },
         {
          "lineage": "canabullmedihist",
          "title_count": 1
         },
         {
          "lineage": "miguelunamuno",
          "title_count": 1
         },
         {
          "lineage": "carmphil",
          "title_count": 1
         },
         {
          "lineage": "caristud",
          "title_count": 1
         },
         {
          "lineage": "cariquar",
          "title_count": 1
         },
         {
          "lineage": "carbclimlawrevi",
          "title_count": 1
         },
         {
          "lineage": "canccauscont",
          "title_count": 1
         },
         {
          "lineage": "canarevisocipoli",
          "title_count": 1
         },
         {
          "lineage": "canapublpolianal",
          "title_count": 1
         },
         {
          "lineage": "canajurbarese",
          "title_count": 1
         },
         {
          "lineage": "canajstatrevucan",
          "title_count": 1
         },
         {
          "lineage": "canajsocicahican",
          "title_count": 1
         },
         {
          "lineage": "canadianjph",
          "title_count": 1
         },
         {
          "lineage": "canajirisstud",
          "title_count": 1
         },
         {
          "lineage": "canajeducrevucan",
          "title_count": 1
         },
         {
          "lineage": "cambrobriton",
          "title_count": 1
         },
         {
          "lineage": "cahiferddesaus",
          "title_count": 1
         },
         {
          "lineage": "cambquar",
          "title_count": 1
         },
         {
          "lineage": "cambridgeoperaj",
          "title_count": 1
         },
         {
          "lineage": "camblawj",
          "title_count": 1
         },
         {
          "lineage": "cambjecon",
          "title_count": 1
         },
         {
          "lineage": "cambanth",
          "title_count": 1
         },
         {
          "lineage": "callaloo",
          "title_count": 1
         },
         {
          "lineage": "calilawrevi",
          "title_count": 1
         },
         {
          "lineage": "calicojournal",
          "title_count": 1
         },
         {
          "lineage": "caldasia",
          "title_count": 1
         },
         {
          "lineage": "cahiersvalery",
          "title_count": 1
         },
         {
          "lineage": "cahitriscorb",
          "title_count": 1
         },
         {
          "lineage": "cahilouidumu",
          "title_count": 1
         },
         {
          "lineage": "cahintsoc",
          "title_count": 1
         },
         {
          "lineage": "cahifranpong",
          "title_count": 1
         },
         {
          "lineage": "complitstudies",
          "title_count": 1
         },
         {
          "lineage": "compstudsocihist",
          "title_count": 1
         },
         {
          "lineage": "buddchristud",
          "title_count": 1
         },
         {
          "lineage": "dispositio",
          "title_count": 1
         },
         {
          "lineage": "easternbuddhist",
          "title_count": 1
         },
         {
          "lineage": "eastwest",
          "title_count": 1
         },
         {
          "lineage": "eartsciehist",
          "title_count": 1
         },
         {
          "lineage": "earthislandj",
          "title_count": 1
         },
         {
          "lineage": "earlsciemedi",
          "title_count": 1
         },
         {
          "lineage": "earlmusihist",
          "title_count": 1
         },
         {
          "lineage": "earlymusic",
          "title_count": 1
         },
         {
          "lineage": "earlymoderwomen",
          "title_count": 1
         },
         {
          "lineage": "earlychina",
          "title_count": 1
         },
         {
          "lineage": "dumboakspape",
          "title_count": 1
         },
         {
          "lineage": "dublpennj",
          "title_count": 1
         },
         {
          "lineage": "dublhistreco",
          "title_count": 1
         },
         {
          "lineage": "defetsecint",
          "title_count": 1
         },
         {
          "lineage": "divusthomas",
          "title_count": 1
         },
         {
          "lineage": "discoursestudies",
          "title_count": 1
         },
         {
          "lineage": "easteuroecon",
          "title_count": 1
         },
         {
          "lineage": "discsoci",
          "title_count": 1
         },
         {
          "lineage": "discourse",
          "title_count": 1
         },
         {
          "lineage": "diploaffstrat",
          "title_count": 1
         },
         {
          "lineage": "diplhist",
          "title_count": 1
         },
         {
          "lineage": "diderotstudies",
          "title_count": 1
         },
         {
          "lineage": "dialogos",
          "title_count": 1
         },
         {
          "lineage": "dialanth",
          "title_count": 1
         },
         {
          "lineage": "dialectica",
          "title_count": 1
         },
         {
          "lineage": "diacritics",
          "title_count": 1
         },
         {
          "lineage": "dhlawrencereview",
          "title_count": 1
         },
         {
          "lineage": "deveprac",
          "title_count": 1
         },
         {
          "lineage": "designissues",
          "title_count": 1
         },
         {
          "lineage": "derrtoda",
          "title_count": 1
         },
         {
          "lineage": "democult",
          "title_count": 1
         },
         {
          "lineage": "easteconj",
          "title_count": 1
         },
         {
          "lineage": "ecolpoli",
          "title_count": 1
         },
         {
          "lineage": "decoandfurn",
          "title_count": 1
         },
         {
          "lineage": "econtheory",
          "title_count": 1
         },
         {
          "lineage": "eighcentstud",
          "title_count": 1
         },
         {
          "lineage": "eighcentirel",
          "title_count": 1
         },
         {
          "lineage": "eighcent",
          "title_count": 1
         },
         {
          "lineage": "egitviciorie",
          "title_count": 1
         },
         {
          "lineage": "jeductechsoci",
          "title_count": 1
         },
         {
          "lineage": "educstudmath",
          "title_count": 1
         },
         {
          "lineage": "educrese",
          "title_count": 1
         },
         {
          "lineage": "educpsycrevi",
          "title_count": 1
         },
         {
          "lineage": "educevalpolianal",
          "title_count": 1
         },
         {
          "lineage": "educfinapoli",
          "title_count": 1
         },
         {
          "lineage": "ecosystems",
          "title_count": 1
         },
         {
          "lineage": "ecoscience",
          "title_count": 1
         },
         {
          "lineage": "econenerenvipoli",
          "title_count": 1
         },
         {
          "lineage": "economica",
          "title_count": 1
         },
         {
          "lineage": "econquar",
          "title_count": 1
         },
         {
          "lineage": "ecolappl",
          "title_count": 1
         },
         {
          "lineage": "economicpolicy",
          "title_count": 1
         },
         {
          "lineage": "economicj",
          "title_count": 1
         },
         {
          "lineage": "econhistrevi",
          "title_count": 1
         },
         {
          "lineage": "economichistory",
          "title_count": 1
         },
         {
          "lineage": "econgeog",
          "title_count": 1
         },
         {
          "lineage": "econdevecultchan",
          "title_count": 1
         },
         {
          "lineage": "econbota",
          "title_count": 1
         },
         {
          "lineage": "econpoliweek",
          "title_count": 1
         },
         {
          "lineage": "economia",
          "title_count": 1
         },
         {
          "lineage": "econometricsj",
          "title_count": 1
         },
         {
          "lineage": "econometrica",
          "title_count": 1
         },
         {
          "lineage": "econtheo",
          "title_count": 1
         },
         {
          "lineage": "ecollawquar",
          "title_count": 1
         },
         {
          "lineage": "ecolmono",
          "title_count": 1
         },
         {
          "lineage": "demandsec",
          "title_count": 1
         },
         {
          "lineage": "decimark",
          "title_count": 1
         },
         {
          "lineage": "computermusicj",
          "title_count": 1
         },
         {
          "lineage": "contsoutasia",
          "title_count": 1
         },
         {
          "lineage": "cranebag",
          "title_count": 1
         },
         {
          "lineage": "counterpoints",
          "title_count": 1
         },
         {
          "lineage": "cosmoartjourn",
          "title_count": 1
         },
         {
          "lineage": "corporateknights",
          "title_count": 1
         },
         {
          "lineage": "cormmccaj",
          "title_count": 1
         },
         {
          "lineage": "corkreview",
          "title_count": 1
         },
         {
          "lineage": "coriresuexca",
          "title_count": 1
         },
         {
          "lineage": "copeia",
          "title_count": 1
         },
         {
          "lineage": "coopconfl",
          "title_count": 1
         },
         {
          "lineage": "conthistconc",
          "title_count": 1
         },
         {
          "lineage": "contmusieduc",
          "title_count": 1
         },
         {
          "lineage": "contusnatiherb",
          "title_count": 1
         },
         {
          "lineage": "contarchrepo",
          "title_count": 1
         },
         {
          "lineage": "contexts",
          "title_count": 1
         },
         {
          "lineage": "contsoci",
          "title_count": 1
         },
         {
          "lineage": "creanonf",
          "title_count": 1
         },
         {
          "lineage": "contpaci",
          "title_count": 1
         },
         {
          "lineage": "conteurohist",
          "title_count": 1
         },
         {
          "lineage": "contemporaryarab",
          "title_count": 1
         },
         {
          "lineage": "contemporanea",
          "title_count": 1
         },
         {
          "lineage": "contagion",
          "title_count": 1
         },
         {
          "lineage": "consthistory",
          "title_count": 1
         },
         {
          "lineage": "consbiol",
          "title_count": 1
         },
         {
          "lineage": "conradiana",
          "title_count": 1
         },
         {
          "lineage": "conradstudies",
          "title_count": 1
         },
         {
          "lineage": "connoisseur",
          "title_count": 1
         },
         {
          "lineage": "conjunctions",
          "title_count": 1
         },
         {
          "lineage": "confluencia",
          "title_count": 1
         },
         {
          "lineage": "concordsaunterer",
          "title_count": 1
         },
         {
          "lineage": "compsecupdate",
          "title_count": 1
         },
         {
          "lineage": "crayon",
          "title_count": 1
         },
         {
          "lineage": "crimejustice",
          "title_count": 1
         },
         {
          "lineage": "debatefeminista",
          "title_count": 1
         },
         {
          "lineage": "culturalcritique",
          "title_count": 1
         },
         {
          "lineage": "deadseadisc",
          "title_count": 1
         },
         {
          "lineage": "darwiniana",
          "title_count": 1
         },
         {
          "lineage": "dappim",
          "title_count": 1
         },
         {
          "lineage": "rinterdantalig",
          "title_count": 1
         },
         {
          "lineage": "dancresejsocidan",
          "title_count": 1
         },
         {
          "lineage": "dancechronicle",
          "title_count": 1
         },
         {
          "lineage": "dalhfrenstud",
          "title_count": 1
         },
         {
          "lineage": "daat",
          "title_count": 1
         },
         {
          "lineage": "cygne",
          "title_count": 1
         },
         {
          "lineage": "currentscience",
          "title_count": 1
         },
         {
          "lineage": "curdirpsychscie",
          "title_count": 1
         },
         {
          "lineage": "culturesconflits",
          "title_count": 1
         },
         {
          "lineage": "cultclin",
          "title_count": 1
         },
         {
          "lineage": "culthealsexu",
          "title_count": 1
         },
         {
          "lineage": "cultanth",
          "title_count": 1
         },
         {
          "lineage": "crimsciemono",
          "title_count": 1
         },
         {
          "lineage": "cubanstudies",
          "title_count": 1
         },
         {
          "lineage": "cuapenpol",
          "title_count": 1
         },
         {
          "lineage": "ctbuhj",
          "title_count": 1
         },
         {
          "lineage": "cspaquarterly",
          "title_count": 1
         },
         {
          "lineage": "crussupp",
          "title_count": 1
         },
         {
          "lineage": "crustaceana",
          "title_count": 1
         },
         {
          "lineage": "crossroads",
          "title_count": 1
         },
         {
          "lineage": "crosscurrents",
          "title_count": 1
         },
         {
          "lineage": "critint2",
          "title_count": 1
         },
         {
          "lineage": "criticism",
          "title_count": 1
         },
         {
          "lineage": "criticalsurvey",
          "title_count": 1
         },
         {
          "lineage": "critphilrace",
          "title_count": 1
         },
         {
          "lineage": "criticalinquiry",
          "title_count": 1
         },
         {
          "lineage": "critrevihispfilo",
          "title_count": 1
         },
         {
          "lineage": "buildingmaterial",
          "title_count": 1
         },
         {
          "lineage": "bryologist",
          "title_count": 1
         },
         {
          "lineage": "enerenvi",
          "title_count": 1
         },
         {
          "lineage": "americanmusic",
          "title_count": 1
         },
         {
          "lineage": "analisesocial",
          "title_count": 1
         },
         {
          "lineage": "analhibe",
          "title_count": 1
         },
         {
          "lineage": "anabases",
          "title_count": 1
         },
         {
          "lineage": "americas",
          "title_count": 1
         },
         {
          "lineage": "americanspeech",
          "title_count": 1
         },
         {
          "lineage": "amersociologist",
          "title_count": 1
         },
         {
          "lineage": "amersocirevi",
          "title_count": 1
         },
         {
          "lineage": "amersecedu",
          "title_count": 1
         },
         {
          "lineage": "amerquar",
          "title_count": 1
         },
         {
          "lineage": "amerpolithou",
          "title_count": 1
         },
         {
          "lineage": "amerpoetrevi",
          "title_count": 1
         },
         {
          "lineage": "amerphilquar",
          "title_count": 1
         },
         {
          "lineage": "amerperi",
          "title_count": 1
         },
         {
          "lineage": "amernatu",
          "title_count": 1
         },
         {
          "lineage": "amermathmont",
          "title_count": 1
         },
         {
          "lineage": "anatolianstudies",
          "title_count": 1
         },
         {
          "lineage": "amerlite",
          "title_count": 1
         },
         {
          "lineage": "amerlitehist",
          "title_count": 1
         },
         {
          "lineage": "amerlaweconrev",
          "title_count": 1
         },
         {
          "lineage": "amerjtheophil",
          "title_count": 1
         },
         {
          "lineage": "amerjsoci",
          "title_count": 1
         },
         {
          "lineage": "amerjpsyc",
          "title_count": 1
         },
         {
          "lineage": "amerjphil",
          "title_count": 1
         },
         {
          "lineage": "americanjnursing",
          "title_count": 1
         },
         {
          "lineage": "amerjmath",
          "title_count": 1
         },
         {
          "lineage": "amerjlegahist",
          "title_count": 1
         },
         {
          "lineage": "amerjintelaw",
          "title_count": 1
         },
         {
          "lineage": "amerjeconsoci",
          "title_count": 1
         },
         {
          "lineage": "amerjcomplaw",
          "title_count": 1
         },
         {
          "lineage": "americanjbotany",
          "title_count": 1
         },
         {
          "lineage": "analysis",
          "title_count": 1
         },
         {
          "lineage": "ancimeso",
          "title_count": 1
         },
         {
          "lineage": "amerintej",
          "title_count": 1
         },
         {
          "lineage": "annureviecon",
          "title_count": 1
         },
         {
          "lineage": "antiqclassi",
          "title_count": 1
         },
         {
          "lineage": "antipodes",
          "title_count": 1
         },
         {
          "lineage": "antiochreview",
          "title_count": 1
         },
         {
          "lineage": "antikewelt",
          "title_count": 1
         },
         {
          "lineage": "antikekunst",
          "title_count": 1
         },
         {
          "lineage": "anthropos",
          "title_count": 1
         },
         {
          "lineage": "anthropologynow",
          "title_count": 1
         },
         {
          "lineage": "anthmemo",
          "title_count": 1
         },
         {
          "lineage": "anthdesiseri",
          "title_count": 1
         },
         {
          "lineage": "anthling",
          "title_count": 1
         },
         {
          "lineage": "anthropologica",
          "title_count": 1
         },
         {
          "lineage": "annurevisoci",
          "title_count": 1
         },
         {
          "lineage": "annureviresoecon",
          "title_count": 1
         },
         {
          "lineage": "annurevifinaecon",
          "title_count": 1
         },
         {
          "lineage": "annreptrusmetmar",
          "title_count": 1
         },
         {
          "lineage": "ancientsociety",
          "title_count": 1
         },
         {
          "lineage": "annubritschoathe",
          "title_count": 1
         },
         {
          "lineage": "anneepig",
          "title_count": 1
         },
         {
          "lineage": "annamissbotagard",
          "title_count": 1
         },
         {
          "lineage": "annbhaoriresins",
          "title_count": 1
         },
         {
          "lineage": "annaameracadpoli",
          "title_count": 1
         },
         {
          "lineage": "annabota",
          "title_count": 1
         },
         {
          "lineage": "annaapplstat",
          "title_count": 1
         },
         {
          "lineage": "annaapplprob",
          "title_count": 1
         },
         {
          "lineage": "annalidital",
          "title_count": 1
         },
         {
          "lineage": "annarscuonorm3",
          "title_count": 1
         },
         {
          "lineage": "annazoolfenn",
          "title_count": 1
         },
         {
          "lineage": "annageog",
          "title_count": 1
         },
         {
          "lineage": "annabotafenn",
          "title_count": 1
         },
         {
          "lineage": "anglsaxoengl",
          "title_count": 1
         },
         {
          "lineage": "amerjewiyearbook",
          "title_count": 1
         },
         {
          "lineage": "amerindiquar",
          "title_count": 1
         },
         {
          "lineage": "anuaestucent",
          "title_count": 1
         },
         {
          "lineage": "actasoci",
          "title_count": 1
         },
         {
          "lineage": "afrijreprhealrev",
          "title_count": 1
         },
         {
          "lineage": "afrijcrimjust",
          "title_count": 1
         },
         {
          "lineage": "africonfpeacrevi",
          "title_count": 1
         },
         {
          "lineage": "africanarts",
          "title_count": 1
         },
         {
          "lineage": "afriarchrevi",
          "title_count": 1
         },
         {
          "lineage": "africatoday",
          "title_count": 1
         },
         {
          "lineage": "afrijinteafriins",
          "title_count": 1
         },
         {
          "lineage": "afrdevafrdev",
          "title_count": 1
         },
         {
          "lineage": "aevum",
          "title_count": 1
         },
         {
          "lineage": "aeapapeproc",
          "title_count": 1
         },
         {
          "lineage": "advaapplprob",
          "title_count": 1
         },
         {
          "lineage": "admisciequar",
          "title_count": 1
         },
         {
          "lineage": "actuelmarx",
          "title_count": 1
         },
         {
          "lineage": "actaturistica",
          "title_count": 1
         },
         {
          "lineage": "actaorieacadscie",
          "title_count": 1
         },
         {
          "lineage": "africanrev",
          "title_count": 1
         },
         {
          "lineage": "actaoeco",
          "title_count": 1
         },
         {
          "lineage": "actaclassica",
          "title_count": 1
         },
         {
          "lineage": "actabotavene",
          "title_count": 1
         },
         {
          "lineage": "accountingreview",
          "title_count": 1
         },
         {
          "lineage": "accohistjour",
          "title_count": 1
         },
         {
          "lineage": "acadiensis",
          "title_count": 1
         },
         {
          "lineage": "acadmanarevi",
          "title_count": 1
         },
         {
          "lineage": "acadmanaleareduc",
          "title_count": 1
         },
         {
          "lineage": "aborhist",
          "title_count": 1
         },
         {
          "lineage": "abaco",
          "title_count": 1
         },
         {
          "lineage": "aaaarbeanglamer",
          "title_count": 1
         },
         {
          "lineage": "aafiles",
          "title_count": 1
         },
         {
          "lineage": "seven",
          "title_count": 1
         },
         {
          "lineage": "291",
          "title_count": 1
         },
         {
          "lineage": "afrilangcultsupp",
          "title_count": 1
         },
         {
          "lineage": "afrirevmonfinban",
          "title_count": 1
         },
         {
          "lineage": "amerindlawrev",
          "title_count": 1
         },
         {
          "lineage": "ameranti",
          "title_count": 1
         },
         {
          "lineage": "americanimago",
          "title_count": 1
         },
         {
          "lineage": "amerhistrevi",
          "title_count": 1
         },
         {
          "lineage": "americanfernj",
          "title_count": 1
         },
         {
          "lineage": "amerethn",
          "title_count": 1
         },
         {
          "lineage": "amereducresej",
          "title_count": 1
         },
         {
          "lineage": "aejmicrecon",
          "title_count": 1
         },
         {
          "lineage": "aejmacrecon",
          "title_count": 1
         },
         {
          "lineage": "aejeconpoli",
          "title_count": 1
         },
         {
          "lineage": "aejapplecon",
          "title_count": 1
         },
         {
          "lineage": "amerbiolteac",
          "title_count": 1
         },
         {
          "lineage": "amerartrevi",
          "title_count": 1
         },
         {
          "lineage": "americanartj",
          "title_count": 1
         },
         {
          "lineage": "amerartillu",
          "title_count": 1
         },
         {
          "lineage": "amerarchivist",
          "title_count": 1
         },
         {
          "lineage": "ambit",
          "title_count": 1
         },
         {
          "lineage": "afrsec",
          "title_count": 1
         },
         {
          "lineage": "alternatives",
          "title_count": 1
         },
         {
          "lineage": "allertonia",
          "title_count": 1
         },
         {
          "lineage": "allirelandrev",
          "title_count": 1
         },
         {
          "lineage": "alifjcomppoet",
          "title_count": 1
         },
         {
          "lineage": "aleph",
          "title_count": 1
         },
         {
          "lineage": "aleisefer",
          "title_count": 1
         },
         {
          "lineage": "ajsreview",
          "title_count": 1
         },
         {
          "lineage": "ajilunbounded",
          "title_count": 1
         },
         {
          "lineage": "agypundlevante",
          "title_count": 1
         },
         {
          "lineage": "agrihistrev",
          "title_count": 1
         },
         {
          "lineage": "agenda",
          "title_count": 1
         },
         {
          "lineage": "agenpolianalyref",
          "title_count": 1
         },
         {
          "lineage": "afterall",
          "title_count": 1
         },
         {
          "lineage": "afrohisprevi",
          "title_count": 1
         },
         {
          "lineage": "anti-union",
          "title_count": 1
         },
         {
          "lineage": "anyarchnewyork",
          "title_count": 1
         },
         {
          "lineage": "brushandpencil",
          "title_count": 1
         },
         {
          "lineage": "belfmagalitej",
          "title_count": 1
         },
         {
          "lineage": "blacmusiresej",
          "title_count": 1
         },
         {
          "lineage": "blackcamera",
          "title_count": 1
         },
         {
          "lineage": "bios",
          "title_count": 1
         },
         {
          "lineage": "biometrika",
          "title_count": 1
         },
         {
          "lineage": "biography",
          "title_count": 1
         },
         {
          "lineage": "biogeochemistry",
          "title_count": 1
         },
         {
          "lineage": "bilrevrevbil",
          "title_count": 1
         },
         {
          "lineage": "biblecolchar",
          "title_count": 1
         },
         {
          "lineage": "bibliofilia",
          "title_count": 1
         },
         {
          "lineage": "biblica",
          "title_count": 1
         },
         {
          "lineage": "beyondbehavior",
          "title_count": 1
         },
         {
          "lineage": "bernoulli",
          "title_count": 1
         },
         {
          "lineage": "berkjsoci",
          "title_count": 1
         },
         {
          "lineage": "belfmontmaga",
          "title_count": 1
         },
         {
          "lineage": "belfrassvariuman",
          "title_count": 1
         },
         {
          "lineage": "blackscholar",
          "title_count": 1
         },
         {
          "lineage": "beitmikra",
          "title_count": 1
         },
         {
          "lineage": "behasupp",
          "title_count": 1
         },
         {
          "lineage": "behaviour",
          "title_count": 1
         },
         {
          "lineage": "behaecolsoci",
          "title_count": 1
         },
         {
          "lineage": "behadiso",
          "title_count": 1
         },
         {
          "lineage": "befoforgjpoyndis",
          "title_count": 1
         },
         {
          "lineage": "bealoideas",
          "title_count": 1
         },
         {
          "lineage": "bartonia",
          "title_count": 1
         },
         {
          "lineage": "barilanlawstud",
          "title_count": 1
         },
         {
          "lineage": "baffler",
          "title_count": 1
         },
         {
          "lineage": "bach",
          "title_count": 1
         },
         {
          "lineage": "ayer",
          "title_count": 1
         },
         {
          "lineage": "aviandiseases",
          "title_count": 1
         },
         {
          "lineage": "austrianstudies",
          "title_count": 1
         },
         {
          "lineage": "blacpersmusi",
          "title_count": 1
         },
         {
          "lineage": "blacwomegendfami",
          "title_count": 1
         },
         {
          "lineage": "austarch",
          "title_count": 1
         },
         {
          "lineage": "britjphilscie",
          "title_count": 1
         },
         {
          "lineage": "bruncamp",
          "title_count": 1
         },
         {
          "lineage": "broowharurbanaff",
          "title_count": 1
         },
         {
          "lineage": "brooktradeforum",
          "title_count": 1
         },
         {
          "lineage": "brookpapedupol",
          "title_count": 1
         },
         {
          "lineage": "broopapeeconact2",
          "title_count": 1
         },
         {
          "lineage": "broopapeeconacti",
          "title_count": 1
         },
         {
          "lineage": "brittonia",
          "title_count": 1
         },
         {
          "lineage": "britschoathestud",
          "title_count": 1
         },
         {
          "lineage": "britmusequar",
          "title_count": 1
         },
         {
          "lineage": "britishlibraryj",
          "title_count": 1
         },
         {
          "lineage": "britjsocieduc",
          "title_count": 1
         },
         {
          "lineage": "britjsoci",
          "title_count": 1
         },
         {
          "lineage": "britjpoliscie",
          "title_count": 1
         },
         {
          "lineage": "britjeducstud",
          "title_count": 1
         },
         {
          "lineage": "briteducresej",
          "title_count": 1
         },
         {
          "lineage": "bmsbullsocimeth",
          "title_count": 1
         },
         {
          "lineage": "britartj",
          "title_count": 1
         },
         {
          "lineage": "britannia",
          "title_count": 1
         },
         {
          "lineage": "bridges",
          "title_count": 1
         },
         {
          "lineage": "brazjprobstat",
          "title_count": 1
         },
         {
          "lineage": "bradleyhisbook",
          "title_count": 1
         },
         {
          "lineage": "boundary2",
          "title_count": 1
         },
         {
          "lineage": "botswananoterec",
          "title_count": 1
         },
         {
          "lineage": "botarevi",
          "title_count": 1
         },
         {
          "lineage": "boomjcali",
          "title_count": 1
         },
         {
          "lineage": "booksireland",
          "title_count": 1
         },
         {
          "lineage": "bookhistory",
          "title_count": 1
         },
         {
          "lineage": "bonplandia",
          "title_count": 1
         },
         {
          "lineage": "bomb",
          "title_count": 1
         },
         {
          "lineage": "bolesocideolmexi",
          "title_count": 1
         },
         {
          "lineage": "austjenvieduc",
          "title_count": 1
         },
         {
          "lineage": "aulahistsoci",
          "title_count": 1
         },
         {
          "lineage": "aperture",
          "title_count": 1
         },
         {
          "lineage": "archofferech",
          "title_count": 1
         },
         {
          "lineage": "area",
          "title_count": 1
         },
         {
          "lineage": "arctanth",
          "title_count": 1
         },
         {
          "lineage": "arctic",
          "title_count": 1
         },
         {
          "lineage": "archhistpont",
          "title_count": 1
         },
         {
          "lineage": "archhibe",
          "title_count": 1
         },
         {
          "lineage": "archstorital",
          "title_count": 1
         },
         {
          "lineage": "archfilo",
          "title_count": 1
         },
         {
          "lineage": "archhistdoctlitt",
          "title_count": 1
         },
         {
          "lineage": "archphil",
          "title_count": 1
         },
         {
          "lineage": "archhistexacscie",
          "title_count": 1
         },
         {
          "lineage": "archreliarchpsyc",
          "title_count": 1
         },
         {
          "lineage": "archciviprax",
          "title_count": 1
         },
         {
          "lineage": "archbegr",
          "title_count": 1
         },
         {
          "lineage": "archvolk",
          "title_count": 1
         },
         {
          "lineage": "archhist",
          "title_count": 1
         },
         {
          "lineage": "arethusa",
          "title_count": 1
         },
         {
          "lineage": "archclas",
          "title_count": 1
         },
         {
          "lineage": "archdeut",
          "title_count": 1
         },
         {
          "lineage": "archeastnortham",
          "title_count": 1
         },
         {
          "lineage": "archirel",
          "title_count": 1
         },
         {
          "lineage": "archaeology",
          "title_count": 1
         },
         {
          "lineage": "archrepo",
          "title_count": 1
         },
         {
          "lineage": "archaeologiaaust",
          "title_count": 1
         },
         {
          "lineage": "arbeitrecht",
          "title_count": 1
         },
         {
          "lineage": "arabica",
          "title_count": 1
         },
         {
          "lineage": "arabstudij",
          "title_count": 1
         },
         {
          "lineage": "arablawquarterly",
          "title_count": 1
         },
         {
          "lineage": "aquaenviinte",
          "title_count": 1
         },
         {
          "lineage": "applvegescie",
          "title_count": 1
         },
         {
          "lineage": "appalachianj",
          "title_count": 1
         },
         {
          "lineage": "arendtstudies",
          "title_count": 1
         },
         {
          "lineage": "arion",
          "title_count": 1
         },
         {
          "lineage": "augustiniana",
          "title_count": 1
         },
         {
          "lineage": "artiasiasupp",
          "title_count": 1
         },
         {
          "lineage": "aufklarung",
          "title_count": 1
         },
         {
          "lineage": "atlantis",
          "title_count": 1
         },
         {
          "lineage": "athenianagora",
          "title_count": 1
         },
         {
          "lineage": "assemblage",
          "title_count": 1
         },
         {
          "lineage": "asiantheatrej",
          "title_count": 1
         },
         {
          "lineage": "asianperspect",
          "title_count": 1
         },
         {
          "lineage": "asianperspective",
          "title_count": 1
         },
         {
          "lineage": "asianmusic",
          "title_count": 1
         },
         {
          "lineage": "asiapolicy",
          "title_count": 1
         },
         {
          "lineage": "asiapacipublheal",
          "title_count": 1
         },
         {
          "lineage": "asiamajor",
          "title_count": 1
         },
         {
          "lineage": "artsdeco1910",
          "title_count": 1
         },
         {
          "lineage": "artiameredit",
          "title_count": 1
         },
         {
          "lineage": "artibushistoriae",
          "title_count": 1
         },
         {
          "lineage": "artibusasiae",
          "title_count": 1
         },
         {
          "lineage": "arijhispcultstud",
          "title_count": 1
         },
         {
          "lineage": "artesmexico",
          "title_count": 1
         },
         {
          "lineage": "artelombarda",
          "title_count": 1
         },
         {
          "lineage": "artworld",
          "title_count": 1
         },
         {
          "lineage": "artunion",
          "title_count": 1
         },
         {
          "lineage": "artreview",
          "title_count": 1
         },
         {
          "lineage": "artnews1897",
          "title_count": 1
         },
         {
          "lineage": "artj1875",
          "title_count": 1
         },
         {
          "lineage": "artinstchicmuses",
          "title_count": 1
         },
         {
          "lineage": "artprint",
          "title_count": 1
         },
         {
          "lineage": "arteducation",
          "title_count": 1
         },
         {
          "lineage": "artcritic1893",
          "title_count": 1
         },
         {
          "lineage": "artamateur",
          "title_count": 1
         },
         {
          "lineage": "armedforcessoc",
          "title_count": 1
         },
         {
          "lineage": "arkahistquar",
          "title_count": 1
         },
         {
          "lineage": "elh",
          "title_count": 1
         },
         {
          "lineage": "energyj",
          "title_count": 1
         },
         {
          "lineage": "jsciedutech",
          "title_count": 1
         },
         {
          "lineage": "jafricanhistory",
          "title_count": 1
         },
         {
          "lineage": "japplphil",
          "title_count": 1
         },
         {
          "lineage": "japplecon",
          "title_count": 1
         },
         {
          "lineage": "jappliedecology",
          "title_count": 1
         },
         {
          "lineage": "janimalethics",
          "title_count": 1
         },
         {
          "lineage": "janimalecology",
          "title_count": 1
         },
         {
          "lineage": "jameeasasirel",
          "title_count": 1
         },
         {
          "lineage": "jamerindieduc",
          "title_count": 1
         },
         {
          "lineage": "jamerfolk",
          "title_count": 1
         },
         {
          "lineage": "jamerethnhist",
          "title_count": 1
         },
         {
          "lineage": "jalliheal",
          "title_count": 1
         },
         {
          "lineage": "jagribiolenvista",
          "title_count": 1
         },
         {
          "lineage": "jafrireli",
          "title_count": 1
         },
         {
          "lineage": "jrnlafrunionstud",
          "title_count": 1
         },
         {
          "lineage": "jafricanlaw",
          "title_count": 1
         },
         {
          "lineage": "jafriforeaffa",
          "title_count": 1
         },
         {
          "lineage": "jarablite",
          "title_count": 1
         },
         {
          "lineage": "jafriarch",
          "title_count": 1
         },
         {
          "lineage": "jaestartcrit",
          "title_count": 1
         },
         {
          "lineage": "jaesteduc",
          "title_count": 1
         },
         {
          "lineage": "jadve",
          "title_count": 1
         },
         {
          "lineage": "jaccorese",
          "title_count": 1
         },
         {
          "lineage": "jstudradi",
          "title_count": 1
         },
         {
          "lineage": "jstudjudapershel",
          "title_count": 1
         },
         {
          "lineage": "jsciestudreli",
          "title_count": 1
         },
         {
          "lineage": "jresematheducmon",
          "title_count": 1
         },
         {
          "lineage": "jresematheduc",
          "title_count": 1
         },
         {
          "lineage": "jearlmodcultstud",
          "title_count": 1
         },
         {
          "lineage": "jsociamer",
          "title_count": 1
         },
         {
          "lineage": "jcharyounfello",
          "title_count": 1
         },
         {
          "lineage": "jamewatworass",
          "title_count": 1
         },
         {
          "lineage": "japplprob",
          "title_count": 1
         },
         {
          "lineage": "jarachnology",
          "title_count": 1
         },
         {
          "lineage": "jewistudquar",
          "title_count": 1
         },
         {
          "lineage": "jcanaarthist",
          "title_count": 1
         },
         {
          "lineage": "jcompgrapstat",
          "title_count": 1
         },
         {
          "lineage": "jcompgermling",
          "title_count": 1
         },
         {
          "lineage": "jcompfamistud",
          "title_count": 1
         },
         {
          "lineage": "jcommalge",
          "title_count": 1
         },
         {
          "lineage": "jcommhealnurs",
          "title_count": 1
         },
         {
          "lineage": "jcommunityhealth",
          "title_count": 1
         },
         {
          "lineage": "jcollscieteac",
          "title_count": 1
         },
         {
          "lineage": "jcoldwarstudies",
          "title_count": 1
         },
         {
          "lineage": "jcoascons",
          "title_count": 1
         },
         {
          "lineage": "jcivihumarigh",
          "title_count": 1
         },
         {
          "lineage": "jchurchstate",
          "title_count": 1
         },
         {
          "lineage": "jchinlingmonoser",
          "title_count": 1
         },
         {
          "lineage": "jchinling",
          "title_count": 1
         },
         {
          "lineage": "jcarilite",
          "title_count": 1
         },
         {
          "lineage": "jbusiethi",
          "title_count": 1
         },
         {
          "lineage": "jarchrese",
          "title_count": 1
         },
         {
          "lineage": "jbusieconstat",
          "title_count": 1
         },
         {
          "lineage": "jbusipsych",
          "title_count": 1
         },
         {
          "lineage": "jblachigheduc",
          "title_count": 1
         },
         {
          "lineage": "jblackstudies",
          "title_count": 1
         },
         {
          "lineage": "jbiogeography",
          "title_count": 1
         },
         {
          "lineage": "jhealprofdive",
          "title_count": 1
         },
         {
          "lineage": "jbehaeduc",
          "title_count": 1
         },
         {
          "lineage": "jbeckettstudies",
          "title_count": 1
         },
         {
          "lineage": "jbasicwriting",
          "title_count": 1
         },
         {
          "lineage": "jaynrandstud",
          "title_count": 1
         },
         {
          "lineage": "jasseinsteffe",
          "title_count": 1
         },
         {
          "lineage": "asiansecurity",
          "title_count": 1
         },
         {
          "lineage": "jasiahist",
          "title_count": 1
         },
         {
          "lineage": "jasfmra",
          "title_count": 1
         },
         {
          "lineage": "johwhihisassj",
          "title_count": 1
         },
         {
          "lineage": "jewisocistud",
          "title_count": 1
         },
         {
          "lineage": "jourconfarch",
          "title_count": 1
         },
         {
          "lineage": "intrevquares",
          "title_count": 1
         },
         {
          "lineage": "iriseconsocihist",
          "title_count": 1
         },
         {
          "lineage": "irishchurchq",
          "title_count": 1
         },
         {
          "lineage": "iraq",
          "title_count": 1
         },
         {
          "lineage": "iranstudies",
          "title_count": 1
         },
         {
          "lineage": "irancaucasus",
          "title_count": 1
         },
         {
          "lineage": "iran",
          "title_count": 1
         },
         {
          "lineage": "iowareview",
          "title_count": 1
         },
         {
          "lineage": "19thcenturymusic",
          "title_count": 1
         },
         {
          "lineage": "inti",
          "title_count": 1
         },
         {
          "lineage": "intephytdien",
          "title_count": 1
         },
         {
          "lineage": "inteuniorigh",
          "title_count": 1
         },
         {
          "lineage": "intestudrevi",
          "title_count": 1
         },
         {
          "lineage": "intestudmanaorga",
          "title_count": 1
         },
         {
          "lineage": "intesecu",
          "title_count": 1
         },
         {
          "lineage": "interevieducinte",
          "title_count": 1
         },
         {
          "lineage": "irisjeduc",
          "title_count": 1
         },
         {
          "lineage": "interelaasiapaci",
          "title_count": 1
         },
         {
          "lineage": "intepoliscierevi",
          "title_count": 1
         },
         {
          "lineage": "inteorga",
          "title_count": 1
         },
         {
          "lineage": "intelegamate",
          "title_count": 1
         },
         {
          "lineage": "intejworlpeac",
          "title_count": 1
         },
         {
          "lineage": "intejtranecon",
          "title_count": 1
         },
         {
          "lineage": "intjclasstrad",
          "title_count": 1
         },
         {
          "lineage": "intejsocfam",
          "title_count": 1
         },
         {
          "lineage": "intejsoci",
          "title_count": 1
         },
         {
          "lineage": "intejperslite",
          "title_count": 1
         },
         {
          "lineage": "intejpeacstud",
          "title_count": 1
         },
         {
          "lineage": "intejmusi",
          "title_count": 1
         },
         {
          "lineage": "intejmiddeaststu",
          "title_count": 1
         },
         {
          "lineage": "intejmentheal",
          "title_count": 1
         },
         {
          "lineage": "irishiststud",
          "title_count": 1
         },
         {
          "lineage": "irishmonthly",
          "title_count": 1
         },
         {
          "lineage": "jewiquarrevi",
          "title_count": 1
         },
         {
          "lineage": "jpaulgettmusej",
          "title_count": 1
         },
         {
          "lineage": "jewpolstudrev",
          "title_count": 1
         },
         {
          "lineage": "jewhist",
          "title_count": 1
         },
         {
          "lineage": "jewifilmnewmedi",
          "title_count": 1
         },
         {
          "lineage": "jerustudjewithou",
          "title_count": 1
         },
         {
          "lineage": "jerustudjewifolk",
          "title_count": 1
         },
         {
          "lineage": "jerustudhebrlite",
          "title_count": 1
         },
         {
          "lineage": "nichjaparevi",
          "title_count": 1
         },
         {
          "lineage": "jamejoycq",
          "title_count": 1
         },
         {
          "lineage": "jamejoyclitesupp",
          "title_count": 1
         },
         {
          "lineage": "jamejoycbroa",
          "title_count": 1
         },
         {
          "lineage": "jahrterr",
          "title_count": 1
         },
         {
          "lineage": "jahrrechethi",
          "title_count": 1
         },
         {
          "lineage": "jahrfurlituhymo",
          "title_count": 1
         },
         {
          "lineage": "jahrfurkomm",
          "title_count": 1
         },
         {
          "lineage": "iyyun",
          "title_count": 1
         },
         {
          "lineage": "irishpages",
          "title_count": 1
         },
         {
          "lineage": "italianistica",
          "title_count": 1
         },
         {
          "lineage": "italianpolitics",
          "title_count": 1
         },
         {
          "lineage": "italianamer",
          "title_count": 1
         },
         {
          "lineage": "issuscietech",
          "title_count": 1
         },
         {
          "lineage": "israelisociology",
          "title_count": 1
         },
         {
          "lineage": "israelstudies",
          "title_count": 1
         },
         {
          "lineage": "israexplj",
          "title_count": 1
         },
         {
          "lineage": "islamicstudies",
          "title_count": 1
         },
         {
          "lineage": "islalawsoci",
          "title_count": 1
         },
         {
          "lineage": "isis",
          "title_count": 1
         },
         {
          "lineage": "irisstudinteaffa",
          "title_count": 1
         },
         {
          "lineage": "irishreview",
          "title_count": 1
         },
         {
          "lineage": "irisrevi1986",
          "title_count": 1
         },
         {
          "lineage": "irispennjour",
          "title_count": 1
         },
         {
          "lineage": "jcompmath",
          "title_count": 1
         },
         {
          "lineage": "jconspsyc",
          "title_count": 1
         },
         {
          "lineage": "intejhindstud",
          "title_count": 1
         },
         {
          "lineage": "jmodeeurohist",
          "title_count": 1
         },
         {
          "lineage": "jorthrese",
          "title_count": 1
         },
         {
          "lineage": "joriestud",
          "title_count": 1
         },
         {
          "lineage": "joperatortheory",
          "title_count": 1
         },
         {
          "lineage": "jnursadmin",
          "title_count": 1
         },
         {
          "lineage": "jnietstud",
          "title_count": 1
         },
         {
          "lineage": "jnewzeallite",
          "title_count": 1
         },
         {
          "lineage": "jnegroeducation",
          "title_count": 1
         },
         {
          "lineage": "jmusicology",
          "title_count": 1
         },
         {
          "lineage": "jmusictheory",
          "title_count": 1
         },
         {
          "lineage": "jmormhist",
          "title_count": 1
         },
         {
          "lineage": "jmonecredbank",
          "title_count": 1
         },
         {
          "lineage": "jmodeperistud",
          "title_count": 1
         },
         {
          "lineage": "jmodelite",
          "title_count": 1
         },
         {
          "lineage": "jmodernhistory",
          "title_count": 1
         },
         {
          "lineage": "jmodeafristud",
          "title_count": 1
         },
         {
          "lineage": "jpaleontology",
          "title_count": 1
         },
         {
          "lineage": "jmindbehavior",
          "title_count": 1
         },
         {
          "lineage": "jmiddeastwomstud",
          "title_count": 1
         },
         {
          "lineage": "jmedievallatin",
          "title_count": 1
         },
         {
          "lineage": "jmedethics",
          "title_count": 1
         },
         {
          "lineage": "jmarktheoprac",
          "title_count": 1
         },
         {
          "lineage": "jmarkrese",
          "title_count": 1
         },
         {
          "lineage": "jmariarch",
          "title_count": 1
         },
         {
          "lineage": "jmanaissues",
          "title_count": 1
         },
         {
          "lineage": "jmanainfosyst",
          "title_count": 1
         },
         {
          "lineage": "jmammalogy",
          "title_count": 1
         },
         {
          "lineage": "jlogiclanginfo",
          "title_count": 1
         },
         {
          "lineage": "jlinguistics",
          "title_count": 1
         },
         {
          "lineage": "jlinganth",
          "title_count": 1
         },
         {
          "lineage": "jlegalstudies",
          "title_count": 1
         },
         {
          "lineage": "jpacihist",
          "title_count": 1
         },
         {
          "lineage": "jpalestud",
          "title_count": 1
         },
         {
          "lineage": "jlaweconorga",
          "title_count": 1
         },
         {
          "lineage": "jquancrim",
          "title_count": 1
         },
         {
          "lineage": "jromanstudies",
          "title_count": 1
         },
         {
          "lineage": "jritualstudies",
          "title_count": 1
         },
         {
          "lineage": "jriskuncertainty",
          "title_count": 1
         },
         {
          "lineage": "jresemusieduc",
          "title_count": 1
         },
         {
          "lineage": "jreliethi",
          "title_count": 1
         },
         {
          "lineage": "jreligionafrica",
          "title_count": 1
         },
         {
          "lineage": "jreliviol",
          "title_count": 1
         },
         {
          "lineage": "jrelihealth",
          "title_count": 1
         },
         {
          "lineage": "jrealestarese",
          "title_count": 1
         },
         {
          "lineage": "jrealestapracedu",
          "title_count": 1
         },
         {
          "lineage": "jrealestaportman",
          "title_count": 1
         },
         {
          "lineage": "jrealestalite",
          "title_count": 1
         },
         {
          "lineage": "jraciethnheal",
          "title_count": 1
         },
         {
          "lineage": "jqurastud",
          "title_count": 1
         },
         {
          "lineage": "jpublicpolicy",
          "title_count": 1
         },
         {
          "lineage": "jparasitology",
          "title_count": 1
         },
         {
          "lineage": "jpublhealpoli",
          "title_count": 1
         },
         {
          "lineage": "jpublhealmanapra",
          "title_count": 1
         },
         {
          "lineage": "jpubladmiresethe",
          "title_count": 1
         },
         {
          "lineage": "jprodanalysis",
          "title_count": 1
         },
         {
          "lineage": "jprivateequity",
          "title_count": 1
         },
         {
          "lineage": "jpostkeynecon",
          "title_count": 1
         },
         {
          "lineage": "jpopuecon",
          "title_count": 1
         },
         {
          "lineage": "jpoliecon",
          "title_count": 1
         },
         {
          "lineage": "jpolimilisoci",
          "title_count": 1
         },
         {
          "lineage": "jphillogic",
          "title_count": 1
         },
         {
          "lineage": "jperssellsaleman",
          "title_count": 1
         },
         {
          "lineage": "peacebuilding",
          "title_count": 1
         },
         {
          "lineage": "jpeaceresearch",
          "title_count": 1
         },
         {
          "lineage": "jpatisafe",
          "title_count": 1
         },
         {
          "lineage": "jlegaleducation",
          "title_count": 1
         },
         {
          "lineage": "jlawreligion",
          "title_count": 1
         },
         {
          "lineage": "jconsrese",
          "title_count": 1
         },
         {
          "lineage": "jeconeduc",
          "title_count": 1
         },
         {
          "lineage": "jexperimentedu",
          "title_count": 1
         },
         {
          "lineage": "jethics",
          "title_count": 1
         },
         {
          "lineage": "jenvilaw",
          "title_count": 1
         },
         {
          "lineage": "enviassepolimana",
          "title_count": 1
         },
         {
          "lineage": "jenvideve",
          "title_count": 1
         },
         {
          "lineage": "jenerdeve",
          "title_count": 1
         },
         {
          "lineage": "jempreshumreseth",
          "title_count": 1
         },
         {
          "lineage": "jeducthourevupen",
          "title_count": 1
         },
         {
          "lineage": "jeducresearch",
          "title_count": 1
         },
         {
          "lineage": "jeducfina",
          "title_count": 1
         },
         {
          "lineage": "jeconiss",
          "title_count": 1
         },
         {
          "lineage": "jeconomichistory",
          "title_count": 1
         },
         {
          "lineage": "jecongrowth",
          "title_count": 1
         },
         {
          "lineage": "jecongeog",
          "title_count": 1
         },
         {
          "lineage": "jecology",
          "title_count": 1
         },
         {
          "lineage": "jfielarch",
          "title_count": 1
         },
         {
          "lineage": "jeasmedarcherstu",
          "title_count": 1
         },
         {
          "lineage": "jeasteuromanastu",
          "title_count": 1
         },
         {
          "lineage": "jeastasianstudie",
          "title_count": 1
         },
         {
          "lineage": "jeastasialing",
          "title_count": 1
         },
         {
          "lineage": "jeastasiaaffa",
          "title_count": 1
         },
         {
          "lineage": "jdevearea",
          "title_count": 1
         },
         {
          "lineage": "jdesignhistory",
          "title_count": 1
         },
         {
          "lineage": "jdecoproparts",
          "title_count": 1
         },
         {
          "lineage": "jdeafstuddeafedu",
          "title_count": 1
         },
         {
          "lineage": "jcunestud",
          "title_count": 1
         },
         {
          "lineage": "jcultecon",
          "title_count": 1
         },
         {
          "lineage": "jcrusbiol",
          "title_count": 1
         },
         {
          "lineage": "jcorpciti",
          "title_count": 1
         },
         {
          "lineage": "jconthist",
          "title_count": 1
         },
         {
          "lineage": "jfemistudreli",
          "title_count": 1
         },
         {
          "lineage": "jfinance",
          "title_count": 1
         },
         {
          "lineage": "jlaweconomics",
          "title_count": 1
         },
         {
          "lineage": "jinduecon",
          "title_count": 1
         },
         {
          "lineage": "jlawcyberwarfare",
          "title_count": 1
         },
         {
          "lineage": "jlawcourts",
          "title_count": 1
         },
         {
          "lineage": "jlatiamerstud",
          "title_count": 1
         },
         {
          "lineage": "jlanduseenvilaw",
          "title_count": 1
         },
         {
          "lineage": "jlaboreconomics",
          "title_count": 1
         },
         {
          "lineage": "jkorereli",
          "title_count": 1
         },
         {
          "lineage": "jjewiethi",
          "title_count": 1
         },
         {
          "lineage": "jjapanesestudies",
          "title_count": 1
         },
         {
          "lineage": "jislamicstudies",
          "title_count": 1
         },
         {
          "lineage": "jintermarket",
          "title_count": 1
         },
         {
          "lineage": "jintebusistud",
          "title_count": 1
         },
         {
          "lineage": "jintehist",
          "title_count": 1
         },
         {
          "lineage": "jinfowarf",
          "title_count": 1
         },
         {
          "lineage": "jinfedise",
          "title_count": 1
         },
         {
          "lineage": "jindiphil",
          "title_count": 1
         },
         {
          "lineage": "jfinaquananal",
          "title_count": 1
         },
         {
          "lineage": "jhydr",
          "title_count": 1
         },
         {
          "lineage": "jhydronewzeal",
          "title_count": 1
         },
         {
          "lineage": "jhumanresources",
          "title_count": 1
         },
         {
          "lineage": "jhumancapital",
          "title_count": 1
         },
         {
          "lineage": "jhousingresearch",
          "title_count": 1
         },
         {
          "lineage": "jhigheducafri",
          "title_count": 1
         },
         {
          "lineage": "jhighereducation",
          "title_count": 1
         },
         {
          "lineage": "jhellenicstudies",
          "title_count": 1
         },
         {
          "lineage": "healservresepoli",
          "title_count": 1
         },
         {
          "lineage": "jhaitstud",
          "title_count": 1
         },
         {
          "lineage": "jglassstudies",
          "title_count": 1
         },
         {
          "lineage": "jgeology",
          "title_count": 1
         },
         {
          "lineage": "jgeneeduc",
          "title_count": 1
         },
         {
          "lineage": "jforeecon",
          "title_count": 1
         },
         {
          "lineage": "intjhistarch",
          "title_count": 1
         },
         {
          "lineage": "intejhealserv",
          "title_count": 1
         },
         {
          "lineage": "englhistrevi",
          "title_count": 1
         },
         {
          "lineage": "franstud",
          "title_count": 1
         },
         {
          "lineage": "futurechildren",
          "title_count": 1
         },
         {
          "lineage": "futuante",
          "title_count": 1
         },
         {
          "lineage": "furrow",
          "title_count": 1
         },
         {
          "lineage": "furnhist",
          "title_count": 1
         },
         {
          "lineage": "funcecol",
          "title_count": 1
         },
         {
          "lineage": "frontphilchina",
          "title_count": 1
         },
         {
          "lineage": "fronecolenvi",
          "title_count": 1
         },
         {
          "lineage": "fronjwomestud",
          "title_count": 1
         },
         {
          "lineage": "frenrevispecissu",
          "title_count": 1
         },
         {
          "lineage": "frenchreview",
          "title_count": 1
         },
         {
          "lineage": "frenhiststud",
          "title_count": 1
         },
         {
          "lineage": "frenchforum",
          "title_count": 1
         },
         {
          "lineage": "frauenfilm",
          "title_count": 1
         },
         {
          "lineage": "francofonia",
          "title_count": 1
         },
         {
          "lineage": "framework",
          "title_count": 1
         },
         {
          "lineage": "galenos",
          "title_count": 1
         },
         {
          "lineage": "fourthgenre",
          "title_count": 1
         },
         {
          "lineage": "fortnight",
          "title_count": 1
         },
         {
          "lineage": "forsberi",
          "title_count": 1
         },
         {
          "lineage": "foroital",
          "title_count": 1
         },
         {
          "lineage": "forointe",
          "title_count": 1
         },
         {
          "lineage": "forepolianal",
          "title_count": 1
         },
         {
          "lineage": "foreignpolicy",
          "title_count": 1
         },
         {
          "lineage": "forlearningmath",
          "title_count": 1
         },
         {
          "lineage": "florneot",
          "title_count": 1
         },
         {
          "lineage": "fiscalstudies",
          "title_count": 1
         },
         {
          "lineage": "fire",
          "title_count": 1
         },
         {
          "lineage": "fineartsj",
          "title_count": 1
         },
         {
          "lineage": "finaarch",
          "title_count": 1
         },
         {
          "lineage": "finamana",
          "title_count": 1
         },
         {
          "lineage": "gadelica",
          "title_count": 1
         },
         {
          "lineage": "gallia",
          "title_count": 1
         },
         {
          "lineage": "filmcriticism",
          "title_count": 1
         },
         {
          "lineage": "germmusebull",
          "title_count": 1
         },
         {
          "lineage": "goveoppo",
          "title_count": 1
         },
         {
          "lineage": "goodwinseries",
          "title_count": 1
         },
         {
          "lineage": "gnomon",
          "title_count": 1
         },
         {
          "lineage": "glotta",
          "title_count": 1
         },
         {
          "lineage": "globusfreund",
          "title_count": 1
         },
         {
          "lineage": "globestudies",
          "title_count": 1
         },
         {
          "lineage": "globalsouth",
          "title_count": 1
         },
         {
          "lineage": "globgove",
          "title_count": 1
         },
         {
          "lineage": "globenvi",
          "title_count": 1
         },
         {
          "lineage": "ilgiappone",
          "title_count": 1
         },
         {
          "lineage": "gettyresearchj",
          "title_count": 1
         },
         {
          "lineage": "gesta",
          "title_count": 1
         },
         {
          "lineage": "gescgesesond",
          "title_count": 1
         },
         {
          "lineage": "gescgese",
          "title_count": 1
         },
         {
          "lineage": "germstudrevi",
          "title_count": 1
         },
         {
          "lineage": "galpinsocietyj",
          "title_count": 1
         },
         {
          "lineage": "germanquarterly",
          "title_count": 1
         },
         {
          "lineage": "georgiarev",
          "title_count": 1
         },
         {
          "lineage": "georhistquar",
          "title_count": 1
         },
         {
          "lineage": "georjinteaffa",
          "title_count": 1
         },
         {
          "lineage": "georwrigforu",
          "title_count": 1
         },
         {
          "lineage": "geophistinterela",
          "title_count": 1
         },
         {
          "lineage": "geojournal",
          "title_count": 1
         },
         {
          "lineage": "geogzeit",
          "title_count": 1
         },
         {
          "lineage": "genus",
          "title_count": 1
         },
         {
          "lineage": "genocidestudies",
          "title_count": 1
         },
         {
          "lineage": "geneses",
          "title_count": 1
         },
         {
          "lineage": "genethejamersoci",
          "title_count": 1
         },
         {
          "lineage": "gendersociety",
          "title_count": 1
         },
         {
          "lineage": "gastronomica",
          "title_count": 1
         },
         {
          "lineage": "filmhistory",
          "title_count": 1
         },
         {
          "lineage": "fieldayrev",
          "title_count": 1
         },
         {
          "lineage": "greacirc",
          "title_count": 1
         },
         {
          "lineage": "eservicej",
          "title_count": 1
         },
         {
          "lineage": "ethnography",
          "title_count": 1
         },
         {
          "lineage": "ethnicitydisease",
          "title_count": 1
         },
         {
          "lineage": "ethnicities",
          "title_count": 1
         },
         {
          "lineage": "ethicsenviro",
          "title_count": 1
         },
         {
          "lineage": "ethitheomoraprac",
          "title_count": 1
         },
         {
          "lineage": "etcrevgensem",
          "title_count": 1
         },
         {
          "lineage": "estufemi",
          "title_count": 1
         },
         {
          "lineage": "estusoci",
          "title_count": 1
         },
         {
          "lineage": "estuinte",
          "title_count": 1
         },
         {
          "lineage": "estuatac",
          "title_count": 1
         },
         {
          "lineage": "espritcreateur",
          "title_count": 1
         },
         {
          "lineage": "espelho",
          "title_count": 1
         },
         {
          "lineage": "espageogeng",
          "title_count": 1
         },
         {
          "lineage": "espageog",
          "title_count": 1
         },
         {
          "lineage": "eriu",
          "title_count": 1
         },
         {
          "lineage": "ethnology",
          "title_count": 1
         },
         {
          "lineage": "eretzisrael",
          "title_count": 1
         },
         {
          "lineage": "epidemiology",
          "title_count": 1
         },
         {
          "lineage": "eolas",
          "title_count": 1
         },
         {
          "lineage": "envivalu",
          "title_count": 1
         },
         {
          "lineage": "envirevi",
          "title_count": 1
         },
         {
          "lineage": "environmentallaw",
          "title_count": 1
         },
         {
          "lineage": "envihealpers",
          "title_count": 1
         },
         {
          "lineage": "envicons",
          "title_count": 1
         },
         {
          "lineage": "envisoci",
          "title_count": 1
         },
         {
          "lineage": "environmenthist",
          "title_count": 1
         },
         {
          "lineage": "envideveecon",
          "title_count": 1
         },
         {
          "lineage": "englliterena",
          "title_count": 1
         },
         {
          "lineage": "englishj",
          "title_count": 1
         },
         {
          "lineage": "englafri",
          "title_count": 1
         },
         {
          "lineage": "ethnohistory",
          "title_count": 1
         },
         {
          "lineage": "ethnomusicology",
          "title_count": 1
         },
         {
          "lineage": "femteacher",
          "title_count": 1
         },
         {
          "lineage": "eurojoyce",
          "title_count": 1
         },
         {
          "lineage": "feministstudies",
          "title_count": 1
         },
         {
          "lineage": "feministreview",
          "title_count": 1
         },
         {
          "lineage": "fedesentrepo",
          "title_count": 1
         },
         {
          "lineage": "faulknerj",
          "title_count": 1
         },
         {
          "lineage": "famicommheal",
          "title_count": 1
         },
         {
          "lineage": "fairtalerevi",
          "title_count": 1
         },
         {
          "lineage": "fscotfitzrevi",
          "title_count": 1
         },
         {
          "lineage": "extrorieextrocci",
          "title_count": 1
         },
         {
          "lineage": "evolution",
          "title_count": 1
         },
         {
          "lineage": "eurostataidlaw",
          "title_count": 1
         },
         {
          "lineage": "eurosocirevi",
          "title_count": 1
         },
         {
          "lineage": "eriseurointestud",
          "title_count": 1
         },
         {
          "lineage": "eurorevieconhist",
          "title_count": 1
         },
         {
          "lineage": "europeanjudaism",
          "title_count": 1
         },
         {
          "lineage": "archeurosoci",
          "title_count": 1
         },
         {
          "lineage": "ethos",
          "title_count": 1
         },
         {
          "lineage": "eurojriskregu",
          "title_count": 1
         },
         {
          "lineage": "eurojpsyceduc",
          "title_count": 1
         },
         {
          "lineage": "eurojheallaw",
          "title_count": 1
         },
         {
          "lineage": "eurojepid",
          "title_count": 1
         },
         {
          "lineage": "eurojeastasiastu",
          "title_count": 1
         },
         {
          "lineage": "eurojcancprev",
          "title_count": 1
         },
         {
          "lineage": "eurofoodfeedlaw",
          "title_count": 1
         },
         {
          "lineage": "euroaddirese",
          "title_count": 1
         },
         {
          "lineage": "eugeoneirevi",
          "title_count": 1
         },
         {
          "lineage": "etudstepmall",
          "title_count": 1
         },
         {
          "lineage": "etudsart",
          "title_count": 1
         },
         {
          "lineage": "etudesrurales",
          "title_count": 1
         },
         {
          "lineage": "etudinuistud",
          "title_count": 1
         },
         {
          "lineage": "etnofoor",
          "title_count": 1
         },
         {
          "lineage": "granstre",
          "title_count": 1
         },
         {
          "lineage": "greatdecisions",
          "title_count": 1
         },
         {
          "lineage": "intjfemappbio",
          "title_count": 1
         },
         {
          "lineage": "illuwoodwork",
          "title_count": 1
         },
         {
          "lineage": "indijpoliscie",
          "title_count": 1
         },
         {
          "lineage": "indijindurela",
          "title_count": 1
         },
         {
          "lineage": "indijasiaaffa",
          "title_count": 1
         },
         {
          "lineage": "indianforgnaffr",
          "title_count": 1
         },
         {
          "lineage": "indeconrev",
          "title_count": 1
         },
         {
          "lineage": "indianth",
          "title_count": 1
         },
         {
          "lineage": "indiaquarterly",
          "title_count": 1
         },
         {
          "lineage": "indiaintecentq",
          "title_count": 1
         },
         {
          "lineage": "indeshav",
          "title_count": 1
         },
         {
          "lineage": "inderevi",
          "title_count": 1
         },
         {
          "lineage": "indefensealien",
          "title_count": 1
         },
         {
          "lineage": "impressions",
          "title_count": 1
         },
         {
          "lineage": "imagomundi",
          "title_count": 1
         },
         {
          "lineage": "indulaborelarevi",
          "title_count": 1
         },
         {
          "lineage": "illumagaart",
          "title_count": 1
         },
         {
          "lineage": "indjglolegstu",
          "title_count": 1
         },
         {
          "lineage": "illiclasstud",
          "title_count": 1
         },
         {
          "lineage": "ijotisrajoccuthe",
          "title_count": 1
         },
         {
          "lineage": "icon",
          "title_count": 1
         },
         {
          "lineage": "ibsenewscomm",
          "title_count": 1
         },
         {
          "lineage": "iajsocinduarch",
          "title_count": 1
         },
         {
          "lineage": "hypatia",
          "title_count": 1
         },
         {
          "lineage": "humjsocrel",
          "title_count": 1
         },
         {
          "lineage": "jintelawpeacconf",
          "title_count": 1
         },
         {
          "lineage": "humastud",
          "title_count": 1
         },
         {
          "lineage": "humaecolrevi",
          "title_count": 1
         },
         {
          "lineage": "humanecology",
          "title_count": 1
         },
         {
          "lineage": "humanbiology",
          "title_count": 1
         },
         {
          "lineage": "hudsonreview",
          "title_count": 1
         },
         {
          "lineage": "harvpublhealrevi",
          "title_count": 1
         },
         {
          "lineage": "indilite",
          "title_count": 1
         },
         {
          "lineage": "inditheorevi",
          "title_count": 1
         },
         {
          "lineage": "horigeog",
          "title_count": 1
         },
         {
          "lineage": "instructscie",
          "title_count": 1
         },
         {
          "lineage": "intejethistud",
          "title_count": 1
         },
         {
          "lineage": "intjeleccom",
          "title_count": 1
         },
         {
          "lineage": "intejconfenga",
          "title_count": 1
         },
         {
          "lineage": "intejourartsmana",
          "title_count": 1
         },
         {
          "lineage": "intejamerling",
          "title_count": 1
         },
         {
          "lineage": "intejphilreli",
          "title_count": 1
         },
         {
          "lineage": "internationalj",
          "title_count": 1
         },
         {
          "lineage": "interhistrev",
          "title_count": 1
         },
         {
          "lineage": "fordmadoxford",
          "title_count": 1
         },
         {
          "lineage": "inteeconrevi",
          "title_count": 1
         },
         {
          "lineage": "interfaces",
          "title_count": 1
         },
         {
          "lineage": "intestudliteenvi",
          "title_count": 1
         },
         {
          "lineage": "intelitestud",
          "title_count": 1
         },
         {
          "lineage": "integral",
          "title_count": 1
         },
         {
          "lineage": "insightturkey",
          "title_count": 1
         },
         {
          "lineage": "indoiranianj",
          "title_count": 1
         },
         {
          "lineage": "insipent",
          "title_count": 1
         },
         {
          "lineage": "insidenavy",
          "title_count": 1
         },
         {
          "lineage": "insidearmy",
          "title_count": 1
         },
         {
          "lineage": "insideairforce",
          "title_count": 1
         },
         {
          "lineage": "insimissdefe",
          "title_count": 1
         },
         {
          "lineage": "watepolirepo",
          "title_count": 1
         },
         {
          "lineage": "riskpolirepo",
          "title_count": 1
         },
         {
          "lineage": "cleaairrepo",
          "title_count": 1
         },
         {
          "lineage": "innopoliecon",
          "title_count": 1
         },
         {
          "lineage": "innrevcieadmsoc",
          "title_count": 1
         },
         {
          "lineage": "innerasia",
          "title_count": 1
         },
         {
          "lineage": "infosysres",
          "title_count": 1
         },
         {
          "lineage": "indubezi",
          "title_count": 1
         },
         {
          "lineage": "indonesia",
          "title_count": 1
         },
         {
          "lineage": "horizons",
          "title_count": 1
         },
         {
          "lineage": "hopos",
          "title_count": 1
         },
         {
          "lineage": "greaplaiquar",
          "title_count": 1
         },
         {
          "lineage": "harvardlawreview",
          "title_count": 1
         },
         {
          "lineage": "hermathena",
          "title_count": 1
         },
         {
          "lineage": "heideggerstudies",
          "title_count": 1
         },
         {
          "lineage": "hegelstudien",
          "title_count": 1
         },
         {
          "lineage": "healtranrev",
          "title_count": 1
         },
         {
          "lineage": "healpromprac",
          "title_count": 1
         },
         {
          "lineage": "healpoliplan",
          "title_count": 1
         },
         {
          "lineage": "healeducrese",
          "title_count": 1
         },
         {
          "lineage": "healcaremanarevi",
          "title_count": 1
         },
         {
          "lineage": "healhumarigh",
          "title_count": 1
         },
         {
          "lineage": "healthhist",
          "title_count": 1
         },
         {
          "lineage": "health",
          "title_count": 1
         },
         {
          "lineage": "harvukrastud",
          "title_count": 1
         },
         {
          "lineage": "harvtheorevi",
          "title_count": 1
         },
         {
          "lineage": "harvstudclasphil",
          "title_count": 1
         },
         {
          "lineage": "harvjasiastud",
          "title_count": 1
         },
         {
          "lineage": "herpetologica",
          "title_count": 1
         },
         {
          "lineage": "harvinterevi",
          "title_count": 1
         },
         {
          "lineage": "hardysocietyj",
          "title_count": 1
         },
         {
          "lineage": "hardyreview",
          "title_count": 1
         },
         {
          "lineage": "hagut",
          "title_count": 1
         },
         {
          "lineage": "guidfielmusnathi",
          "title_count": 1
         },
         {
          "lineage": "guaraguao",
          "title_count": 1
         },
         {
          "lineage": "group",
          "title_count": 1
         },
         {
          "lineage": "grial",
          "title_count": 1
         },
         {
          "lineage": "greyroom",
          "title_count": 1
         },
         {
          "lineage": "gregorianum",
          "title_count": 1
         },
         {
          "lineage": "greemanainte",
          "title_count": 1
         },
         {
          "lineage": "greenbook",
          "title_count": 1
         },
         {
          "lineage": "greecerome",
          "title_count": 1
         },
         {
          "lineage": "greaplairese",
          "title_count": 1
         },
         {
          "lineage": "hermes",
          "title_count": 1
         },
         {
          "lineage": "herpmono",
          "title_count": 1
         },
         {
          "lineage": "hopkinsquarterly",
          "title_count": 1
         },
         {
          "lineage": "histarch",
          "title_count": 1
         },
         {
          "lineage": "homme",
          "title_count": 1
         },
         {
          "lineage": "historyteacher",
          "title_count": 1
         },
         {
          "lineage": "historypresent",
          "title_count": 1
         },
         {
          "lineage": "historyreligions",
          "title_count": 1
         },
         {
          "lineage": "histpolithou",
          "title_count": 1
         },
         {
          "lineage": "histphilquar",
          "title_count": 1
         },
         {
          "lineage": "histirel",
          "title_count": 1
         },
         {
          "lineage": "historyafrica",
          "title_count": 1
         },
         {
          "lineage": "historytheory",
          "title_count": 1
         },
         {
          "lineage": "histphillifescie",
          "title_count": 1
         },
         {
          "lineage": "histmemo",
          "title_count": 1
         },
         {
          "lineage": "history",
          "title_count": 1
         },
         {
          "lineage": "histsociresesupp",
          "title_count": 1
         },
         {
          "lineage": "histrefl",
          "title_count": 1
         },
         {
          "lineage": "historian",
          "title_count": 1
         },
         {
          "lineage": "hespsupp",
          "title_count": 1
         },
         {
          "lineage": "histzeitalte",
          "title_count": 1
         },
         {
          "lineage": "historiasocial",
          "title_count": 1
         },
         {
          "lineage": "histmex",
          "title_count": 1
         },
         {
          "lineage": "historia",
          "title_count": 1
         },
         {
          "lineage": "histoiremesure",
          "title_count": 1
         },
         {
          "lineage": "histoireeduc",
          "title_count": 1
         },
         {
          "lineage": "hispanofila",
          "title_count": 1
         },
         {
          "lineage": "hispanicreview",
          "title_count": 1
         },
         {
          "lineage": "hispanicj",
          "title_count": 1
         },
         {
          "lineage": "hispamerhistrevi",
          "title_count": 1
         },
         {
          "lineage": "hispania",
          "title_count": 1
         },
         {
          "lineage": "hispamerica",
          "title_count": 1
         },
         {
          "lineage": "highereducation",
          "title_count": 1
         },
         {
          "lineage": "hesperia",
          "title_count": 1
         },
         {
          "lineage": "zmanim",
          "title_count": 1
         }
        ]
       },
       "encoding": {
        "x": {
         "aggregate": "count",
         "title": "Number of Publications",
         "type": "quantitative"
        },
        "y": {
         "field": "title_count",
         "title": null,
         "type": "ordinal"
        }
       },
       "height": 200,
       "mark": {
        "type": "bar"
       },
       "title": "Subsetting to lineage means that we go from 4497 number of unique publication titles to 2851",
       "width": 400
      },
      "text/plain": [
       "<VegaLite 5 object>\n",
       "\n",
       "If you see this message, it means the renderer has not been properly enabled\n",
       "for the frontend that you are using. For more information, see\n",
       "https://altair-viz.github.io/user_guide/troubleshooting.html\n"
      ]
     },
     "execution_count": 6,
     "metadata": {},
     "output_type": "execute_result"
    }
   ],
   "source": [
    "lineage_counts = global_txt_file.lineage.value_counts().reset_index().rename(columns={\"index\": \"lineage\", \"lineage\": \"title_count\"})\n",
    "\n",
    "# Calculate total number of publications\n",
    "total_publications = lineage_counts['title_count'].sum()\n",
    "subset_publications = len(lineage_counts)\n",
    "\n",
    "# Create the base chart\n",
    "chart = alt.Chart(lineage_counts).mark_bar().encode(\n",
    "    y=alt.Y(\"title_count:O\", title=None),\n",
    "    x=alt.X(\"count():Q\", title=\"Number of Publications\"),\n",
    ").properties(\n",
    "    title = f\"Subsetting to lineage means that we go from {total_publications} number of unique publication titles to {subset_publications}\",\n",
    "    width=400,\n",
    "    height=200\n",
    ")\n",
    "\n",
    "# Display the chart\n",
    "chart.configure_axisY(\n",
    "    titleAngle=0,\n",
    "    titleY=-10,\n",
    "    titleX=-10,\n",
    ")"
   ]
  },
  {
   "cell_type": "code",
   "execution_count": 7,
   "metadata": {},
   "outputs": [
    {
     "data": {
      "text/html": [
       "<pre style=\"white-space:pre;overflow-x:auto;line-height:normal;font-family:Menlo,'DejaVu Sans Mono',consolas,'Courier New',monospace\">But only <span style=\"color: #008080; text-decoration-color: #008080; font-weight: bold\">942</span> lineages have more than <span style=\"color: #008080; text-decoration-color: #008080; font-weight: bold\">1</span> publication, out of <span style=\"color: #008080; text-decoration-color: #008080; font-weight: bold\">2851</span> total lineage publications <span style=\"font-weight: bold\">(</span>so a percentage of \n",
       "<span style=\"color: #008080; text-decoration-color: #008080; font-weight: bold\">33.04</span>%<span style=\"font-weight: bold\">)</span>. And only <span style=\"color: #008080; text-decoration-color: #008080; font-weight: bold\">373</span> lineages have more than <span style=\"color: #008080; text-decoration-color: #008080; font-weight: bold\">2</span> publications.\n",
       "</pre>\n"
      ],
      "text/plain": [
       "But only \u001b[1;36m942\u001b[0m lineages have more than \u001b[1;36m1\u001b[0m publication, out of \u001b[1;36m2851\u001b[0m total lineage publications \u001b[1m(\u001b[0mso a percentage of \n",
       "\u001b[1;36m33.04\u001b[0m%\u001b[1m)\u001b[0m. And only \u001b[1;36m373\u001b[0m lineages have more than \u001b[1;36m2\u001b[0m publications.\n"
      ]
     },
     "metadata": {},
     "output_type": "display_data"
    }
   ],
   "source": [
    "console.print(f\"But only {lineage_counts[lineage_counts['title_count'] > 1].shape[0]} lineages have more than 1 publication, out of {len(lineage_counts)} total lineage publications (so a percentage of {round((lineage_counts[lineage_counts['title_count'] > 1].shape[0] / len(lineage_counts)) * 100, 2)}%). And only {lineage_counts[lineage_counts['title_count'] > 2].shape[0]} lineages have more than 2 publications.\")"
   ]
  },
  {
   "cell_type": "markdown",
   "metadata": {},
   "source": [
    "#### Process Dates \n",
    "\n",
    "Need to deal with earlier than 1677 dates"
   ]
  },
  {
   "cell_type": "code",
   "execution_count": 8,
   "metadata": {},
   "outputs": [
    {
     "data": {
      "application/vnd.jupyter.widget-view+json": {
       "model_id": "fd9f3f8b8bc14f17adcb4e2d2cc6d62e",
       "version_major": 2,
       "version_minor": 0
      },
      "text/plain": [
       "Processing date_first_issue_online:   0%|          | 0/4497 [00:00<?, ?it/s]"
      ]
     },
     "metadata": {},
     "output_type": "display_data"
    },
    {
     "data": {
      "application/vnd.jupyter.widget-view+json": {
       "model_id": "2ba7137c9a4247c2b03b28517b7d4e96",
       "version_major": 2,
       "version_minor": 0
      },
      "text/plain": [
       "Processing date_last_issue_online:   0%|          | 0/4497 [00:00<?, ?it/s]"
      ]
     },
     "metadata": {},
     "output_type": "display_data"
    }
   ],
   "source": [
    "def conv(date):\n",
    "    year, month, day = map(int, date.split(\"-\"))\n",
    "    return pd.Period(year=year, month=month, day=day, freq=\"D\")\n",
    "\n",
    "tqdm.pandas(desc=\"Processing date_first_issue_online\")\n",
    "global_txt_file[\"processed_date_first_issue_online\"] = global_txt_file.date_first_issue_online.progress_apply(conv)\n",
    "\n",
    "tqdm.pandas(desc=\"Processing date_last_issue_online\")\n",
    "global_txt_file[\"processed_date_last_issue_online\"] = global_txt_file.date_last_issue_online.progress_apply(conv)"
   ]
  },
  {
   "cell_type": "code",
   "execution_count": 9,
   "metadata": {},
   "outputs": [
    {
     "data": {
      "text/html": [
       "<pre style=\"white-space:pre;overflow-x:auto;line-height:normal;font-family:Menlo,'DejaVu Sans Mono',consolas,'Courier New',monospace\">Earliest date of a first publication in this list is  <span style=\"color: #008080; text-decoration-color: #008080; font-weight: bold\">1665</span>-<span style=\"color: #008080; text-decoration-color: #008080; font-weight: bold\">01</span>-<span style=\"color: #008080; text-decoration-color: #008080; font-weight: bold\">01</span>. And the latest date of a first publication is \n",
       "<span style=\"color: #008080; text-decoration-color: #008080; font-weight: bold\">2024</span>-<span style=\"color: #008080; text-decoration-color: #008080; font-weight: bold\">03</span>-<span style=\"color: #008080; text-decoration-color: #008080; font-weight: bold\">01</span>\n",
       "</pre>\n"
      ],
      "text/plain": [
       "Earliest date of a first publication in this list is  \u001b[1;36m1665\u001b[0m-\u001b[1;36m01\u001b[0m-\u001b[1;36m01\u001b[0m. And the latest date of a first publication is \n",
       "\u001b[1;36m2024\u001b[0m-\u001b[1;36m03\u001b[0m-\u001b[1;36m01\u001b[0m\n"
      ]
     },
     "metadata": {},
     "output_type": "display_data"
    }
   ],
   "source": [
    "# get earliest and latest processed_date_first_issue_online\n",
    "earliest_date = global_txt_file.processed_date_first_issue_online.min()\n",
    "latest_date = global_txt_file.processed_date_last_issue_online.max()\n",
    "console.print(f\"Earliest date of a first publication in this list is  {earliest_date}. And the latest date of a first publication is {latest_date}\")"
   ]
  },
  {
   "cell_type": "markdown",
   "metadata": {},
   "source": [
    "#### Infer length of publications"
   ]
  },
  {
   "cell_type": "code",
   "execution_count": 10,
   "metadata": {},
   "outputs": [
    {
     "data": {
      "application/vnd.jupyter.widget-view+json": {
       "model_id": "d78525e2e1ff4b6a8dc42141a0405dd2",
       "version_major": 2,
       "version_minor": 0
      },
      "text/plain": [
       "Infer length of publication by lineage:   0%|          | 0/2851 [00:00<?, ?it/s]"
      ]
     },
     "metadata": {},
     "output_type": "display_data"
    }
   ],
   "source": [
    "def infer_lineage_length_publication(rows):\n",
    "    total_active_years = 0\n",
    "\n",
    "    for _, row in rows.iterrows():\n",
    "        # Check if both dates are not null\n",
    "        if pd.notnull(row['processed_date_first_issue_online']) and pd.notnull(row['processed_date_last_issue_online']):\n",
    "            start_year = row['processed_date_first_issue_online'].year\n",
    "            end_year = row['processed_date_last_issue_online'].year\n",
    "            active_years = end_year - start_year + 1  # +1 to include both start and end year\n",
    "            total_active_years += active_years\n",
    "\n",
    "    # Apply the total active years to each row in the group\n",
    "    rows['lineage_active_years'] = total_active_years\n",
    "\n",
    "    return rows\n",
    "\n",
    "tqdm.pandas(desc=\"Infer length of publication by lineage\")\n",
    "global_txt_file = global_txt_file.groupby('lineage').progress_apply(infer_lineage_length_publication)"
   ]
  },
  {
   "cell_type": "code",
   "execution_count": 11,
   "metadata": {},
   "outputs": [
    {
     "data": {
      "application/vnd.jupyter.widget-view+json": {
       "model_id": "c3fe0e9345c1422cba4b85ac3cce6604",
       "version_major": 2,
       "version_minor": 0
      },
      "text/plain": [
       "Infer length of publication by title:   0%|          | 0/4469 [00:00<?, ?it/s]"
      ]
     },
     "metadata": {},
     "output_type": "display_data"
    }
   ],
   "source": [
    "def infer_title_length_publication(rows):\n",
    "    total_active_years = 0\n",
    "\n",
    "    for _, row in rows.iterrows():\n",
    "        # Check if both dates are not null\n",
    "        if pd.notnull(row['processed_date_first_issue_online']) and pd.notnull(row['processed_date_last_issue_online']):\n",
    "            start_year = row['processed_date_first_issue_online'].year\n",
    "            end_year = row['processed_date_last_issue_online'].year\n",
    "            active_years = end_year - start_year + 1  # +1 to include both start and end year\n",
    "            total_active_years += active_years\n",
    "\n",
    "    # Apply the total active years to each row in the group\n",
    "    rows['title_active_years'] = total_active_years\n",
    "    return rows\n",
    "\n",
    "tqdm.pandas(desc=\"Infer length of publication by title\")\n",
    "global_txt_file = global_txt_file.groupby('title_id').progress_apply(infer_title_length_publication)"
   ]
  },
  {
   "cell_type": "markdown",
   "metadata": {},
   "source": [
    "We can now calculate the length of time that a publication has been in existence, but need to calculate it for lineage vs individual titles."
   ]
  },
  {
   "cell_type": "code",
   "execution_count": 12,
   "metadata": {},
   "outputs": [
    {
     "data": {
      "text/html": [
       "<pre style=\"white-space:pre;overflow-x:auto;line-height:normal;font-family:Menlo,'DejaVu Sans Mono',consolas,'Courier New',monospace\">The longest lineage is philtran1665167 with <span style=\"color: #008080; text-decoration-color: #008080; font-weight: bold\">489</span> active years. This lineage is comprised of <span style=\"color: #008080; text-decoration-color: #008080; font-weight: bold\">12</span> publications with the\n",
       "titles Philosophical Transactions <span style=\"font-weight: bold\">(</span><span style=\"color: #008080; text-decoration-color: #008080; font-weight: bold\">1665</span>-<span style=\"color: #008080; text-decoration-color: #008080; font-weight: bold\">1678</span><span style=\"font-weight: bold\">)</span>, Philosophical Transactions <span style=\"font-weight: bold\">(</span><span style=\"color: #008080; text-decoration-color: #008080; font-weight: bold\">1683</span>-<span style=\"color: #008080; text-decoration-color: #008080; font-weight: bold\">1775</span><span style=\"font-weight: bold\">)</span>, Philosophical Transactions: \n",
       "Biological Sciences, Philosophical Transactions: Mathematical, Physical and Engineering Sciences, Philosophical \n",
       "Transactions of the Royal Society of London, Philosophical Transactions of the Royal Society of London. A, \n",
       "Philosophical Transactions of the Royal Society of London. B, Philosophical Transactions of the Royal Society of \n",
       "London. Series A, Containing Papers of a Mathematical or Physical Character, Philosophical Transactions of the \n",
       "Royal Society of London. Series A, Mathematical and Physical Sciences, Philosophical Transactions of the Royal \n",
       "Society of London. Series B, Biological Sciences, Philosophical Transactions of the Royal Society of London. Series\n",
       "B, Containing Papers of a Biological Character, Philosophical Transactions: Physical Sciences and Engineering.\n",
       "</pre>\n"
      ],
      "text/plain": [
       "The longest lineage is philtran1665167 with \u001b[1;36m489\u001b[0m active years. This lineage is comprised of \u001b[1;36m12\u001b[0m publications with the\n",
       "titles Philosophical Transactions \u001b[1m(\u001b[0m\u001b[1;36m1665\u001b[0m-\u001b[1;36m1678\u001b[0m\u001b[1m)\u001b[0m, Philosophical Transactions \u001b[1m(\u001b[0m\u001b[1;36m1683\u001b[0m-\u001b[1;36m1775\u001b[0m\u001b[1m)\u001b[0m, Philosophical Transactions: \n",
       "Biological Sciences, Philosophical Transactions: Mathematical, Physical and Engineering Sciences, Philosophical \n",
       "Transactions of the Royal Society of London, Philosophical Transactions of the Royal Society of London. A, \n",
       "Philosophical Transactions of the Royal Society of London. B, Philosophical Transactions of the Royal Society of \n",
       "London. Series A, Containing Papers of a Mathematical or Physical Character, Philosophical Transactions of the \n",
       "Royal Society of London. Series A, Mathematical and Physical Sciences, Philosophical Transactions of the Royal \n",
       "Society of London. Series B, Biological Sciences, Philosophical Transactions of the Royal Society of London. Series\n",
       "B, Containing Papers of a Biological Character, Philosophical Transactions: Physical Sciences and Engineering.\n"
      ]
     },
     "metadata": {},
     "output_type": "display_data"
    },
    {
     "data": {
      "text/html": [
       "<pre style=\"white-space:pre;overflow-x:auto;line-height:normal;font-family:Menlo,'DejaVu Sans Mono',consolas,'Courier New',monospace\">The overall statistics for the lineage active years are as follows:\n",
       "</pre>\n"
      ],
      "text/plain": [
       "The overall statistics for the lineage active years are as follows:\n"
      ]
     },
     "metadata": {},
     "output_type": "display_data"
    },
    {
     "data": {
      "text/html": [
       "<pre style=\"white-space:pre;overflow-x:auto;line-height:normal;font-family:Menlo,'DejaVu Sans Mono',consolas,'Courier New',monospace\">count    <span style=\"color: #008080; text-decoration-color: #008080; font-weight: bold\">2851.000000</span>\n",
       "mean       <span style=\"color: #008080; text-decoration-color: #008080; font-weight: bold\">57.668888</span>\n",
       "std        <span style=\"color: #008080; text-decoration-color: #008080; font-weight: bold\">39.657885</span>\n",
       "min         <span style=\"color: #008080; text-decoration-color: #008080; font-weight: bold\">1.000000</span>\n",
       "<span style=\"color: #008080; text-decoration-color: #008080; font-weight: bold\">25</span>%        <span style=\"color: #008080; text-decoration-color: #008080; font-weight: bold\">32.000000</span>\n",
       "<span style=\"color: #008080; text-decoration-color: #008080; font-weight: bold\">50</span>%        <span style=\"color: #008080; text-decoration-color: #008080; font-weight: bold\">49.000000</span>\n",
       "<span style=\"color: #008080; text-decoration-color: #008080; font-weight: bold\">75</span>%        <span style=\"color: #008080; text-decoration-color: #008080; font-weight: bold\">74.000000</span>\n",
       "max       <span style=\"color: #008080; text-decoration-color: #008080; font-weight: bold\">489.000000</span>\n",
       "Name: lineage_active_years, dtype: float64\n",
       "</pre>\n"
      ],
      "text/plain": [
       "count    \u001b[1;36m2851.000000\u001b[0m\n",
       "mean       \u001b[1;36m57.668888\u001b[0m\n",
       "std        \u001b[1;36m39.657885\u001b[0m\n",
       "min         \u001b[1;36m1.000000\u001b[0m\n",
       "\u001b[1;36m25\u001b[0m%        \u001b[1;36m32.000000\u001b[0m\n",
       "\u001b[1;36m50\u001b[0m%        \u001b[1;36m49.000000\u001b[0m\n",
       "\u001b[1;36m75\u001b[0m%        \u001b[1;36m74.000000\u001b[0m\n",
       "max       \u001b[1;36m489.000000\u001b[0m\n",
       "Name: lineage_active_years, dtype: float64\n"
      ]
     },
     "metadata": {},
     "output_type": "display_data"
    }
   ],
   "source": [
    "# Get longest and shortest lineage\n",
    "longest_lineage = global_txt_file[global_txt_file['lineage_active_years'] == global_txt_file['lineage_active_years'].max()]\n",
    "longest_lineage_number_of_publications = global_txt_file[global_txt_file['lineage'] == longest_lineage['lineage'].iloc[0]]\n",
    "console.print(f\"The longest lineage is {longest_lineage['lineage'].iloc[0]} with {longest_lineage['lineage_active_years'].iloc[0]} active years. This lineage is comprised of {longest_lineage_number_of_publications.shape[0]} publications with the titles {', '.join(longest_lineage_number_of_publications['publication_title'].tolist())}.\") \n",
    "console.print(\"The overall statistics for the lineage active years are as follows:\")\n",
    "console.print(global_txt_file[['lineage', 'lineage_active_years']].drop_duplicates().lineage_active_years.describe())"
   ]
  },
  {
   "cell_type": "code",
   "execution_count": 13,
   "metadata": {},
   "outputs": [
    {
     "data": {
      "text/html": [
       "<pre style=\"white-space:pre;overflow-x:auto;line-height:normal;font-family:Menlo,'DejaVu Sans Mono',consolas,'Courier New',monospace\">The longest title, not using lineage, is Proceedings of the Massachusetts Historical Society with <span style=\"color: #008080; text-decoration-color: #008080; font-weight: bold\">207</span> active years.\n",
       "</pre>\n"
      ],
      "text/plain": [
       "The longest title, not using lineage, is Proceedings of the Massachusetts Historical Society with \u001b[1;36m207\u001b[0m active years.\n"
      ]
     },
     "metadata": {},
     "output_type": "display_data"
    },
    {
     "data": {
      "text/html": [
       "<pre style=\"white-space:pre;overflow-x:auto;line-height:normal;font-family:Menlo,'DejaVu Sans Mono',consolas,'Courier New',monospace\">The overall statistics for the title active years are as follows:\n",
       "</pre>\n"
      ],
      "text/plain": [
       "The overall statistics for the title active years are as follows:\n"
      ]
     },
     "metadata": {},
     "output_type": "display_data"
    },
    {
     "data": {
      "text/html": [
       "<pre style=\"white-space:pre;overflow-x:auto;line-height:normal;font-family:Menlo,'DejaVu Sans Mono',consolas,'Courier New',monospace\">count    <span style=\"color: #008080; text-decoration-color: #008080; font-weight: bold\">4469.000000</span>\n",
       "mean       <span style=\"color: #008080; text-decoration-color: #008080; font-weight: bold\">36.789886</span>\n",
       "std        <span style=\"color: #008080; text-decoration-color: #008080; font-weight: bold\">31.509671</span>\n",
       "min         <span style=\"color: #008080; text-decoration-color: #008080; font-weight: bold\">1.000000</span>\n",
       "<span style=\"color: #008080; text-decoration-color: #008080; font-weight: bold\">25</span>%        <span style=\"color: #008080; text-decoration-color: #008080; font-weight: bold\">12.000000</span>\n",
       "<span style=\"color: #008080; text-decoration-color: #008080; font-weight: bold\">50</span>%        <span style=\"color: #008080; text-decoration-color: #008080; font-weight: bold\">30.000000</span>\n",
       "<span style=\"color: #008080; text-decoration-color: #008080; font-weight: bold\">75</span>%        <span style=\"color: #008080; text-decoration-color: #008080; font-weight: bold\">51.000000</span>\n",
       "max       <span style=\"color: #008080; text-decoration-color: #008080; font-weight: bold\">207.000000</span>\n",
       "Name: title_active_years, dtype: float64\n",
       "</pre>\n"
      ],
      "text/plain": [
       "count    \u001b[1;36m4469.000000\u001b[0m\n",
       "mean       \u001b[1;36m36.789886\u001b[0m\n",
       "std        \u001b[1;36m31.509671\u001b[0m\n",
       "min         \u001b[1;36m1.000000\u001b[0m\n",
       "\u001b[1;36m25\u001b[0m%        \u001b[1;36m12.000000\u001b[0m\n",
       "\u001b[1;36m50\u001b[0m%        \u001b[1;36m30.000000\u001b[0m\n",
       "\u001b[1;36m75\u001b[0m%        \u001b[1;36m51.000000\u001b[0m\n",
       "max       \u001b[1;36m207.000000\u001b[0m\n",
       "Name: title_active_years, dtype: float64\n"
      ]
     },
     "metadata": {},
     "output_type": "display_data"
    }
   ],
   "source": [
    "# Get longest and shortest title\n",
    "longest_title = global_txt_file[global_txt_file['title_active_years'] == global_txt_file['title_active_years'].max()]\n",
    "console.print(f\"The longest title, not using lineage, is {longest_title['publication_title'].iloc[0]} with {longest_title['title_active_years'].iloc[0]} active years.\")\n",
    "console.print(\"The overall statistics for the title active years are as follows:\")\n",
    "console.print(global_txt_file[['publication_title', 'title_active_years']].drop_duplicates().title_active_years.describe())"
   ]
  },
  {
   "cell_type": "code",
   "execution_count": 14,
   "metadata": {},
   "outputs": [
    {
     "data": {
      "text/html": [
       "<pre style=\"white-space:pre;overflow-x:auto;line-height:normal;font-family:Menlo,'DejaVu Sans Mono',consolas,'Courier New',monospace\">T-statistic: <span style=\"color: #008080; text-decoration-color: #008080; font-weight: bold\">24.933736230113706</span>\n",
       "</pre>\n"
      ],
      "text/plain": [
       "T-statistic: \u001b[1;36m24.933736230113706\u001b[0m\n"
      ]
     },
     "metadata": {},
     "output_type": "display_data"
    },
    {
     "data": {
      "text/html": [
       "<pre style=\"white-space:pre;overflow-x:auto;line-height:normal;font-family:Menlo,'DejaVu Sans Mono',consolas,'Courier New',monospace\">P-value: <span style=\"color: #008080; text-decoration-color: #008080; font-weight: bold\">8.567933025973326e-132</span>\n",
       "</pre>\n"
      ],
      "text/plain": [
       "P-value: \u001b[1;36m8.567933025973326e-132\u001b[0m\n"
      ]
     },
     "metadata": {},
     "output_type": "display_data"
    },
    {
     "data": {
      "text/html": [
       "<pre style=\"white-space:pre;overflow-x:auto;line-height:normal;font-family:Menlo,'DejaVu Sans Mono',consolas,'Courier New',monospace\">The p-value is less than <span style=\"color: #008080; text-decoration-color: #008080; font-weight: bold\">0.05</span>, so we reject the null hypothesis that the means of the two groups are the same. This\n",
       "means that the lineage active years and title active years are significantly different and could have impact on \n",
       "downstream analyses.\n",
       "</pre>\n"
      ],
      "text/plain": [
       "The p-value is less than \u001b[1;36m0.05\u001b[0m, so we reject the null hypothesis that the means of the two groups are the same. This\n",
       "means that the lineage active years and title active years are significantly different and could have impact on \n",
       "downstream analyses.\n"
      ]
     },
     "metadata": {},
     "output_type": "display_data"
    }
   ],
   "source": [
    "from scipy import stats\n",
    "lineage_active_years = global_txt_file[['lineage', 'lineage_active_years']].drop_duplicates()['lineage_active_years'].dropna()\n",
    "title_active_years = global_txt_file['title_active_years'].dropna()\n",
    "t_stat, p_value = stats.ttest_ind(lineage_active_years, title_active_years)\n",
    "\n",
    "console.print(f\"T-statistic: {t_stat}\")\n",
    "console.print(f\"P-value: {p_value}\")\n",
    "\n",
    "console.print(\"The p-value is less than 0.05, so we reject the null hypothesis that the means of the two groups are the same. This means that the lineage active years and title active years are significantly different and could have impact on downstream analyses.\")"
   ]
  },
  {
   "cell_type": "markdown",
   "metadata": {},
   "source": [
    "#### Fill Missing Disciplines"
   ]
  },
  {
   "cell_type": "code",
   "execution_count": 15,
   "metadata": {},
   "outputs": [],
   "source": [
    "def clean_and_count_disciplines(df):\n",
    "    # Clean discipline names and count per title\n",
    "    df['discipline'] = df['discipline'].apply(lambda x: [i.strip() for i in x.split('; ')] if isinstance(x, str) else x)\n",
    "    df['discipline_count_per_title'] = df['discipline'].apply(lambda x: len(x) if isinstance(x, list) else 0)\n",
    "    return df\n",
    "\n",
    "# Clean disciplines and count per title\n",
    "global_txt_file = clean_and_count_disciplines(global_txt_file)"
   ]
  },
  {
   "cell_type": "code",
   "execution_count": 16,
   "metadata": {},
   "outputs": [
    {
     "data": {
      "application/vnd.jupyter.widget-view+json": {
       "model_id": "6c96672eb5bc445fa6d7e04d52ac85a3",
       "version_major": 2,
       "version_minor": 0
      },
      "text/plain": [
       "Aggregate disciplines:   0%|          | 0/2851 [00:00<?, ?it/s]"
      ]
     },
     "metadata": {},
     "output_type": "display_data"
    }
   ],
   "source": [
    "def aggregate_disciplines(group):\n",
    "    # Combine all disciplines into a single list\n",
    "    all_disciplines = []\n",
    "    for disciplines in group['discipline'].dropna():\n",
    "        all_disciplines.extend(disciplines)\n",
    "\n",
    "    # Remove duplicates and sort\n",
    "    unique_disciplines = sorted(set(all_disciplines))\n",
    "    group['discipline_count_per_lineage'] = len(unique_disciplines)\n",
    "    # Join back into a single string or keep as a list\n",
    "    aggregated_disciplines = '; '.join(unique_disciplines) if unique_disciplines else None\n",
    "    \n",
    "    # Assign the aggregated disciplines to each row in the group\n",
    "    group['aggregated_disciplines'] = aggregated_disciplines\n",
    "\n",
    "    return group\n",
    "\n",
    "tqdm.pandas(desc=\"Aggregate disciplines\")\n",
    "# Apply the function to each lineage group\n",
    "global_txt_file = global_txt_file.groupby('lineage').progress_apply(aggregate_disciplines)"
   ]
  },
  {
   "cell_type": "code",
   "execution_count": 17,
   "metadata": {},
   "outputs": [],
   "source": [
    "global_txt_file['unique_title_discipline'] = global_txt_file.groupby('title_id')['aggregated_disciplines'].transform(lambda x: x.nunique() == 1)\n",
    "global_txt_file['unique_lineage_discipline'] = global_txt_file.groupby('lineage')['aggregated_disciplines'].transform(lambda x: x.nunique() == 1)"
   ]
  },
  {
   "cell_type": "code",
   "execution_count": 24,
   "metadata": {},
   "outputs": [
    {
     "data": {
      "application/vnd.jupyter.widget-view+json": {
       "model_id": "794d82371cb14a749f99d86d1d4804a4",
       "version_major": 2,
       "version_minor": 0
      },
      "text/plain": [
       "Aggregate disciplines:   0%|          | 0/2851 [00:00<?, ?it/s]"
      ]
     },
     "metadata": {},
     "output_type": "display_data"
    },
    {
     "data": {
      "application/vnd.jupyter.widget-view+json": {
       "model_id": "f2fa65a83bfc442ba9eed63d8285016f",
       "version_major": 2,
       "version_minor": 0
      },
      "text/plain": [
       "Aggregate disciplines:   0%|          | 0/4469 [00:00<?, ?it/s]"
      ]
     },
     "metadata": {},
     "output_type": "display_data"
    }
   ],
   "source": [
    "discipline_categories = {\n",
    "    'Social Sciences': 'Social Sciences',\n",
    "    'Humanities': 'Humanities',\n",
    "    'Area Studies': 'Social Sciences',\n",
    "    'Science & Mathematics': 'STEM',\n",
    "    'Language & Literature': 'Humanities',\n",
    "    'History': 'Humanities',\n",
    "    'Arts': 'Humanities',\n",
    "    'Business & Economics': 'Social Sciences',\n",
    "    'Political Science': 'Social Sciences',\n",
    "    'Business': 'Social Sciences',\n",
    "    'Biological Sciences': 'STEM',\n",
    "    'Education': 'Social Sciences',\n",
    "    'Art & Art History': 'Humanities',\n",
    "    'Economics': 'Social Sciences',\n",
    "    'Law': 'Social Sciences',\n",
    "    'Sociology': 'Social Sciences',\n",
    "    'Security Studies': 'Social Sciences',\n",
    "    'Religion': 'Humanities',\n",
    "    'Medicine & Allied Health': 'STEM',\n",
    "    'Asian Studies': 'Social Sciences',\n",
    "    'Sustainability': 'STEM',\n",
    "    'Archaeology': 'Social Sciences',\n",
    "    'Philosophy': 'Humanities',\n",
    "    'Botany & Plant Sciences': 'STEM',\n",
    "    'International Relations': 'Social Sciences',\n",
    "    'Anthropology': 'Social Sciences',\n",
    "    'American Studies': 'Social Sciences',\n",
    "    'Mathematics': 'STEM',\n",
    "    'Music': 'Humanities',\n",
    "    'Ecology & Evolutionary Biology': 'STEM',\n",
    "    'Peace & Conflict Studies': 'Social Sciences',\n",
    "    'Classical Studies': 'Humanities',\n",
    "    'Health Sciences': 'STEM',\n",
    "    'Public Health': 'Social Sciences',\n",
    "    'Zoology': 'STEM',\n",
    "    'Middle East Studies': 'Social Sciences',\n",
    "    'African Studies': 'Social Sciences',\n",
    "    'Linguistics': 'Social Sciences',\n",
    "    'Latin American Studies': 'Social Sciences',\n",
    "    'Jewish Studies': 'Humanities',\n",
    "    'General Science': 'STEM',\n",
    "    'Architecture & Architectural History': 'Humanities',\n",
    "    'Environmental Science': 'STEM',\n",
    "    'Irish Studies': 'Humanities',\n",
    "    'Health Policy': 'Social Sciences',\n",
    "    'Management & Organizational Behavior': 'Social Sciences',\n",
    "    'Statistics': 'STEM',\n",
    "    'Finance': 'Social Sciences',\n",
    "    'History of Science & Technology': 'STEM',\n",
    "    'Public Policy & Administration': 'Social Sciences',\n",
    "    'Geography': 'Social Sciences',\n",
    "    'Psychology': 'Social Sciences',\n",
    "    'Population Studies': 'Social Sciences',\n",
    "    \"Feminist & Women's Studies\": 'Social Sciences',\n",
    "    'Development Studies': 'Social Sciences',\n",
    "    'Military Studies': 'Social Sciences',\n",
    "    'Performing Arts': 'Humanities',\n",
    "    'Social Work': 'Social Sciences',\n",
    "    'Labor & Employment Relations': 'Social Sciences',\n",
    "    'Bibliography': 'Humanities',\n",
    "    'Slavic Studies': 'Humanities',\n",
    "    'Science & Technology Studies': 'STEM',\n",
    "    'Folklore': 'Humanities',\n",
    "    'African American Studies': 'Social Sciences',\n",
    "    'Gender Studies': 'Social Sciences',\n",
    "    'European Studies': 'Social Sciences',\n",
    "    'Technology': 'STEM',\n",
    "    'Film Studies': 'Humanities',\n",
    "    'Library Science': 'Social Sciences',\n",
    "    'Agriculture': 'STEM',\n",
    "    'Aquatic Sciences': 'STEM',\n",
    "    'Museum Studies': 'Humanities',\n",
    "    'Urban Studies': 'Social Sciences',\n",
    "    'Engineering': 'STEM',\n",
    "    'Environmental Studies': 'STEM',\n",
    "    'Cultural Studies': 'Social Sciences',\n",
    "    'Criminology & Criminal Justice': 'Social Sciences',\n",
    "    'British Studies': 'Humanities',\n",
    "    'Marketing & Advertising': 'Social Sciences',\n",
    "    'Paleontology': 'STEM',\n",
    "    'Communication Studies': 'Social Sciences',\n",
    "    'Horticulture': 'STEM',\n",
    "    'Garden & Landscape': 'Humanities',\n",
    "    'Computer Science': 'STEM',\n",
    "    'Transportation Studies': 'STEM',\n",
    "    'American Indian Studies': 'Social Sciences',\n",
    "    'Developmental & Cell Biology': 'STEM',\n",
    "    'Geology': 'STEM',\n",
    "    'Food Studies': 'Social Sciences',\n",
    "    'Astronomy': 'STEM'\n",
    "}\n",
    "exploded_global_txt_file = global_txt_file.explode('discipline')\n",
    "exploded_global_txt_file['discipline_category'] = exploded_global_txt_file['discipline'].map(discipline_categories)\n",
    "\n",
    "def aggregate_disciplines_categories(group, aggregate_column):\n",
    "    # Combine all disciplines into a single list\n",
    "    all_disciplines = []\n",
    "    for disciplines in group['discipline_category'].dropna():\n",
    "        all_disciplines.extend([disciplines])\n",
    "    # Remove duplicates and sort\n",
    "    unique_disciplines = sorted(set(all_disciplines))\n",
    "    group[f'discipline_category_count_per_{aggregate_column}'] = len(unique_disciplines)\n",
    "    # Join back into a single string or keep as a list\n",
    "    aggregated_disciplines = '; '.join(unique_disciplines) if unique_disciplines else None\n",
    "    \n",
    "    # Assign the aggregated disciplines to each row in the group\n",
    "    group[f'aggregated_discipline_categories_{aggregate_column}'] = aggregated_disciplines\n",
    "\n",
    "    return group\n",
    "\n",
    "tqdm.pandas(desc=\"Aggregate disciplines\")\n",
    "# # Apply the function to each lineage group\n",
    "exploded_global_txt_file = exploded_global_txt_file.groupby('lineage').progress_apply(aggregate_disciplines_categories, aggregate_column=\"lineage\")\n",
    "exploded_global_txt_file = exploded_global_txt_file.groupby('title_id').progress_apply(aggregate_disciplines_categories, aggregate_column=\"title\")"
   ]
  },
  {
   "cell_type": "code",
   "execution_count": 32,
   "metadata": {},
   "outputs": [
    {
     "data": {
      "text/html": [
       "<pre style=\"white-space:pre;overflow-x:auto;line-height:normal;font-family:Menlo,'DejaVu Sans Mono',consolas,'Courier New',monospace\">Exploring distribution for category Humanities\n",
       "</pre>\n"
      ],
      "text/plain": [
       "Exploring distribution for category Humanities\n"
      ]
     },
     "metadata": {},
     "output_type": "display_data"
    },
    {
     "data": {
      "text/html": [
       "<pre style=\"white-space:pre;overflow-x:auto;line-height:normal;font-family:Menlo,'DejaVu Sans Mono',consolas,'Courier New',monospace\">T-statistic: <span style=\"color: #008080; text-decoration-color: #008080; font-weight: bold\">14.827875442767953</span>\n",
       "</pre>\n"
      ],
      "text/plain": [
       "T-statistic: \u001b[1;36m14.827875442767953\u001b[0m\n"
      ]
     },
     "metadata": {},
     "output_type": "display_data"
    },
    {
     "data": {
      "text/html": [
       "<pre style=\"white-space:pre;overflow-x:auto;line-height:normal;font-family:Menlo,'DejaVu Sans Mono',consolas,'Courier New',monospace\">P-value: <span style=\"color: #008080; text-decoration-color: #008080; font-weight: bold\">3.1523373301295994e-48</span>\n",
       "</pre>\n"
      ],
      "text/plain": [
       "P-value: \u001b[1;36m3.1523373301295994e-48\u001b[0m\n"
      ]
     },
     "metadata": {},
     "output_type": "display_data"
    },
    {
     "data": {
      "text/html": [
       "<pre style=\"white-space:pre;overflow-x:auto;line-height:normal;font-family:Menlo,'DejaVu Sans Mono',consolas,'Courier New',monospace\">Exploring distribution for category STEM\n",
       "</pre>\n"
      ],
      "text/plain": [
       "Exploring distribution for category STEM\n"
      ]
     },
     "metadata": {},
     "output_type": "display_data"
    },
    {
     "data": {
      "text/html": [
       "<pre style=\"white-space:pre;overflow-x:auto;line-height:normal;font-family:Menlo,'DejaVu Sans Mono',consolas,'Courier New',monospace\">T-statistic: <span style=\"color: #008080; text-decoration-color: #008080; font-weight: bold\">13.12121212617997</span>\n",
       "</pre>\n"
      ],
      "text/plain": [
       "T-statistic: \u001b[1;36m13.12121212617997\u001b[0m\n"
      ]
     },
     "metadata": {},
     "output_type": "display_data"
    },
    {
     "data": {
      "text/html": [
       "<pre style=\"white-space:pre;overflow-x:auto;line-height:normal;font-family:Menlo,'DejaVu Sans Mono',consolas,'Courier New',monospace\">P-value: <span style=\"color: #008080; text-decoration-color: #008080; font-weight: bold\">2.3238728575821716e-37</span>\n",
       "</pre>\n"
      ],
      "text/plain": [
       "P-value: \u001b[1;36m2.3238728575821716e-37\u001b[0m\n"
      ]
     },
     "metadata": {},
     "output_type": "display_data"
    },
    {
     "data": {
      "text/html": [
       "<pre style=\"white-space:pre;overflow-x:auto;line-height:normal;font-family:Menlo,'DejaVu Sans Mono',consolas,'Courier New',monospace\">Exploring distribution for category Social Sciences\n",
       "</pre>\n"
      ],
      "text/plain": [
       "Exploring distribution for category Social Sciences\n"
      ]
     },
     "metadata": {},
     "output_type": "display_data"
    },
    {
     "data": {
      "text/html": [
       "<pre style=\"white-space:pre;overflow-x:auto;line-height:normal;font-family:Menlo,'DejaVu Sans Mono',consolas,'Courier New',monospace\">T-statistic: <span style=\"color: #008080; text-decoration-color: #008080; font-weight: bold\">19.8879623467455</span>\n",
       "</pre>\n"
      ],
      "text/plain": [
       "T-statistic: \u001b[1;36m19.8879623467455\u001b[0m\n"
      ]
     },
     "metadata": {},
     "output_type": "display_data"
    },
    {
     "data": {
      "text/html": [
       "<pre style=\"white-space:pre;overflow-x:auto;line-height:normal;font-family:Menlo,'DejaVu Sans Mono',consolas,'Courier New',monospace\">P-value: <span style=\"color: #008080; text-decoration-color: #008080; font-weight: bold\">1.9402176095788575e-84</span>\n",
       "</pre>\n"
      ],
      "text/plain": [
       "P-value: \u001b[1;36m1.9402176095788575e-84\u001b[0m\n"
      ]
     },
     "metadata": {},
     "output_type": "display_data"
    }
   ],
   "source": [
    "subset_exploded_lineage = exploded_global_txt_file[['lineage', 'discipline_category', 'lineage_active_years']].drop_duplicates()\n",
    "subset_exploded_title = exploded_global_txt_file[['title_id', 'discipline_category', 'title_active_years']].drop_duplicates()\n",
    "\n",
    "unique_discipline_categories = exploded_global_txt_file['discipline_category'].dropna().unique().tolist()\n",
    "\n",
    "for category in unique_discipline_categories:\n",
    "    console.print(f\"Exploring distribution for category {category}\")\n",
    "    lineage_active_years = subset_exploded_lineage[subset_exploded_lineage.discipline_category == category][['lineage', 'lineage_active_years']].drop_duplicates()['lineage_active_years'].dropna()\n",
    "    title_active_years = subset_exploded_title[subset_exploded_title.discipline_category == category]['title_active_years'].dropna()\n",
    "    t_stat, p_value = stats.ttest_ind(lineage_active_years, title_active_years)\n",
    "\n",
    "    console.print(f\"T-statistic: {t_stat}\")\n",
    "    console.print(f\"P-value: {p_value}\")"
   ]
  },
  {
   "cell_type": "code",
   "execution_count": 34,
   "metadata": {},
   "outputs": [],
   "source": [
    "subset_exploded_lineage = exploded_global_txt_file[['lineage', 'discipline', 'lineage_active_years']].drop_duplicates()\n",
    "subset_exploded_title = exploded_global_txt_file[['title_id', 'discipline', 'title_active_years']].drop_duplicates()\n",
    "\n",
    "unique_disciplines = exploded_global_txt_file['discipline'].dropna().unique().tolist()\n",
    "dfs = []\n",
    "for discipline in unique_disciplines:\n",
    "    # console.print(f\"Exploring distribution for discipline {discipline}\")\n",
    "    lineage_active_years = subset_exploded_lineage[subset_exploded_lineage.discipline == discipline][['lineage', 'lineage_active_years']].drop_duplicates()['lineage_active_years'].dropna()\n",
    "    title_active_years = subset_exploded_title[subset_exploded_title.discipline == discipline]['title_active_years'].dropna()\n",
    "    t_stat, p_value = stats.ttest_ind(lineage_active_years, title_active_years)\n",
    "\n",
    "    data_dict = {\n",
    "        \"discipline\": discipline,\n",
    "        \"t_stat\": t_stat,\n",
    "        \"p_value\": p_value\n",
    "    }\n",
    "    dfs.append(data_dict)"
   ]
  },
  {
   "cell_type": "code",
   "execution_count": 35,
   "metadata": {},
   "outputs": [],
   "source": [
    "p_values_df = pd.DataFrame(dfs)"
   ]
  },
  {
   "cell_type": "code",
   "execution_count": 37,
   "metadata": {},
   "outputs": [
    {
     "data": {
      "text/html": [
       "<div>\n",
       "<style scoped>\n",
       "    .dataframe tbody tr th:only-of-type {\n",
       "        vertical-align: middle;\n",
       "    }\n",
       "\n",
       "    .dataframe tbody tr th {\n",
       "        vertical-align: top;\n",
       "    }\n",
       "\n",
       "    .dataframe thead th {\n",
       "        text-align: right;\n",
       "    }\n",
       "</style>\n",
       "<table border=\"1\" class=\"dataframe\">\n",
       "  <thead>\n",
       "    <tr style=\"text-align: right;\">\n",
       "      <th></th>\n",
       "      <th>discipline</th>\n",
       "      <th>t_stat</th>\n",
       "      <th>p_value</th>\n",
       "    </tr>\n",
       "  </thead>\n",
       "  <tbody>\n",
       "    <tr>\n",
       "      <th>15</th>\n",
       "      <td>Social Sciences</td>\n",
       "      <td>15.053382</td>\n",
       "      <td>2.944239e-49</td>\n",
       "    </tr>\n",
       "    <tr>\n",
       "      <th>7</th>\n",
       "      <td>Science &amp; Mathematics</td>\n",
       "      <td>11.419577</td>\n",
       "      <td>1.458738e-28</td>\n",
       "    </tr>\n",
       "    <tr>\n",
       "      <th>0</th>\n",
       "      <td>Humanities</td>\n",
       "      <td>10.269758</td>\n",
       "      <td>4.055736e-24</td>\n",
       "    </tr>\n",
       "    <tr>\n",
       "      <th>5</th>\n",
       "      <td>History</td>\n",
       "      <td>9.531080</td>\n",
       "      <td>1.353542e-20</td>\n",
       "    </tr>\n",
       "    <tr>\n",
       "      <th>12</th>\n",
       "      <td>Area Studies</td>\n",
       "      <td>9.143820</td>\n",
       "      <td>2.268516e-19</td>\n",
       "    </tr>\n",
       "    <tr>\n",
       "      <th>...</th>\n",
       "      <td>...</td>\n",
       "      <td>...</td>\n",
       "      <td>...</td>\n",
       "    </tr>\n",
       "    <tr>\n",
       "      <th>68</th>\n",
       "      <td>American Indian Studies</td>\n",
       "      <td>0.723132</td>\n",
       "      <td>4.800372e-01</td>\n",
       "    </tr>\n",
       "    <tr>\n",
       "      <th>58</th>\n",
       "      <td>Gender Studies</td>\n",
       "      <td>0.606632</td>\n",
       "      <td>5.467863e-01</td>\n",
       "    </tr>\n",
       "    <tr>\n",
       "      <th>87</th>\n",
       "      <td>Transportation Studies</td>\n",
       "      <td>0.476307</td>\n",
       "      <td>6.399199e-01</td>\n",
       "    </tr>\n",
       "    <tr>\n",
       "      <th>80</th>\n",
       "      <td>Geology</td>\n",
       "      <td>0.469872</td>\n",
       "      <td>6.527323e-01</td>\n",
       "    </tr>\n",
       "    <tr>\n",
       "      <th>89</th>\n",
       "      <td>Astronomy</td>\n",
       "      <td>NaN</td>\n",
       "      <td>NaN</td>\n",
       "    </tr>\n",
       "  </tbody>\n",
       "</table>\n",
       "<p>90 rows × 3 columns</p>\n",
       "</div>"
      ],
      "text/plain": [
       "                 discipline     t_stat       p_value\n",
       "15          Social Sciences  15.053382  2.944239e-49\n",
       "7     Science & Mathematics  11.419577  1.458738e-28\n",
       "0                Humanities  10.269758  4.055736e-24\n",
       "5                   History   9.531080  1.353542e-20\n",
       "12             Area Studies   9.143820  2.268516e-19\n",
       "..                      ...        ...           ...\n",
       "68  American Indian Studies   0.723132  4.800372e-01\n",
       "58           Gender Studies   0.606632  5.467863e-01\n",
       "87   Transportation Studies   0.476307  6.399199e-01\n",
       "80                  Geology   0.469872  6.527323e-01\n",
       "89                Astronomy        NaN           NaN\n",
       "\n",
       "[90 rows x 3 columns]"
      ]
     },
     "execution_count": 37,
     "metadata": {},
     "output_type": "execute_result"
    }
   ],
   "source": [
    "p_values_df.sort_values(by=\"p_value\", ascending=True)"
   ]
  },
  {
   "cell_type": "markdown",
   "metadata": {},
   "source": [
    "#### Infer Publishers"
   ]
  },
  {
   "cell_type": "code",
   "execution_count": null,
   "metadata": {},
   "outputs": [],
   "source": [
    "def infer_missing_publisher(rows):\n",
    "    publisher_name = rows['publisher_name'].unique().tolist()\n",
    "    publisher_name = [x for x in publisher_name if pd.notnull(x)]\n",
    "\n",
    "    if len(publisher_name) > 1:\n",
    "        print(f\"Multiple publishers found for this publication {publisher_name}\")\n",
    "        publisher_name = ','.join(publisher_name)\n",
    "    if len(publisher_name) == 1:\n",
    "        publisher_name = publisher_name[0]\n",
    "    \n",
    "    if len(publisher_name) == 0:\n",
    "        publisher_name = np.nan\n",
    "    \n",
    "    rows['processed_publisher_name'] = publisher_name\n",
    "\n",
    "    return rows\n",
    "\n",
    "tqdm.pandas(desc=\"Infer missing publisher\")\n",
    "global_txt_file = global_txt_file.sort_values(by=['processed_date_first_issue_online'])\n",
    "global_txt_file = global_txt_file.groupby('lineage').progress_apply(infer_missing_publisher)"
   ]
  },
  {
   "cell_type": "code",
   "execution_count": 22,
   "metadata": {},
   "outputs": [
    {
     "data": {
      "text/plain": [
       "(2846, 4497)"
      ]
     },
     "execution_count": 22,
     "metadata": {},
     "output_type": "execute_result"
    }
   ],
   "source": [
    "lineage_global_txt_file = exploded_global_txt_file[['lineage', 'lineage_active_years', 'aggregated_disciplines', 'date_first_issue_online', 'date_last_issue_online', 'unique_lineage_discipline', 'aggregated_discipline_categories']].drop_duplicates()\n",
    "# get earliest and latest date_first_issue_online for each lineage\n",
    "lineage_global_txt_file = lineage_global_txt_file.groupby(['lineage',  'lineage_active_years', 'aggregated_disciplines', 'unique_lineage_discipline', 'aggregated_discipline_categories']).agg({'date_first_issue_online': 'min', 'date_last_issue_online': 'max'}).reset_index()\n",
    "len(lineage_global_txt_file), len(global_txt_file)"
   ]
  },
  {
   "cell_type": "markdown",
   "metadata": {},
   "source": [
    "#### Bin Publications Based on Inferred Length"
   ]
  },
  {
   "cell_type": "markdown",
   "metadata": {},
   "source": [
    "###### By Lineage"
   ]
  },
  {
   "cell_type": "code",
   "execution_count": null,
   "metadata": {},
   "outputs": [],
   "source": [
    "global_txt_file.groupby(['lineage', 'lineage_active_years', 'discipline'])"
   ]
  },
  {
   "cell_type": "code",
   "execution_count": null,
   "metadata": {},
   "outputs": [],
   "source": [
    "global_txt_file['lineage_active_years_bin'] = pd.qcut(global_txt_file['lineage_active_years'], q=4, duplicates='drop', labels=False)\n",
    "global_txt_file['lineage_active_years_bin'] = \"binned_\" + global_txt_file['lineage_active_years_bin'].astype(str) \n",
    "global_txt_file.lineage_active_years_bin.value_counts()"
   ]
  },
  {
   "cell_type": "code",
   "execution_count": null,
   "metadata": {},
   "outputs": [],
   "source": [
    "global_txt_file['coerced_date_first_issue_online'] = pd.to_datetime(global_txt_file['date_first_issue_online'], format='%Y-%m-%d', errors='coerce')\n",
    "global_txt_file['coerced_date_last_issue_online'] = pd.to_datetime(global_txt_file['date_last_issue_online'], format='%Y-%m-%d', errors='coerce')"
   ]
  },
  {
   "cell_type": "code",
   "execution_count": null,
   "metadata": {},
   "outputs": [],
   "source": [
    "lineage_numb_pubs_by_first_issue = alt.Chart(global_txt_file[['title_id', 'coerced_date_first_issue_online', 'lineage_active_years_bin', 'lineage_active_years']]).mark_bar().encode(\n",
    "    x='coerced_date_first_issue_online:T',\n",
    "    y='count()',\n",
    "    color='lineage_active_years_bin:N'\n",
    ").properties(\n",
    "    width=300,\n",
    "    height=150\n",
    ")\n",
    "\n",
    "lineage_years_pubs = alt.Chart(global_txt_file[['title_id', 'coerced_date_first_issue_online', 'lineage_active_years_bin', 'lineage_active_years']]).mark_bar().encode(\n",
    "    x='lineage_active_years:Q',\n",
    "    y='count()',\n",
    "    color='lineage_active_years_bin:N'\n",
    ").properties(\n",
    "    width=300,\n",
    "    height=150\n",
    ")\n",
    "lineage_years_pubs | lineage_numb_pubs_by_first_issue\n"
   ]
  },
  {
   "cell_type": "markdown",
   "metadata": {},
   "source": [
    "###### By Title"
   ]
  },
  {
   "cell_type": "code",
   "execution_count": null,
   "metadata": {},
   "outputs": [],
   "source": [
    "global_txt_file['title_active_years_bin'] = pd.qcut(global_txt_file['title_active_years'], q=4, duplicates='drop', labels=False)\n",
    "global_txt_file['title_active_years_bin'] = \"binned_\" + global_txt_file['title_active_years_bin'].astype(str) \n",
    "global_txt_file.title_active_years_bin.value_counts()"
   ]
  },
  {
   "cell_type": "code",
   "execution_count": null,
   "metadata": {},
   "outputs": [],
   "source": [
    "title_numb_pubs_by_first_issue = alt.Chart(global_txt_file[['title_id', 'coerced_date_first_issue_online', 'title_active_years_bin', 'title_active_years']]).mark_bar().encode(\n",
    "    x='coerced_date_first_issue_online:T',\n",
    "    y='count()',\n",
    "    color='title_active_years_bin:N'\n",
    ").properties(\n",
    "    width=300,\n",
    "    height=150\n",
    ")\n",
    "\n",
    "title_years_pubs = alt.Chart(global_txt_file[['title_id', 'coerced_date_first_issue_online', 'title_active_years_bin', 'title_active_years']]).mark_bar().encode(\n",
    "    x='title_active_years:Q',\n",
    "    y='count()',\n",
    "    color='title_active_years_bin:N'\n",
    ").properties(\n",
    "    width=300,\n",
    "    height=150\n",
    ")\n",
    "title_years_pubs | title_numb_pubs_by_first_issue\n"
   ]
  },
  {
   "cell_type": "code",
   "execution_count": null,
   "metadata": {},
   "outputs": [],
   "source": [
    "exploded_global_txt_file.columns"
   ]
  },
  {
   "cell_type": "code",
   "execution_count": null,
   "metadata": {},
   "outputs": [],
   "source": [
    "subset_exploded_global_txt_file = exploded_global_txt_file[['lineage', 'discipline_category', 'discipline_category_count_per_lineage', 'aggregated_discipline_categories', 'aggregated_disciplines', 'lineage_active_years', 'date_first_issue_online', 'date_last_issue_online']].drop_duplicates()\n",
    "# global_txt_file = global_txt_file.merge(subset_exploded_global_txt_file, on=['lineage', 'aggregated_disciplines'], how='left')"
   ]
  },
  {
   "cell_type": "code",
   "execution_count": null,
   "metadata": {},
   "outputs": [],
   "source": [
    "subset_exploded_global_txt_file"
   ]
  },
  {
   "cell_type": "code",
   "execution_count": null,
   "metadata": {},
   "outputs": [],
   "source": [
    "# Create a base chart\n",
    "# .isin(lineage_counts[lineage_counts['title_count'] > 3].lineage.unique())\n",
    "base = alt.Chart(subset_exploded_global_txt_file).encode(\n",
    "    y=alt.Y('lineage:N', sort='-x', title='Publication Title'),\n",
    "    x=alt.X('date_first_issue_online:T', title='Start Date'),\n",
    "    x2='date_last_issue_online:T',\n",
    "    color='aggregated_discipline_categories:N'\n",
    ")\n",
    "\n",
    "# Create the bars representing the duration of each publication\n",
    "bars = base.mark_bar().encode(\n",
    "    color=alt.Color('lineage_active_years:Q', scale=alt.Scale(scheme='blueorange'), legend=None)\n",
    ")\n",
    "\n",
    "# Text to show the duration on the bar\n",
    "# text = base.mark_text(\n",
    "#     align='left',\n",
    "#     baseline='middle',\n",
    "#     dx=3  # Nudges text to right so it doesn't appear on top of the bar\n",
    "# ).encode(\n",
    "#     text=alt.Text('lineage_active_years:Q', format='.1f')\n",
    "# )\n",
    "\n",
    "# Combine the bars and text\n",
    "chart = (bars \n",
    "        #  + text\n",
    "         ).properties(\n",
    "    width=800,\n",
    "    height=alt.Step(20)  # Controls the space between bars\n",
    ")\n",
    "\n",
    "chart\n"
   ]
  },
  {
   "cell_type": "code",
   "execution_count": null,
   "metadata": {},
   "outputs": [],
   "source": [
    "# # Define a function to propagate non-null disciplines within each group\n",
    "# def fill_missing_disciplines(rows):\n",
    "#     # If there are non-null disciplines within the rows, use the first one\n",
    "#     if rows['discipline'].notnull().any():\n",
    "#         # Fill missing values with the first non-null discipline in the rows\n",
    "#         rows['title_discipline'] = rows['discipline'].fillna(method='bfill').fillna(method='ffill')\n",
    "#     return rows\n",
    "\n",
    "# tqdm.pandas(desc=\"Fill in Disciplines\")\n",
    "# global_txt_file = global_txt_file.sort_values(by=\"processed_date_first_issue_online\")\n",
    "# global_txt_file = global_txt_file.groupby('title_id').progress_apply(fill_missing_disciplines)"
   ]
  },
  {
   "cell_type": "code",
   "execution_count": null,
   "metadata": {},
   "outputs": [],
   "source": [
    "# unique_disicipline_lineages = global_txt_file[global_txt_file['unique_discipline'] == False].lineage.unique().tolist()\n",
    "\n",
    "# for lineage in unique_disicipline_lineages:\n",
    "#     print(lineage)\n",
    "#     print(global_txt_file[global_txt_file['lineage'] == lineage].discipline.unique())\n",
    "#     print()"
   ]
  },
  {
   "cell_type": "code",
   "execution_count": null,
   "metadata": {},
   "outputs": [],
   "source": [
    "# global_txt_file.to_csv(f\"{data_directory_path}/processed_jstor_files/cleaned_jstor_titles.csv\", index=False)"
   ]
  },
  {
   "cell_type": "markdown",
   "metadata": {},
   "source": [
    "### Load Wiki Data for Journals"
   ]
  },
  {
   "cell_type": "code",
   "execution_count": null,
   "metadata": {},
   "outputs": [],
   "source": [
    "wiki_global_txt_file = pd.read_csv(f\"{data_directory_path}/processed_jstor_files/cleaned_jstor_titles_wiki.csv\")\n",
    "len(wiki_global_txt_file), len(global_txt_file)"
   ]
  },
  {
   "cell_type": "code",
   "execution_count": null,
   "metadata": {},
   "outputs": [],
   "source": [
    "global_txt_file['updated_discipline_count_per_lineage'] = global_txt_file.discipline_count_per_lineage"
   ]
  },
  {
   "cell_type": "code",
   "execution_count": null,
   "metadata": {},
   "outputs": [],
   "source": [
    "def update_wiki_dataframe(wiki_global_txt_file, global_txt_file):\n",
    "    cols = global_txt_file.columns.tolist()\n",
    "    wiki_cols = wiki_global_txt_file.columns.tolist()\n",
    "\n",
    "    non_existing_cols = [col for col in cols if col not in wiki_cols]\n",
    "\n",
    "    if len(non_existing_cols)> 0:\n",
    "        non_existing_wiki_cols = [col for col in wiki_cols if col not in cols]\n",
    "\n",
    "        print(non_existing_cols)\n",
    "        print(non_existing_wiki_cols)\n",
    "\n",
    "        subset_cols = ['title_id', 'parent_publication_title_id', 'preceding_publication_title_id', 'date_first_issue_online', 'lineage', 'parent']\n",
    "        merged_df = wiki_global_txt_file.merge(global_txt_file[subset_cols + non_existing_cols], on=subset_cols, how='left')\n",
    "        merged_df.to_csv(f\"{data_directory_path}/processed_jstor_files/cleaned_jstor_titles_wiki.csv\", index=False)\n",
    "    else:\n",
    "        merged_df = wiki_global_txt_file\n",
    "    return merged_df"
   ]
  },
  {
   "cell_type": "code",
   "execution_count": null,
   "metadata": {},
   "outputs": [],
   "source": [
    "wiki_global_txt_file = update_wiki_dataframe(wiki_global_txt_file, global_txt_file)"
   ]
  },
  {
   "cell_type": "code",
   "execution_count": null,
   "metadata": {},
   "outputs": [],
   "source": [
    "len(wiki_global_txt_file), len(global_txt_file)"
   ]
  },
  {
   "cell_type": "code",
   "execution_count": null,
   "metadata": {},
   "outputs": [],
   "source": [
    "wiki_global_txt_file['qid'] = wiki_global_txt_file.wikidata_url.str.split('/').str[-1]"
   ]
  },
  {
   "cell_type": "code",
   "execution_count": null,
   "metadata": {},
   "outputs": [],
   "source": [
    "wiki_global_txt_file.qid.nunique()"
   ]
  },
  {
   "cell_type": "markdown",
   "metadata": {},
   "source": [
    "#### Infer Wiki Data Based on Lineage"
   ]
  },
  {
   "cell_type": "code",
   "execution_count": null,
   "metadata": {},
   "outputs": [],
   "source": [
    "def propagate_wiki_data_within_lineage(group):\n",
    "    # Sort the group by publication date\n",
    "    group = group.sort_values(by='processed_date_first_issue_online')\n",
    "\n",
    "    # Initialize variables to store the last known values\n",
    "    last_wiki_url = None\n",
    "    last_wikidata_url = None\n",
    "    last_wikidata_title = None\n",
    "\n",
    "    # Iterate through the group and propagate Wikipedia and Wikidata data\n",
    "    for index, row in group.iterrows():\n",
    "        # Update the last known values if present\n",
    "        if pd.notnull(row['wikipedia_url']):\n",
    "            last_wiki_url = row['wikipedia_url']\n",
    "        if pd.notnull(row['wikidata_url']):\n",
    "            last_wikidata_url = row['wikidata_url']\n",
    "        if pd.notnull(row['wikidata_title']):\n",
    "            last_wikidata_title = row['wikidata_title']\n",
    "        \n",
    "        # Propagate to rows missing the data\n",
    "        if last_wiki_url is not None and pd.isnull(row['wikipedia_url']):\n",
    "            group.at[index, 'wikipedia_url'] = last_wiki_url\n",
    "        if last_wikidata_url is not None and pd.isnull(row['wikidata_url']):\n",
    "            group.at[index, 'wikidata_url'] = last_wikidata_url\n",
    "        if last_wikidata_title is not None and pd.isnull(row['wikidata_title']):\n",
    "            group.at[index, 'wikidata_title'] = last_wikidata_title\n",
    "\n",
    "    return group\n",
    "\n",
    "inferred_wiki_global_txt_file = wiki_global_txt_file.copy()\n",
    "# Apply the function to each lineage group\n",
    "tqdm.pandas(desc=\"Propagate Wiki Data\")\n",
    "inferred_wiki_global_txt_file = inferred_wiki_global_txt_file.groupby('lineage').progress_apply(propagate_wiki_data_within_lineage)\n",
    "\n"
   ]
  },
  {
   "cell_type": "code",
   "execution_count": null,
   "metadata": {},
   "outputs": [],
   "source": [
    "print(f\"So we have {len(inferred_wiki_global_txt_file[(inferred_wiki_global_txt_file.wikidata_title.notna()) | (inferred_wiki_global_txt_file.wikidata_url.notna()) | (inferred_wiki_global_txt_file.wikipedia_url.notna())])} titles with some form of Wiki data and {len(inferred_wiki_global_txt_file[(inferred_wiki_global_txt_file.wikidata_title.isna()) & (inferred_wiki_global_txt_file.wikidata_url.isna()) & (inferred_wiki_global_txt_file.wikipedia_url.isna())])} titles with no Wiki data.\")"
   ]
  },
  {
   "cell_type": "code",
   "execution_count": null,
   "metadata": {},
   "outputs": [],
   "source": [
    "def has_wiki(group, column_type):\n",
    "    if group['wikidata_title'].notnull().any() or group['wikidata_url'].notnull().any() or group['wikipedia_url'].notnull().any():\n",
    "        group[f'{column_type}_has_wiki'] = True\n",
    "    else:\n",
    "        group[f'{column_type}_has_wiki'] = False\n",
    "    return group\n",
    "\n",
    "tqdm.pandas(desc=\"Has Wiki\")\n",
    "inferred_wiki_global_txt_file = inferred_wiki_global_txt_file.groupby('lineage').progress_apply(has_wiki, column_type='lineage')\n",
    "inferred_wiki_global_txt_file = inferred_wiki_global_txt_file.groupby('title_id').progress_apply(has_wiki, column_type='title')"
   ]
  },
  {
   "cell_type": "code",
   "execution_count": null,
   "metadata": {},
   "outputs": [],
   "source": [
    "print(f\"So we have {len(inferred_wiki_global_txt_file[(inferred_wiki_global_txt_file.title_has_wiki == True) | (inferred_wiki_global_txt_file.lineage_has_wiki == True)])} titles with some form of Wiki data and {len(inferred_wiki_global_txt_file[(inferred_wiki_global_txt_file.title_has_wiki == False) & (inferred_wiki_global_txt_file.lineage_has_wiki == False)])} titles with no Wiki data.\")"
   ]
  },
  {
   "cell_type": "code",
   "execution_count": null,
   "metadata": {},
   "outputs": [],
   "source": [
    "inferred_wiki_global_txt_file.to_csv(f\"{data_directory_path}/processed_jstor_files/cleaned_jstor_titles_inferred_wiki.csv\", index=False)"
   ]
  },
  {
   "cell_type": "code",
   "execution_count": null,
   "metadata": {},
   "outputs": [],
   "source": []
  }
 ],
 "metadata": {
  "kernelspec": {
   "display_name": "data-work-env",
   "language": "python",
   "name": "python3"
  },
  "language_info": {
   "codemirror_mode": {
    "name": "ipython",
    "version": 3
   },
   "file_extension": ".py",
   "mimetype": "text/x-python",
   "name": "python",
   "nbconvert_exporter": "python",
   "pygments_lexer": "ipython3",
   "version": "3.9.18"
  },
  "orig_nbformat": 4
 },
 "nbformat": 4,
 "nbformat_minor": 2
}
